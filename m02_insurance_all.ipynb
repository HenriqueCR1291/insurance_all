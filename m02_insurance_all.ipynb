{
 "cells": [
  {
   "cell_type": "code",
   "execution_count": 5,
   "metadata": {
    "ExecuteTime": {
     "end_time": "2021-10-01T22:07:01.579122Z",
     "start_time": "2021-10-01T22:07:01.561134Z"
    }
   },
   "outputs": [],
   "source": [
    "#!pip install apt-get\n",
    "#!pip install sqlite3\n",
    "#!pip install sqlalchemy\n",
    "#!pip install psycopg2"
   ]
  },
  {
   "cell_type": "markdown",
   "metadata": {
    "heading_collapsed": true
   },
   "source": [
    "# Business Problem"
   ]
  },
  {
   "cell_type": "markdown",
   "metadata": {
    "hidden": true
   },
   "source": [
    "A **Insurance All** é uma empresa que fornece seguro de saúde para seus clientes e o time de produtos está analisando a possibilidade de oferecer aos assegurados, um novo produto: Um seguro de automóveis.\n",
    "\n",
    "Assim como o seguro de saúde, os clientes desse novo plano de seguro de automóveis precisam pagar um valor anualmente à Insurance All para obter um valor assegurado pela empresa, destinado aos custos de um eventual acidente ou dano ao veículo.\n",
    "\n",
    "A Insurance All fez uma pesquisa com cerca de 380 mil clientes sobre o interesse em aderir a um novo produto de seguro de automóveis, no ano passado. Todos os clientes demonstraram interesse ou não em adquirir o seguro de automóvel e essas respostas ficaram salvas em um banco de dados junto com outros atributos dos clientes.\n",
    "\n",
    "O time de produtos selecionou 127 mil novos clientes que não responderam a pesquisa para participar de uma campanha, no qual receberão a oferta do novo produto de seguro de automóveis. A oferta será feita pelo time de vendas através de ligações telefônicas.\n",
    "\n",
    "Contudo, o time de vendas tem uma capacidade de realizar 20 mil ligações dentro do período da campanha."
   ]
  },
  {
   "cell_type": "markdown",
   "metadata": {
    "hidden": true
   },
   "source": [
    "Nesse contexto, você foi contratado como um consultor de Ciência de Dados para construir um modelo que prediz se o cliente estaria ou não interessado no seguro de automóvel. \n",
    "\n",
    "Com a sua solução, o time de vendas espera conseguir priorizar as pessoas com maior interesse no novo produto e assim, otimizar a campanha realizando apenas contatos aos clientes mais propensos a realizar a compra.\n",
    "\n",
    "Como resultado da sua consultoria, você precisará entregar um relatório contendo algumas análises e respostas às seguintes perguntas:\n",
    "\n",
    "1) Principais Insights sobre os atributos mais relevantes de clientes interessados em adquirir um seguro de automóvel.\n",
    "\n",
    "2) Qual a porcentagem de clientes interessados em adquirir um seguro de automóvel, o time de vendas conseguirá contatar fazendo 20.000 ligações?\n",
    "\n",
    "3) E se a capacidade do time de vendas aumentar para 40.000 ligações, qual a porcentagem de clientes interessados em adquirir um seguro de automóvel o time de vendas conseguirá contatar?\n",
    "\n",
    "4) Quantas ligações o time de vendas precisa fazer para contatar 80% dos clientes interessados em adquirir um seguro de automóvel?"
   ]
  },
  {
   "cell_type": "markdown",
   "metadata": {
    "hidden": true
   },
   "source": [
    "**Business Problem**\n",
    "\n",
    "    1) Principais Insights sobre os atributos mais relevantes de clientes interessados em adquirir um seguro de automóvel.\n",
    "\n",
    "\n",
    "**Final Product**\n",
    "1. Principais insights dos atributos dos clientes\n",
    "\n",
    "2. Formato da entrega\n",
    "    Gráficos/Tabela\n",
    "    \n",
    "3. Local da entrega\n",
    "    Telegram/PowerBI\n",
    "\n",
    "\n",
    "**Process**\n",
    "1. Passo a passo\n",
    "    - Realizar feature engineering na base de dados (1º bd - 380K) dos clientes interessados e levantar as hipóteses para cada atributo a ser validada; \n",
    "    - No EDA validar as hipóteses e identificar insights dos clientes interessados;\n",
    "\n",
    "\n",
    "2. Definir o formato da entrega (visualizaçao, tabela, frase)\n",
    "    - Gráficos que melhor demonstrem as informaçoes.\n",
    "    - Utilizar os seguintes parâmetros: Id | Gender | Age | Driving License | Region Code | Previously Insured | Vehicle Age | Vehicle Damage | Anual Premium | Policy sales channel | Vintage |\n",
    "    - Definiçao do schema: colunas e seu tipo\n",
    "    - Definição da infraestrutura de armazenamento (SQLITE3)\n",
    "    - Design do ETL (Scripts de Extração, Transformação e Carga)\n",
    "    - Planejamento de agendamento dos scripts (dependência entre os scripts)\n",
    "    - Fazer as visualizações\n",
    "    - Entrega do produto final\n",
    "\n",
    "\n",
    "3. Decidir o local de entrega (powerBi, telegram, email, streamlit, intranet)\n",
    "    - PowerBI, Telegram\n",
    "    \n",
    "    \n",
    "**Enter**\n",
    "1. Fonte de dados:\n",
    "    - Site da Kaggle\n",
    "    - BD na AWS\n",
    "\n",
    "2. Ferramentas:\n",
    "    - Pyhton 3.8.0\n",
    "    - AWS\n",
    "    - Pycharm\n",
    "    - Jupyter Notebook (análises e prototipagens)\n",
    "    - Crontjob, Airflow\n",
    "    - Streamlit\n",
    "    - PowerBI\n",
    "    - Telegram"
   ]
  },
  {
   "cell_type": "markdown",
   "metadata": {
    "ExecuteTime": {
     "end_time": "2021-09-25T11:53:28.785502Z",
     "start_time": "2021-09-25T11:53:28.747527Z"
    },
    "hidden": true
   },
   "source": [
    "**Business Problem**\n",
    "\n",
    "    2) Qual a porcentagem de clientes interessados em adquirir um seguro de automóvel, o time de vendas conseguirá contatar fazendo 20.000 ligações?\n",
    "    3) E se a capacidade do time de vendas aumentar para 40.000 ligações, qual a porcentagem de clientes interessados em adquirir um seguro de automóvel o time de vendas conseguirá contatar?\n",
    "    4) Quantas ligações o time de vendas precisa fazer para contatar 80% dos clientes interessados em adquirir um seguro de automóvel?\n",
    "\n",
    "\n",
    "**Final Product**\n",
    "1. Percentual de clientes interessados da base e se poderá atender o limite de 20K/40K ligaçoes\n",
    "\n",
    "2. Formato da entrega\n",
    "    Gráfico ou tabela\n",
    "    \n",
    "3. Local da entrega\n",
    "    Telegram\n",
    "\n",
    "\n",
    "**Process**\n",
    "1. Passo a passo\n",
    "    - Realizar análise da base de dados (2 bd 127 K) e aplicar modelos de ML para obter os atributos que definem\n",
    "        o cliente com maior probabilidade de adquirir o seguro. Com essas características definir a quantidade \n",
    "        de clientes potenciais e se e possível atender com 20/40K ligaçoes.\n",
    "\n",
    "2. Definir o formato da entrega (visualizaçao, tabela, frase)\n",
    "    - Gráfico ou tabela\n",
    "\n",
    "3. Decidir o local de entrega (powerBi, telegram, email, streamlit, intranet)\n",
    "    - PowerBI, Telegram\n",
    "    \n",
    "    \n",
    "**Enter**\n",
    "1. Fonte de dados:\n",
    "    - Site da Kaggle\n",
    "    - BD na AWS\n",
    "\n",
    "2. Ferramentas:\n",
    "    - Pyhton 3.8.0\n",
    "    - AWS\n",
    "    - Pycharm\n",
    "    - Jupyter Notebook (análises e prototipagens)\n",
    "    - Crontjob, Airflow\n",
    "    - Streamlit\n",
    "    - PowerBI\n",
    "    - Telegram"
   ]
  },
  {
   "cell_type": "markdown",
   "metadata": {},
   "source": [
    "# Imports and credentials"
   ]
  },
  {
   "cell_type": "code",
   "execution_count": 45,
   "metadata": {
    "ExecuteTime": {
     "end_time": "2021-10-01T23:33:04.097459Z",
     "start_time": "2021-10-01T23:33:03.527769Z"
    }
   },
   "outputs": [],
   "source": [
    "import csv\n",
    "\n",
    "import numpy         as np\n",
    "import pandas        as pd\n",
    "import seaborn       as sns\n",
    "import psycopg2      as pg \n",
    "import pandas.io.sql as psql\n",
    "\n",
    "from numpy           import cov\n",
    "from scipy.stats     import pearsonr\n",
    "from prettytable     import PrettyTable\n",
    "from IPython.display import Image"
   ]
  },
  {
   "cell_type": "code",
   "execution_count": 7,
   "metadata": {
    "ExecuteTime": {
     "end_time": "2021-10-01T22:07:01.938248Z",
     "start_time": "2021-10-01T22:07:01.769704Z"
    }
   },
   "outputs": [],
   "source": [
    "#credentials\n",
    "host = '{host}'\n",
    "port  = 5432\n",
    "database = '{database}'\n",
    "user = '{user}'\n",
    "password = '{password}'"
   ]
  },
  {
   "cell_type": "code",
   "execution_count": 8,
   "metadata": {
    "ExecuteTime": {
     "end_time": "2021-10-01T22:07:03.198491Z",
     "start_time": "2021-10-01T22:07:01.940245Z"
    }
   },
   "outputs": [],
   "source": [
    "#connect\n",
    "conn = pg.connect(host=host,\n",
    "                 port=port,\n",
    "                 database=database,\n",
    "                 user=user,\n",
    "                 password=password)"
   ]
  },
  {
   "cell_type": "markdown",
   "metadata": {
    "heading_collapsed": true
   },
   "source": [
    "# 1.0 Schema Query"
   ]
  },
  {
   "cell_type": "code",
   "execution_count": 9,
   "metadata": {
    "ExecuteTime": {
     "end_time": "2021-10-01T22:07:03.527525Z",
     "start_time": "2021-10-01T22:07:03.200486Z"
    },
    "hidden": true
   },
   "outputs": [],
   "source": [
    "cursor = conn.cursor()\n",
    "\n",
    "query_schema = \"\"\"\n",
    "    SELECT nspname\n",
    "    FROM pg_catalog.pg_namespace\n",
    "\n",
    "\"\"\"\n",
    "\n",
    "cursor.execute(query_schema)"
   ]
  },
  {
   "cell_type": "code",
   "execution_count": 10,
   "metadata": {
    "ExecuteTime": {
     "end_time": "2021-10-01T22:07:03.543517Z",
     "start_time": "2021-10-01T22:07:03.529525Z"
    },
    "hidden": true
   },
   "outputs": [
    {
     "name": "stdout",
     "output_type": "stream",
     "text": [
      "[('pg_toast',), ('pg_temp_1',), ('pg_toast_temp_1',), ('pg_catalog',), ('information_schema',), ('public',), ('pa004',), ('pg_temp_4',), ('pg_toast_temp_4',), ('pa005',), ('pg_temp_9',), ('pg_toast_temp_9',)]\n"
     ]
    }
   ],
   "source": [
    "records = cursor.fetchall()\n",
    "print(records)\n",
    "#cursor.close()\n",
    "#conn.close()"
   ]
  },
  {
   "cell_type": "markdown",
   "metadata": {
    "heading_collapsed": true
   },
   "source": [
    "# 2.0 Table Query"
   ]
  },
  {
   "cell_type": "code",
   "execution_count": 11,
   "metadata": {
    "ExecuteTime": {
     "end_time": "2021-10-01T22:07:03.856536Z",
     "start_time": "2021-10-01T22:07:03.545516Z"
    },
    "hidden": true
   },
   "outputs": [],
   "source": [
    "cursor = conn.cursor()\n",
    "\n",
    "query_tables = \"\"\"\n",
    "    SELECT tablename\n",
    "    FROM pg_tables\n",
    "    WHERE schemaname = 'pa004'\n",
    "\n",
    "\"\"\"\n",
    "\n",
    "cursor.execute(query_tables)"
   ]
  },
  {
   "cell_type": "code",
   "execution_count": 12,
   "metadata": {
    "ExecuteTime": {
     "end_time": "2021-10-01T22:07:03.886795Z",
     "start_time": "2021-10-01T22:07:03.859537Z"
    },
    "hidden": true
   },
   "outputs": [
    {
     "name": "stdout",
     "output_type": "stream",
     "text": [
      "[('users',), ('vehicle',), ('insurance',)]\n"
     ]
    }
   ],
   "source": [
    "records = cursor.fetchall()\n",
    "print(records)\n",
    "#cursor.close()\n",
    "#conn.close()"
   ]
  },
  {
   "cell_type": "markdown",
   "metadata": {
    "ExecuteTime": {
     "end_time": "2021-09-26T21:44:41.630281Z",
     "start_time": "2021-09-26T21:44:41.626283Z"
    },
    "heading_collapsed": true
   },
   "source": [
    "# 3.0 Collect Data using Psycopg2"
   ]
  },
  {
   "cell_type": "code",
   "execution_count": 13,
   "metadata": {
    "ExecuteTime": {
     "end_time": "2021-10-01T22:07:04.227381Z",
     "start_time": "2021-10-01T22:07:03.890794Z"
    },
    "hidden": true
   },
   "outputs": [],
   "source": [
    "cursor = conn.cursor()\n",
    "\n",
    "query_tables_users = \"\"\"\n",
    "    SELECT *\n",
    "    FROM pa004.users u\n",
    "    WHERE u.age >40\n",
    "    limit 10\n",
    "\n",
    "\"\"\"\n",
    "\n",
    "cursor.execute(query_tables_users)"
   ]
  },
  {
   "cell_type": "code",
   "execution_count": 14,
   "metadata": {
    "ExecuteTime": {
     "end_time": "2021-10-01T22:07:04.289674Z",
     "start_time": "2021-10-01T22:07:04.229381Z"
    },
    "hidden": true
   },
   "outputs": [
    {
     "name": "stdout",
     "output_type": "stream",
     "text": [
      "[(1, 'Male', 44, 28.0, 26.0), (2, 'Male', 76, 3.0, 26.0), (3, 'Male', 47, 28.0, 26.0), (8, 'Female', 56, 28.0, 26.0), (11, 'Female', 47, 35.0, 124.0), (13, 'Female', 41, 15.0, 14.0), (14, 'Male', 76, 28.0, 13.0), (15, 'Male', 71, 28.0, 30.0), (19, 'Male', 42, 28.0, 124.0), (20, 'Female', 60, 33.0, 124.0)]\n"
     ]
    }
   ],
   "source": [
    "records = cursor.fetchall()\n",
    "print(records)\n",
    "#cursor.close()\n",
    "#conn.close()"
   ]
  },
  {
   "cell_type": "code",
   "execution_count": 15,
   "metadata": {
    "ExecuteTime": {
     "end_time": "2021-10-01T22:07:04.896368Z",
     "start_time": "2021-10-01T22:07:04.291670Z"
    },
    "hidden": true
   },
   "outputs": [
    {
     "data": {
      "text/html": [
       "<div>\n",
       "<style scoped>\n",
       "    .dataframe tbody tr th:only-of-type {\n",
       "        vertical-align: middle;\n",
       "    }\n",
       "\n",
       "    .dataframe tbody tr th {\n",
       "        vertical-align: top;\n",
       "    }\n",
       "\n",
       "    .dataframe thead th {\n",
       "        text-align: right;\n",
       "    }\n",
       "</style>\n",
       "<table border=\"1\" class=\"dataframe\">\n",
       "  <thead>\n",
       "    <tr style=\"text-align: right;\">\n",
       "      <th></th>\n",
       "      <th>0</th>\n",
       "      <th>1</th>\n",
       "      <th>2</th>\n",
       "      <th>3</th>\n",
       "      <th>4</th>\n",
       "    </tr>\n",
       "  </thead>\n",
       "  <tbody>\n",
       "    <tr>\n",
       "      <th>0</th>\n",
       "      <td>1</td>\n",
       "      <td>Male</td>\n",
       "      <td>44</td>\n",
       "      <td>28.0</td>\n",
       "      <td>26.0</td>\n",
       "    </tr>\n",
       "    <tr>\n",
       "      <th>1</th>\n",
       "      <td>2</td>\n",
       "      <td>Male</td>\n",
       "      <td>76</td>\n",
       "      <td>3.0</td>\n",
       "      <td>26.0</td>\n",
       "    </tr>\n",
       "    <tr>\n",
       "      <th>2</th>\n",
       "      <td>3</td>\n",
       "      <td>Male</td>\n",
       "      <td>47</td>\n",
       "      <td>28.0</td>\n",
       "      <td>26.0</td>\n",
       "    </tr>\n",
       "    <tr>\n",
       "      <th>3</th>\n",
       "      <td>8</td>\n",
       "      <td>Female</td>\n",
       "      <td>56</td>\n",
       "      <td>28.0</td>\n",
       "      <td>26.0</td>\n",
       "    </tr>\n",
       "    <tr>\n",
       "      <th>4</th>\n",
       "      <td>11</td>\n",
       "      <td>Female</td>\n",
       "      <td>47</td>\n",
       "      <td>35.0</td>\n",
       "      <td>124.0</td>\n",
       "    </tr>\n",
       "  </tbody>\n",
       "</table>\n",
       "</div>"
      ],
      "text/plain": [
       "    0       1   2     3      4\n",
       "0   1    Male  44  28.0   26.0\n",
       "1   2    Male  76   3.0   26.0\n",
       "2   3    Male  47  28.0   26.0\n",
       "3   8  Female  56  28.0   26.0\n",
       "4  11  Female  47  35.0  124.0"
      ]
     },
     "execution_count": 15,
     "metadata": {},
     "output_type": "execute_result"
    }
   ],
   "source": [
    "data = pd.DataFrame(records)\n",
    "data.head()"
   ]
  },
  {
   "cell_type": "markdown",
   "metadata": {
    "heading_collapsed": true
   },
   "source": [
    "# 4.0 Collect using Pandas"
   ]
  },
  {
   "cell_type": "code",
   "execution_count": 16,
   "metadata": {
    "ExecuteTime": {
     "end_time": "2021-10-01T22:07:21.641695Z",
     "start_time": "2021-10-01T22:07:04.898367Z"
    },
    "hidden": true
   },
   "outputs": [
    {
     "data": {
      "text/html": [
       "<div>\n",
       "<style scoped>\n",
       "    .dataframe tbody tr th:only-of-type {\n",
       "        vertical-align: middle;\n",
       "    }\n",
       "\n",
       "    .dataframe tbody tr th {\n",
       "        vertical-align: top;\n",
       "    }\n",
       "\n",
       "    .dataframe thead th {\n",
       "        text-align: right;\n",
       "    }\n",
       "</style>\n",
       "<table border=\"1\" class=\"dataframe\">\n",
       "  <thead>\n",
       "    <tr style=\"text-align: right;\">\n",
       "      <th></th>\n",
       "      <th>id</th>\n",
       "      <th>gender</th>\n",
       "      <th>age</th>\n",
       "      <th>region_code</th>\n",
       "      <th>policy_sales_channel</th>\n",
       "    </tr>\n",
       "  </thead>\n",
       "  <tbody>\n",
       "    <tr>\n",
       "      <th>0</th>\n",
       "      <td>1</td>\n",
       "      <td>Male</td>\n",
       "      <td>44</td>\n",
       "      <td>28.0</td>\n",
       "      <td>26.0</td>\n",
       "    </tr>\n",
       "    <tr>\n",
       "      <th>1</th>\n",
       "      <td>2</td>\n",
       "      <td>Male</td>\n",
       "      <td>76</td>\n",
       "      <td>3.0</td>\n",
       "      <td>26.0</td>\n",
       "    </tr>\n",
       "    <tr>\n",
       "      <th>2</th>\n",
       "      <td>3</td>\n",
       "      <td>Male</td>\n",
       "      <td>47</td>\n",
       "      <td>28.0</td>\n",
       "      <td>26.0</td>\n",
       "    </tr>\n",
       "    <tr>\n",
       "      <th>3</th>\n",
       "      <td>4</td>\n",
       "      <td>Male</td>\n",
       "      <td>21</td>\n",
       "      <td>11.0</td>\n",
       "      <td>152.0</td>\n",
       "    </tr>\n",
       "    <tr>\n",
       "      <th>4</th>\n",
       "      <td>5</td>\n",
       "      <td>Female</td>\n",
       "      <td>29</td>\n",
       "      <td>41.0</td>\n",
       "      <td>152.0</td>\n",
       "    </tr>\n",
       "  </tbody>\n",
       "</table>\n",
       "</div>"
      ],
      "text/plain": [
       "   id  gender  age  region_code  policy_sales_channel\n",
       "0   1    Male   44         28.0                  26.0\n",
       "1   2    Male   76          3.0                  26.0\n",
       "2   3    Male   47         28.0                  26.0\n",
       "3   4    Male   21         11.0                 152.0\n",
       "4   5  Female   29         41.0                 152.0"
      ]
     },
     "execution_count": 16,
     "metadata": {},
     "output_type": "execute_result"
    }
   ],
   "source": [
    "query_tables_users = \"\"\"\n",
    "    SELECT *\n",
    "    FROM pa004.users u\n",
    "\"\"\"\n",
    "\n",
    "df_users = psql.read_sql(query_tables_users,conn)\n",
    "df_users.head()"
   ]
  },
  {
   "cell_type": "code",
   "execution_count": 17,
   "metadata": {
    "ExecuteTime": {
     "end_time": "2021-10-01T22:07:50.617104Z",
     "start_time": "2021-10-01T22:07:21.643693Z"
    },
    "hidden": true
   },
   "outputs": [
    {
     "data": {
      "text/html": [
       "<div>\n",
       "<style scoped>\n",
       "    .dataframe tbody tr th:only-of-type {\n",
       "        vertical-align: middle;\n",
       "    }\n",
       "\n",
       "    .dataframe tbody tr th {\n",
       "        vertical-align: top;\n",
       "    }\n",
       "\n",
       "    .dataframe thead th {\n",
       "        text-align: right;\n",
       "    }\n",
       "</style>\n",
       "<table border=\"1\" class=\"dataframe\">\n",
       "  <thead>\n",
       "    <tr style=\"text-align: right;\">\n",
       "      <th></th>\n",
       "      <th>id</th>\n",
       "      <th>driving_license</th>\n",
       "      <th>vehicle_age</th>\n",
       "      <th>vehicle_damage</th>\n",
       "    </tr>\n",
       "  </thead>\n",
       "  <tbody>\n",
       "    <tr>\n",
       "      <th>0</th>\n",
       "      <td>1</td>\n",
       "      <td>1</td>\n",
       "      <td>&gt; 2 Years</td>\n",
       "      <td>Yes</td>\n",
       "    </tr>\n",
       "    <tr>\n",
       "      <th>1</th>\n",
       "      <td>2</td>\n",
       "      <td>1</td>\n",
       "      <td>1-2 Year</td>\n",
       "      <td>No</td>\n",
       "    </tr>\n",
       "    <tr>\n",
       "      <th>2</th>\n",
       "      <td>3</td>\n",
       "      <td>1</td>\n",
       "      <td>&gt; 2 Years</td>\n",
       "      <td>Yes</td>\n",
       "    </tr>\n",
       "    <tr>\n",
       "      <th>3</th>\n",
       "      <td>4</td>\n",
       "      <td>1</td>\n",
       "      <td>&lt; 1 Year</td>\n",
       "      <td>No</td>\n",
       "    </tr>\n",
       "    <tr>\n",
       "      <th>4</th>\n",
       "      <td>5</td>\n",
       "      <td>1</td>\n",
       "      <td>&lt; 1 Year</td>\n",
       "      <td>No</td>\n",
       "    </tr>\n",
       "  </tbody>\n",
       "</table>\n",
       "</div>"
      ],
      "text/plain": [
       "   id  driving_license vehicle_age vehicle_damage\n",
       "0   1                1   > 2 Years            Yes\n",
       "1   2                1    1-2 Year             No\n",
       "2   3                1   > 2 Years            Yes\n",
       "3   4                1    < 1 Year             No\n",
       "4   5                1    < 1 Year             No"
      ]
     },
     "execution_count": 17,
     "metadata": {},
     "output_type": "execute_result"
    }
   ],
   "source": [
    "query_tables_vehicle = \"\"\"\n",
    "    SELECT *\n",
    "    FROM pa004.vehicle v\n",
    "\"\"\"\n",
    "\n",
    "df_vehicle = psql.read_sql(query_tables_vehicle,conn)\n",
    "df_vehicle.head()"
   ]
  },
  {
   "cell_type": "code",
   "execution_count": 18,
   "metadata": {
    "ExecuteTime": {
     "end_time": "2021-10-01T22:08:07.314062Z",
     "start_time": "2021-10-01T22:07:50.618103Z"
    },
    "hidden": true
   },
   "outputs": [
    {
     "data": {
      "text/html": [
       "<div>\n",
       "<style scoped>\n",
       "    .dataframe tbody tr th:only-of-type {\n",
       "        vertical-align: middle;\n",
       "    }\n",
       "\n",
       "    .dataframe tbody tr th {\n",
       "        vertical-align: top;\n",
       "    }\n",
       "\n",
       "    .dataframe thead th {\n",
       "        text-align: right;\n",
       "    }\n",
       "</style>\n",
       "<table border=\"1\" class=\"dataframe\">\n",
       "  <thead>\n",
       "    <tr style=\"text-align: right;\">\n",
       "      <th></th>\n",
       "      <th>id</th>\n",
       "      <th>previously_insured</th>\n",
       "      <th>annual_premium</th>\n",
       "      <th>vintage</th>\n",
       "      <th>response</th>\n",
       "    </tr>\n",
       "  </thead>\n",
       "  <tbody>\n",
       "    <tr>\n",
       "      <th>0</th>\n",
       "      <td>1</td>\n",
       "      <td>0</td>\n",
       "      <td>40454.0</td>\n",
       "      <td>217</td>\n",
       "      <td>1</td>\n",
       "    </tr>\n",
       "    <tr>\n",
       "      <th>1</th>\n",
       "      <td>2</td>\n",
       "      <td>0</td>\n",
       "      <td>33536.0</td>\n",
       "      <td>183</td>\n",
       "      <td>0</td>\n",
       "    </tr>\n",
       "    <tr>\n",
       "      <th>2</th>\n",
       "      <td>3</td>\n",
       "      <td>0</td>\n",
       "      <td>38294.0</td>\n",
       "      <td>27</td>\n",
       "      <td>1</td>\n",
       "    </tr>\n",
       "    <tr>\n",
       "      <th>3</th>\n",
       "      <td>4</td>\n",
       "      <td>1</td>\n",
       "      <td>28619.0</td>\n",
       "      <td>203</td>\n",
       "      <td>0</td>\n",
       "    </tr>\n",
       "    <tr>\n",
       "      <th>4</th>\n",
       "      <td>5</td>\n",
       "      <td>1</td>\n",
       "      <td>27496.0</td>\n",
       "      <td>39</td>\n",
       "      <td>0</td>\n",
       "    </tr>\n",
       "  </tbody>\n",
       "</table>\n",
       "</div>"
      ],
      "text/plain": [
       "   id  previously_insured  annual_premium  vintage  response\n",
       "0   1                   0         40454.0      217         1\n",
       "1   2                   0         33536.0      183         0\n",
       "2   3                   0         38294.0       27         1\n",
       "3   4                   1         28619.0      203         0\n",
       "4   5                   1         27496.0       39         0"
      ]
     },
     "execution_count": 18,
     "metadata": {},
     "output_type": "execute_result"
    }
   ],
   "source": [
    "query_tables_insurance = \"\"\"\n",
    "    SELECT *\n",
    "    FROM pa004.insurance i\n",
    "\"\"\"\n",
    "\n",
    "df_insurance = psql.read_sql(query_tables_insurance,conn)\n",
    "df_insurance.head()"
   ]
  },
  {
   "cell_type": "code",
   "execution_count": 19,
   "metadata": {
    "ExecuteTime": {
     "end_time": "2021-10-01T22:09:13.975864Z",
     "start_time": "2021-10-01T22:08:07.316058Z"
    },
    "hidden": true
   },
   "outputs": [],
   "source": [
    "query_tables_all = \"\"\"\n",
    "    SELECT *\n",
    "    FROM pa004.insurance i inner join pa004.vehicle v on (i.id = v.id)\n",
    "                           inner join pa004.users u on (i.id = u.id)\n",
    "\"\"\"\n",
    "\n",
    "df = psql.read_sql(query_tables_all,conn)\n"
   ]
  },
  {
   "cell_type": "code",
   "execution_count": 20,
   "metadata": {
    "ExecuteTime": {
     "end_time": "2021-10-01T22:09:17.075815Z",
     "start_time": "2021-10-01T22:09:13.976858Z"
    },
    "hidden": true
   },
   "outputs": [],
   "source": [
    "df.to_csv('data.csv')"
   ]
  },
  {
   "cell_type": "code",
   "execution_count": 21,
   "metadata": {
    "ExecuteTime": {
     "end_time": "2021-10-01T22:09:18.008368Z",
     "start_time": "2021-10-01T22:09:17.076822Z"
    },
    "hidden": true
   },
   "outputs": [],
   "source": [
    "df = pd.read_csv('data.csv')\n",
    "df = df.drop(['Unnamed: 0', 'id.1', 'id.2'], axis=1)"
   ]
  },
  {
   "cell_type": "markdown",
   "metadata": {},
   "source": [
    "# 1.0. Data Description"
   ]
  },
  {
   "cell_type": "code",
   "execution_count": 22,
   "metadata": {
    "ExecuteTime": {
     "end_time": "2021-10-01T22:09:18.039347Z",
     "start_time": "2021-10-01T22:09:18.010365Z"
    }
   },
   "outputs": [],
   "source": [
    "df1 = df.copy()"
   ]
  },
  {
   "cell_type": "markdown",
   "metadata": {
    "heading_collapsed": true
   },
   "source": [
    "## 1.1. Data Dimensions"
   ]
  },
  {
   "cell_type": "code",
   "execution_count": 23,
   "metadata": {
    "ExecuteTime": {
     "end_time": "2021-10-01T22:09:18.385394Z",
     "start_time": "2021-10-01T22:09:18.041345Z"
    },
    "hidden": true
   },
   "outputs": [
    {
     "name": "stdout",
     "output_type": "stream",
     "text": [
      "Number of columns:  12\n",
      "Number of rows:  381109\n"
     ]
    }
   ],
   "source": [
    "print('Number of columns: ', df1.shape[1])\n",
    "print('Number of rows: ', df1.shape[0])"
   ]
  },
  {
   "cell_type": "markdown",
   "metadata": {
    "heading_collapsed": true
   },
   "source": [
    "## 1.2. Data Types"
   ]
  },
  {
   "cell_type": "code",
   "execution_count": 24,
   "metadata": {
    "ExecuteTime": {
     "end_time": "2021-10-01T22:09:18.526954Z",
     "start_time": "2021-10-01T22:09:18.388392Z"
    },
    "hidden": true
   },
   "outputs": [
    {
     "data": {
      "text/plain": [
       "id                        int64\n",
       "previously_insured        int64\n",
       "annual_premium          float64\n",
       "vintage                   int64\n",
       "response                  int64\n",
       "driving_license           int64\n",
       "vehicle_age              object\n",
       "vehicle_damage           object\n",
       "gender                   object\n",
       "age                       int64\n",
       "region_code             float64\n",
       "policy_sales_channel    float64\n",
       "dtype: object"
      ]
     },
     "execution_count": 24,
     "metadata": {},
     "output_type": "execute_result"
    }
   ],
   "source": [
    "df1.dtypes"
   ]
  },
  {
   "cell_type": "markdown",
   "metadata": {
    "heading_collapsed": true
   },
   "source": [
    "## 1.3. Checking NA"
   ]
  },
  {
   "cell_type": "code",
   "execution_count": 25,
   "metadata": {
    "ExecuteTime": {
     "end_time": "2021-10-01T22:09:18.668867Z",
     "start_time": "2021-10-01T22:09:18.528954Z"
    },
    "hidden": true
   },
   "outputs": [
    {
     "data": {
      "text/plain": [
       "id                      0\n",
       "previously_insured      0\n",
       "annual_premium          0\n",
       "vintage                 0\n",
       "response                0\n",
       "driving_license         0\n",
       "vehicle_age             0\n",
       "vehicle_damage          0\n",
       "gender                  0\n",
       "age                     0\n",
       "region_code             0\n",
       "policy_sales_channel    0\n",
       "dtype: int64"
      ]
     },
     "execution_count": 25,
     "metadata": {},
     "output_type": "execute_result"
    }
   ],
   "source": [
    "df1.isna().sum()"
   ]
  },
  {
   "cell_type": "markdown",
   "metadata": {
    "heading_collapsed": true
   },
   "source": [
    "## 1.4. Unity Change"
   ]
  },
  {
   "cell_type": "code",
   "execution_count": 26,
   "metadata": {
    "ExecuteTime": {
     "end_time": "2021-10-01T22:09:18.762526Z",
     "start_time": "2021-10-01T22:09:18.670866Z"
    },
    "hidden": true
   },
   "outputs": [],
   "source": [
    "#annual_premium\n",
    "df1['annual_premium'] = df1['annual_premium'].astype(int)"
   ]
  },
  {
   "cell_type": "code",
   "execution_count": 27,
   "metadata": {
    "ExecuteTime": {
     "end_time": "2021-10-01T22:09:18.842454Z",
     "start_time": "2021-10-01T22:09:18.767522Z"
    },
    "hidden": true
   },
   "outputs": [],
   "source": [
    "#region_code\n",
    "df1['region_code'] = df1['region_code'].astype(int)"
   ]
  },
  {
   "cell_type": "code",
   "execution_count": 28,
   "metadata": {
    "ExecuteTime": {
     "end_time": "2021-10-01T22:09:18.921405Z",
     "start_time": "2021-10-01T22:09:18.844452Z"
    },
    "hidden": true
   },
   "outputs": [],
   "source": [
    "#policy_sales_channel\n",
    "df1['policy_sales_channel'] = df1['policy_sales_channel'].astype(int)"
   ]
  },
  {
   "cell_type": "code",
   "execution_count": 29,
   "metadata": {
    "ExecuteTime": {
     "end_time": "2021-10-01T22:09:19.474405Z",
     "start_time": "2021-10-01T22:09:18.923403Z"
    },
    "hidden": true
   },
   "outputs": [],
   "source": [
    "#vehicle_damage\n",
    "df1['vehicle_damage'] = df1['vehicle_damage'].apply(lambda x: 1 if x == 'Yes' else 0)"
   ]
  },
  {
   "cell_type": "code",
   "execution_count": 30,
   "metadata": {
    "ExecuteTime": {
     "end_time": "2021-10-01T22:09:19.664290Z",
     "start_time": "2021-10-01T22:09:19.476404Z"
    },
    "hidden": true
   },
   "outputs": [],
   "source": [
    "#gender\n",
    "df1['gender'] = df1['gender'].apply(lambda x: 1 if x == 'Female' else 2)"
   ]
  },
  {
   "cell_type": "code",
   "execution_count": 31,
   "metadata": {
    "ExecuteTime": {
     "end_time": "2021-10-01T22:09:19.950580Z",
     "start_time": "2021-10-01T22:09:19.666286Z"
    },
    "hidden": true
   },
   "outputs": [],
   "source": [
    "#vehicle_age\n",
    "df1['vehicle_age'] = df1['vehicle_age'].apply(lambda x: 1 if x == '< 1 Year' else x)\n",
    "df1['vehicle_age'] = df1['vehicle_age'].apply(lambda x: 1.5 if x == '1-2 Year' else x)\n",
    "df1['vehicle_age'] = df1['vehicle_age'].apply(lambda x: 2 if x == '> 2 Years' else x)\n",
    "\n",
    "#transform to (int)\n",
    "#df1['vehicle_age'] = pd.to_numeric(df1['vehicle_age'],errors = 'coerce')"
   ]
  },
  {
   "cell_type": "code",
   "execution_count": 32,
   "metadata": {
    "ExecuteTime": {
     "end_time": "2021-10-01T22:09:19.982560Z",
     "start_time": "2021-10-01T22:09:19.951580Z"
    },
    "hidden": true
   },
   "outputs": [
    {
     "data": {
      "text/html": [
       "<div>\n",
       "<style scoped>\n",
       "    .dataframe tbody tr th:only-of-type {\n",
       "        vertical-align: middle;\n",
       "    }\n",
       "\n",
       "    .dataframe tbody tr th {\n",
       "        vertical-align: top;\n",
       "    }\n",
       "\n",
       "    .dataframe thead th {\n",
       "        text-align: right;\n",
       "    }\n",
       "</style>\n",
       "<table border=\"1\" class=\"dataframe\">\n",
       "  <thead>\n",
       "    <tr style=\"text-align: right;\">\n",
       "      <th></th>\n",
       "      <th>id</th>\n",
       "      <th>previously_insured</th>\n",
       "      <th>annual_premium</th>\n",
       "      <th>vintage</th>\n",
       "      <th>response</th>\n",
       "      <th>driving_license</th>\n",
       "      <th>vehicle_age</th>\n",
       "      <th>vehicle_damage</th>\n",
       "      <th>gender</th>\n",
       "      <th>age</th>\n",
       "      <th>region_code</th>\n",
       "      <th>policy_sales_channel</th>\n",
       "    </tr>\n",
       "  </thead>\n",
       "  <tbody>\n",
       "    <tr>\n",
       "      <th>0</th>\n",
       "      <td>7</td>\n",
       "      <td>0</td>\n",
       "      <td>23367</td>\n",
       "      <td>249</td>\n",
       "      <td>0</td>\n",
       "      <td>1</td>\n",
       "      <td>1.0</td>\n",
       "      <td>1</td>\n",
       "      <td>2</td>\n",
       "      <td>23</td>\n",
       "      <td>11</td>\n",
       "      <td>152</td>\n",
       "    </tr>\n",
       "    <tr>\n",
       "      <th>1</th>\n",
       "      <td>13</td>\n",
       "      <td>1</td>\n",
       "      <td>31409</td>\n",
       "      <td>221</td>\n",
       "      <td>0</td>\n",
       "      <td>1</td>\n",
       "      <td>1.5</td>\n",
       "      <td>0</td>\n",
       "      <td>1</td>\n",
       "      <td>41</td>\n",
       "      <td>15</td>\n",
       "      <td>14</td>\n",
       "    </tr>\n",
       "    <tr>\n",
       "      <th>2</th>\n",
       "      <td>18</td>\n",
       "      <td>1</td>\n",
       "      <td>46622</td>\n",
       "      <td>299</td>\n",
       "      <td>0</td>\n",
       "      <td>1</td>\n",
       "      <td>1.0</td>\n",
       "      <td>0</td>\n",
       "      <td>1</td>\n",
       "      <td>25</td>\n",
       "      <td>35</td>\n",
       "      <td>152</td>\n",
       "    </tr>\n",
       "    <tr>\n",
       "      <th>3</th>\n",
       "      <td>31</td>\n",
       "      <td>0</td>\n",
       "      <td>2630</td>\n",
       "      <td>136</td>\n",
       "      <td>0</td>\n",
       "      <td>1</td>\n",
       "      <td>1.0</td>\n",
       "      <td>0</td>\n",
       "      <td>1</td>\n",
       "      <td>26</td>\n",
       "      <td>8</td>\n",
       "      <td>160</td>\n",
       "    </tr>\n",
       "    <tr>\n",
       "      <th>4</th>\n",
       "      <td>39</td>\n",
       "      <td>0</td>\n",
       "      <td>42297</td>\n",
       "      <td>264</td>\n",
       "      <td>0</td>\n",
       "      <td>1</td>\n",
       "      <td>1.5</td>\n",
       "      <td>1</td>\n",
       "      <td>2</td>\n",
       "      <td>45</td>\n",
       "      <td>8</td>\n",
       "      <td>124</td>\n",
       "    </tr>\n",
       "    <tr>\n",
       "      <th>...</th>\n",
       "      <td>...</td>\n",
       "      <td>...</td>\n",
       "      <td>...</td>\n",
       "      <td>...</td>\n",
       "      <td>...</td>\n",
       "      <td>...</td>\n",
       "      <td>...</td>\n",
       "      <td>...</td>\n",
       "      <td>...</td>\n",
       "      <td>...</td>\n",
       "      <td>...</td>\n",
       "      <td>...</td>\n",
       "    </tr>\n",
       "    <tr>\n",
       "      <th>381104</th>\n",
       "      <td>381070</td>\n",
       "      <td>1</td>\n",
       "      <td>38254</td>\n",
       "      <td>127</td>\n",
       "      <td>0</td>\n",
       "      <td>1</td>\n",
       "      <td>1.0</td>\n",
       "      <td>0</td>\n",
       "      <td>2</td>\n",
       "      <td>24</td>\n",
       "      <td>8</td>\n",
       "      <td>152</td>\n",
       "    </tr>\n",
       "    <tr>\n",
       "      <th>381105</th>\n",
       "      <td>381079</td>\n",
       "      <td>0</td>\n",
       "      <td>39740</td>\n",
       "      <td>170</td>\n",
       "      <td>0</td>\n",
       "      <td>1</td>\n",
       "      <td>1.5</td>\n",
       "      <td>1</td>\n",
       "      <td>1</td>\n",
       "      <td>58</td>\n",
       "      <td>28</td>\n",
       "      <td>26</td>\n",
       "    </tr>\n",
       "    <tr>\n",
       "      <th>381106</th>\n",
       "      <td>381082</td>\n",
       "      <td>1</td>\n",
       "      <td>51619</td>\n",
       "      <td>80</td>\n",
       "      <td>0</td>\n",
       "      <td>1</td>\n",
       "      <td>1.5</td>\n",
       "      <td>0</td>\n",
       "      <td>1</td>\n",
       "      <td>75</td>\n",
       "      <td>28</td>\n",
       "      <td>26</td>\n",
       "    </tr>\n",
       "    <tr>\n",
       "      <th>381107</th>\n",
       "      <td>381097</td>\n",
       "      <td>0</td>\n",
       "      <td>34541</td>\n",
       "      <td>44</td>\n",
       "      <td>0</td>\n",
       "      <td>1</td>\n",
       "      <td>1.5</td>\n",
       "      <td>1</td>\n",
       "      <td>1</td>\n",
       "      <td>49</td>\n",
       "      <td>10</td>\n",
       "      <td>26</td>\n",
       "    </tr>\n",
       "    <tr>\n",
       "      <th>381108</th>\n",
       "      <td>381100</td>\n",
       "      <td>0</td>\n",
       "      <td>44504</td>\n",
       "      <td>71</td>\n",
       "      <td>0</td>\n",
       "      <td>1</td>\n",
       "      <td>1.5</td>\n",
       "      <td>1</td>\n",
       "      <td>1</td>\n",
       "      <td>51</td>\n",
       "      <td>28</td>\n",
       "      <td>26</td>\n",
       "    </tr>\n",
       "  </tbody>\n",
       "</table>\n",
       "<p>381109 rows × 12 columns</p>\n",
       "</div>"
      ],
      "text/plain": [
       "            id  previously_insured  annual_premium  vintage  response  \\\n",
       "0            7                   0           23367      249         0   \n",
       "1           13                   1           31409      221         0   \n",
       "2           18                   1           46622      299         0   \n",
       "3           31                   0            2630      136         0   \n",
       "4           39                   0           42297      264         0   \n",
       "...        ...                 ...             ...      ...       ...   \n",
       "381104  381070                   1           38254      127         0   \n",
       "381105  381079                   0           39740      170         0   \n",
       "381106  381082                   1           51619       80         0   \n",
       "381107  381097                   0           34541       44         0   \n",
       "381108  381100                   0           44504       71         0   \n",
       "\n",
       "        driving_license  vehicle_age  vehicle_damage  gender  age  \\\n",
       "0                     1          1.0               1       2   23   \n",
       "1                     1          1.5               0       1   41   \n",
       "2                     1          1.0               0       1   25   \n",
       "3                     1          1.0               0       1   26   \n",
       "4                     1          1.5               1       2   45   \n",
       "...                 ...          ...             ...     ...  ...   \n",
       "381104                1          1.0               0       2   24   \n",
       "381105                1          1.5               1       1   58   \n",
       "381106                1          1.5               0       1   75   \n",
       "381107                1          1.5               1       1   49   \n",
       "381108                1          1.5               1       1   51   \n",
       "\n",
       "        region_code  policy_sales_channel  \n",
       "0                11                   152  \n",
       "1                15                    14  \n",
       "2                35                   152  \n",
       "3                 8                   160  \n",
       "4                 8                   124  \n",
       "...             ...                   ...  \n",
       "381104            8                   152  \n",
       "381105           28                    26  \n",
       "381106           28                    26  \n",
       "381107           10                    26  \n",
       "381108           28                    26  \n",
       "\n",
       "[381109 rows x 12 columns]"
      ]
     },
     "execution_count": 32,
     "metadata": {},
     "output_type": "execute_result"
    }
   ],
   "source": [
    "df1"
   ]
  },
  {
   "cell_type": "code",
   "execution_count": 33,
   "metadata": {
    "ExecuteTime": {
     "end_time": "2021-10-01T22:09:20.062508Z",
     "start_time": "2021-10-01T22:09:19.984557Z"
    },
    "hidden": true
   },
   "outputs": [
    {
     "data": {
      "text/plain": [
       "id                        int64\n",
       "previously_insured        int64\n",
       "annual_premium            int32\n",
       "vintage                   int64\n",
       "response                  int64\n",
       "driving_license           int64\n",
       "vehicle_age             float64\n",
       "vehicle_damage            int64\n",
       "gender                    int64\n",
       "age                       int64\n",
       "region_code               int32\n",
       "policy_sales_channel      int32\n",
       "dtype: object"
      ]
     },
     "execution_count": 33,
     "metadata": {},
     "output_type": "execute_result"
    }
   ],
   "source": [
    "df1.dtypes"
   ]
  },
  {
   "cell_type": "markdown",
   "metadata": {},
   "source": [
    "## 1.5. Descriptive Statiscal"
   ]
  },
  {
   "cell_type": "code",
   "execution_count": 34,
   "metadata": {
    "ExecuteTime": {
     "end_time": "2021-10-01T22:09:21.502583Z",
     "start_time": "2021-10-01T22:09:20.065506Z"
    }
   },
   "outputs": [
    {
     "data": {
      "text/html": [
       "<div>\n",
       "<style scoped>\n",
       "    .dataframe tbody tr th:only-of-type {\n",
       "        vertical-align: middle;\n",
       "    }\n",
       "\n",
       "    .dataframe tbody tr th {\n",
       "        vertical-align: top;\n",
       "    }\n",
       "\n",
       "    .dataframe thead th {\n",
       "        text-align: right;\n",
       "    }\n",
       "</style>\n",
       "<table border=\"1\" class=\"dataframe\">\n",
       "  <thead>\n",
       "    <tr style=\"text-align: right;\">\n",
       "      <th></th>\n",
       "      <th>attributes</th>\n",
       "      <th>min</th>\n",
       "      <th>max</th>\n",
       "      <th>range</th>\n",
       "      <th>mean</th>\n",
       "      <th>median</th>\n",
       "      <th>std</th>\n",
       "      <th>skew</th>\n",
       "      <th>kurtosis</th>\n",
       "    </tr>\n",
       "  </thead>\n",
       "  <tbody>\n",
       "    <tr>\n",
       "      <th>0</th>\n",
       "      <td>id</td>\n",
       "      <td>1.0</td>\n",
       "      <td>381109.0</td>\n",
       "      <td>381108.0</td>\n",
       "      <td>190555.000000</td>\n",
       "      <td>190555.0</td>\n",
       "      <td>110016.691870</td>\n",
       "      <td>-8.071174e-18</td>\n",
       "      <td>-1.200000</td>\n",
       "    </tr>\n",
       "    <tr>\n",
       "      <th>1</th>\n",
       "      <td>previously_insured</td>\n",
       "      <td>0.0</td>\n",
       "      <td>1.0</td>\n",
       "      <td>1.0</td>\n",
       "      <td>0.458210</td>\n",
       "      <td>0.0</td>\n",
       "      <td>0.498251</td>\n",
       "      <td>1.677471e-01</td>\n",
       "      <td>-1.971871</td>\n",
       "    </tr>\n",
       "    <tr>\n",
       "      <th>2</th>\n",
       "      <td>annual_premium</td>\n",
       "      <td>2630.0</td>\n",
       "      <td>540165.0</td>\n",
       "      <td>537535.0</td>\n",
       "      <td>30564.389581</td>\n",
       "      <td>31669.0</td>\n",
       "      <td>17213.132474</td>\n",
       "      <td>1.766087e+00</td>\n",
       "      <td>34.004569</td>\n",
       "    </tr>\n",
       "    <tr>\n",
       "      <th>3</th>\n",
       "      <td>vintage</td>\n",
       "      <td>10.0</td>\n",
       "      <td>299.0</td>\n",
       "      <td>289.0</td>\n",
       "      <td>154.347397</td>\n",
       "      <td>154.0</td>\n",
       "      <td>83.671194</td>\n",
       "      <td>3.029517e-03</td>\n",
       "      <td>-1.200688</td>\n",
       "    </tr>\n",
       "    <tr>\n",
       "      <th>4</th>\n",
       "      <td>response</td>\n",
       "      <td>0.0</td>\n",
       "      <td>1.0</td>\n",
       "      <td>1.0</td>\n",
       "      <td>0.122563</td>\n",
       "      <td>0.0</td>\n",
       "      <td>0.327935</td>\n",
       "      <td>2.301906e+00</td>\n",
       "      <td>3.298788</td>\n",
       "    </tr>\n",
       "    <tr>\n",
       "      <th>5</th>\n",
       "      <td>driving_license</td>\n",
       "      <td>0.0</td>\n",
       "      <td>1.0</td>\n",
       "      <td>1.0</td>\n",
       "      <td>0.997869</td>\n",
       "      <td>1.0</td>\n",
       "      <td>0.046109</td>\n",
       "      <td>-2.159518e+01</td>\n",
       "      <td>464.354302</td>\n",
       "    </tr>\n",
       "    <tr>\n",
       "      <th>6</th>\n",
       "      <td>vehicle_age</td>\n",
       "      <td>1.0</td>\n",
       "      <td>2.0</td>\n",
       "      <td>1.0</td>\n",
       "      <td>1.304808</td>\n",
       "      <td>1.5</td>\n",
       "      <td>0.283719</td>\n",
       "      <td>2.528959e-01</td>\n",
       "      <td>-0.792253</td>\n",
       "    </tr>\n",
       "    <tr>\n",
       "      <th>7</th>\n",
       "      <td>vehicle_damage</td>\n",
       "      <td>0.0</td>\n",
       "      <td>1.0</td>\n",
       "      <td>1.0</td>\n",
       "      <td>0.504877</td>\n",
       "      <td>1.0</td>\n",
       "      <td>0.499976</td>\n",
       "      <td>-1.950724e-02</td>\n",
       "      <td>-1.999630</td>\n",
       "    </tr>\n",
       "    <tr>\n",
       "      <th>8</th>\n",
       "      <td>gender</td>\n",
       "      <td>1.0</td>\n",
       "      <td>2.0</td>\n",
       "      <td>1.0</td>\n",
       "      <td>1.540761</td>\n",
       "      <td>2.0</td>\n",
       "      <td>0.498336</td>\n",
       "      <td>-1.635904e-01</td>\n",
       "      <td>-1.973249</td>\n",
       "    </tr>\n",
       "    <tr>\n",
       "      <th>9</th>\n",
       "      <td>age</td>\n",
       "      <td>20.0</td>\n",
       "      <td>85.0</td>\n",
       "      <td>65.0</td>\n",
       "      <td>38.822584</td>\n",
       "      <td>36.0</td>\n",
       "      <td>15.511591</td>\n",
       "      <td>6.725390e-01</td>\n",
       "      <td>-0.565655</td>\n",
       "    </tr>\n",
       "    <tr>\n",
       "      <th>10</th>\n",
       "      <td>region_code</td>\n",
       "      <td>0.0</td>\n",
       "      <td>52.0</td>\n",
       "      <td>52.0</td>\n",
       "      <td>26.388807</td>\n",
       "      <td>28.0</td>\n",
       "      <td>13.229871</td>\n",
       "      <td>-1.152664e-01</td>\n",
       "      <td>-0.867857</td>\n",
       "    </tr>\n",
       "    <tr>\n",
       "      <th>11</th>\n",
       "      <td>policy_sales_channel</td>\n",
       "      <td>1.0</td>\n",
       "      <td>163.0</td>\n",
       "      <td>162.0</td>\n",
       "      <td>112.034295</td>\n",
       "      <td>133.0</td>\n",
       "      <td>54.203924</td>\n",
       "      <td>-9.000081e-01</td>\n",
       "      <td>-0.970810</td>\n",
       "    </tr>\n",
       "  </tbody>\n",
       "</table>\n",
       "</div>"
      ],
      "text/plain": [
       "              attributes     min       max     range           mean    median  \\\n",
       "0                     id     1.0  381109.0  381108.0  190555.000000  190555.0   \n",
       "1     previously_insured     0.0       1.0       1.0       0.458210       0.0   \n",
       "2         annual_premium  2630.0  540165.0  537535.0   30564.389581   31669.0   \n",
       "3                vintage    10.0     299.0     289.0     154.347397     154.0   \n",
       "4               response     0.0       1.0       1.0       0.122563       0.0   \n",
       "5        driving_license     0.0       1.0       1.0       0.997869       1.0   \n",
       "6            vehicle_age     1.0       2.0       1.0       1.304808       1.5   \n",
       "7         vehicle_damage     0.0       1.0       1.0       0.504877       1.0   \n",
       "8                 gender     1.0       2.0       1.0       1.540761       2.0   \n",
       "9                    age    20.0      85.0      65.0      38.822584      36.0   \n",
       "10           region_code     0.0      52.0      52.0      26.388807      28.0   \n",
       "11  policy_sales_channel     1.0     163.0     162.0     112.034295     133.0   \n",
       "\n",
       "              std          skew    kurtosis  \n",
       "0   110016.691870 -8.071174e-18   -1.200000  \n",
       "1        0.498251  1.677471e-01   -1.971871  \n",
       "2    17213.132474  1.766087e+00   34.004569  \n",
       "3       83.671194  3.029517e-03   -1.200688  \n",
       "4        0.327935  2.301906e+00    3.298788  \n",
       "5        0.046109 -2.159518e+01  464.354302  \n",
       "6        0.283719  2.528959e-01   -0.792253  \n",
       "7        0.499976 -1.950724e-02   -1.999630  \n",
       "8        0.498336 -1.635904e-01   -1.973249  \n",
       "9       15.511591  6.725390e-01   -0.565655  \n",
       "10      13.229871 -1.152664e-01   -0.867857  \n",
       "11      54.203924 -9.000081e-01   -0.970810  "
      ]
     },
     "execution_count": 34,
     "metadata": {},
     "output_type": "execute_result"
    }
   ],
   "source": [
    "#central tendency - mean, median\n",
    "ct1 = pd.DataFrame(df1.apply(np.mean)).T\n",
    "ct2 = pd.DataFrame(df1.apply(np.median)).T\n",
    "\n",
    "#Dispersion - std, min, max, range, skew, kurtosis\n",
    "d1 = pd.DataFrame(df1.apply(min)).T\n",
    "d2 = pd.DataFrame(df1.apply(max)).T\n",
    "d3 = pd.DataFrame(df1.apply(lambda x: x.max() - x.min())).T\n",
    "d4 = pd.DataFrame(df1.apply(np.std)).T\n",
    "d5 = pd.DataFrame(df1.apply(lambda x: x.skew())).T\n",
    "d6 = pd.DataFrame(df1.apply(lambda x: x.kurtosis())).T\n",
    "\n",
    "#concatenate\n",
    "m = pd.concat([d1,d2,d3,ct1,ct2,d4,d5,d6]).T.reset_index()\n",
    "m.columns = ['attributes','min','max','range','mean','median','std','skew','kurtosis']\n",
    "m"
   ]
  },
  {
   "cell_type": "markdown",
   "metadata": {},
   "source": [
    "# 2.0. Feature Engineering"
   ]
  },
  {
   "cell_type": "code",
   "execution_count": 35,
   "metadata": {
    "ExecuteTime": {
     "end_time": "2021-10-01T22:09:21.534565Z",
     "start_time": "2021-10-01T22:09:21.505581Z"
    }
   },
   "outputs": [],
   "source": [
    "df2 = df1.copy()"
   ]
  },
  {
   "cell_type": "code",
   "execution_count": 36,
   "metadata": {
    "ExecuteTime": {
     "end_time": "2021-10-01T22:09:23.982502Z",
     "start_time": "2021-10-01T22:09:21.537561Z"
    }
   },
   "outputs": [
    {
     "data": {
      "image/png": "[encoded data removed]",
      "text/plain": [
       "<Figure size 432x288 with 2 Axes>"
      ]
     },
     "metadata": {
      "needs_background": "light"
     },
     "output_type": "display_data"
    }
   ],
   "source": [
    "corr = df2.corr()\n",
    "ax = sns.heatmap(\n",
    "    corr, \n",
    "    vmin=-1, vmax=1, center=0,\n",
    "    cmap=sns.diverging_palette(20, 220, n=200),\n",
    "    square=True\n",
    ")\n",
    "ax.set_xticklabels(\n",
    "    ax.get_xticklabels(),\n",
    "    rotation=45,\n",
    "    horizontalalignment='right'\n",
    ");"
   ]
  },
  {
   "cell_type": "code",
   "execution_count": 37,
   "metadata": {
    "ExecuteTime": {
     "end_time": "2021-10-01T22:09:25.322101Z",
     "start_time": "2021-10-01T22:09:23.984501Z"
    }
   },
   "outputs": [
    {
     "name": "stdout",
     "output_type": "stream",
     "text": [
      "[[ 0.24997688 -0.20530554]\n",
      " [-0.20530554  0.24825426]]\n"
     ]
    }
   ],
   "source": [
    "covariance = cov(df2['vehicle_damage'], df2['previously_insured'])\n",
    "print(covariance)"
   ]
  },
  {
   "cell_type": "code",
   "execution_count": 38,
   "metadata": {
    "ExecuteTime": {
     "end_time": "2021-10-01T22:09:25.353340Z",
     "start_time": "2021-10-01T22:09:25.324098Z"
    }
   },
   "outputs": [
    {
     "name": "stdout",
     "output_type": "stream",
     "text": [
      "[[2.40610076e+02 3.37020367e+00]\n",
      " [3.37020367e+00 8.04968687e-02]]\n"
     ]
    }
   ],
   "source": [
    "covariance = cov(df2['age'], df2['vehicle_age'])\n",
    "print(covariance)"
   ]
  },
  {
   "cell_type": "code",
   "execution_count": 39,
   "metadata": {
    "ExecuteTime": {
     "end_time": "2021-10-01T22:09:26.274772Z",
     "start_time": "2021-10-01T22:09:25.355331Z"
    }
   },
   "outputs": [
    {
     "name": "stdout",
     "output_type": "stream",
     "text": [
      "Pearsons correlation: -0.824\n"
     ]
    }
   ],
   "source": [
    "corr, _ = pearsonr(df2['vehicle_damage'], df2['previously_insured'])\n",
    "print('Pearsons correlation: %.3f' % corr)"
   ]
  },
  {
   "cell_type": "code",
   "execution_count": 40,
   "metadata": {
    "ExecuteTime": {
     "end_time": "2021-10-01T22:09:26.322742Z",
     "start_time": "2021-10-01T22:09:26.277771Z"
    }
   },
   "outputs": [
    {
     "name": "stdout",
     "output_type": "stream",
     "text": [
      "Pearsons correlation: 0.766\n"
     ]
    }
   ],
   "source": [
    "corr, _ = pearsonr(df2['age'], df2['vehicle_age'])\n",
    "print('Pearsons correlation: %.3f' % corr)"
   ]
  },
  {
   "cell_type": "markdown",
   "metadata": {},
   "source": [
    "## 2.1 Mind Map"
   ]
  },
  {
   "cell_type": "code",
   "execution_count": 43,
   "metadata": {
    "ExecuteTime": {
     "end_time": "2021-10-01T22:54:48.388228Z",
     "start_time": "2021-10-01T22:54:48.369240Z"
    }
   },
   "outputs": [
    {
     "data": {
      "image/png": "[encoded data removed]",
      "text/plain": [
       "<IPython.core.display.Image object>"
      ]
     },
     "execution_count": 43,
     "metadata": {},
     "output_type": "execute_result"
    }
   ],
   "source": [
    "Image('C:/Users/Henrique/repos/Insurance All/mindmap.png')"
   ]
  },
  {
   "cell_type": "code",
   "execution_count": 55,
   "metadata": {
    "ExecuteTime": {
     "end_time": "2021-10-01T23:57:37.961416Z",
     "start_time": "2021-10-01T23:57:37.942428Z"
    }
   },
   "outputs": [
    {
     "name": "stdout",
     "output_type": "stream",
     "text": [
      "+-----------+----------------------+----------------------+-------------------------+\n",
      "|  Category | Name                 |         Code         |          Unity          |\n",
      "+-----------+----------------------+----------------------+-------------------------+\n",
      "|    User   | Age                  |         age          |        int (days)       |\n",
      "|    User   | Gender               |        gender        | int - 1 (women) 2 (men) |\n",
      "|    User   | Region code          |     region_code      |           int           |\n",
      "|    User   | Policy sales channel | policy_sales_channel |           int           |\n",
      "|           |                      |                      |                         |\n",
      "|  Vehicle  | Vehicle age          |     vehicle_age      |          float          |\n",
      "|  Vehicle  | Drive license        |    drive_license     |   int - 0 (no) 1 (yes)  |\n",
      "|  Vehicle  | Vehicle damage       |    vehicle_damage    |   int - 0 (no) 1 (yes)  |\n",
      "|           |                      |                      |                         |\n",
      "| Insurance | Previously insured   |  previously_insured  |   int - 0 (no) 1 (yes)  |\n",
      "| Insurance | Annual premium       |    annual_premium    |           int           |\n",
      "| Insurance | Vintage              |       vintage        |           int           |\n",
      "+-----------+----------------------+----------------------+-------------------------+\n"
     ]
    }
   ],
   "source": [
    "# Specify the Column Names while initializing the Table \n",
    "myTable = PrettyTable(['Category','Name', 'Code', 'Unity']) \n",
    "\n",
    "myTable.align[\"Name\"] = \"l\"\n",
    "\n",
    "# Add rows \n",
    "myTable.add_row(['User', 'Age', 'age', 'int (days)']) \n",
    "myTable.add_row(['User', 'Gender', 'gender', 'int - 1 (women) 2 (men)']) \n",
    "myTable.add_row(['User', 'Region code', 'region_code', 'int'])\n",
    "myTable.add_row(['User', 'Policy sales channel', 'policy_sales_channel', 'int'])\n",
    "myTable.add_row(['', '', '', ''])\n",
    "myTable.add_row(['Vehicle','Vehicle age','vehicle_age', 'float'])\n",
    "myTable.add_row(['Vehicle','Drive license','drive_license', 'int - 0 (no) 1 (yes)'])\n",
    "myTable.add_row(['Vehicle','Vehicle damage','vehicle_damage', 'int - 0 (no) 1 (yes)'])\n",
    "myTable.add_row(['', '', '', ''])\n",
    "myTable.add_row(['Insurance','Previously insured','previously_insured', 'int - 0 (no) 1 (yes)'])\n",
    "myTable.add_row(['Insurance','Annual premium','annual_premium', 'int'])\n",
    "myTable.add_row(['Insurance','Vintage','vintage', 'int'])\n",
    "\n",
    "print(myTable)"
   ]
  },
  {
   "cell_type": "markdown",
   "metadata": {},
   "source": [
    "## 2.2 Hypothesis Creation"
   ]
  },
  {
   "cell_type": "markdown",
   "metadata": {},
   "source": [
    "### 2.2.1 User Hypothesis"
   ]
  },
  {
   "cell_type": "markdown",
   "metadata": {},
   "source": [
    "**1.** People older than 30 years old are more susceptible to have an insurance\n",
    "\n",
    "**2.** Women hire more insurances"
   ]
  },
  {
   "cell_type": "markdown",
   "metadata": {},
   "source": [
    "### 2.2.2 Vehicle Hypothesis"
   ]
  },
  {
   "cell_type": "markdown",
   "metadata": {},
   "source": [
    "**3.** Owners with new cars hire more insurances\n",
    "\n",
    "**4.** People with drive license hire more insurances\n",
    "\n",
    "**5.** Owners with vehicle damaged dont hire insurances"
   ]
  },
  {
   "cell_type": "markdown",
   "metadata": {},
   "source": [
    "### 2.2.3 Insurance Hypothesis"
   ]
  },
  {
   "cell_type": "markdown",
   "metadata": {},
   "source": [
    "**6.** People previously insured hire another insurance\n",
    "\n",
    "**7.** Higher annual premium more insurances get\n",
    "\n",
    "**8.** More days with company more insurances get"
   ]
  },
  {
   "cell_type": "code",
   "execution_count": null,
   "metadata": {},
   "outputs": [],
   "source": []
  }
 ],
 "metadata": {
  "kernelspec": {
   "display_name": "Python 3",
   "language": "python",
   "name": "python3"
  },
  "language_info": {
   "codemirror_mode": {
    "name": "ipython",
    "version": 3
   },
   "file_extension": ".py",
   "mimetype": "text/x-python",
   "name": "python",
   "nbconvert_exporter": "python",
   "pygments_lexer": "ipython3",
   "version": "3.8.5"
  }
 },
 "nbformat": 4,
 "nbformat_minor": 4
}
