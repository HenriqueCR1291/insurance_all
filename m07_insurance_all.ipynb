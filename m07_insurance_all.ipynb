{
 "cells": [
  {
   "cell_type": "code",
   "execution_count": 3,
   "metadata": {
    "ExecuteTime": {
     "end_time": "2021-10-16T21:57:19.549655Z",
     "start_time": "2021-10-16T21:57:19.543659Z"
    }
   },
   "outputs": [],
   "source": [
    "#!pip install apt-get\n",
    "#!pip install sqlite3\n",
    "#!pip install sqlalchemy\n",
    "#!pip install psycopg2\n",
    "#!pip install lightgbm\n",
    "#!pip install scikit-optimize"
   ]
  },
  {
   "cell_type": "markdown",
   "metadata": {
    "heading_collapsed": true
   },
   "source": [
    "# Business Problem"
   ]
  },
  {
   "cell_type": "markdown",
   "metadata": {
    "hidden": true
   },
   "source": [
    "A **Insurance All** é uma empresa que fornece seguro de saúde para seus clientes e o time de produtos está analisando a possibilidade de oferecer aos assegurados, um novo produto: Um seguro de automóveis.\n",
    "\n",
    "Assim como o seguro de saúde, os clientes desse novo plano de seguro de automóveis precisam pagar um valor anualmente à Insurance All para obter um valor assegurado pela empresa, destinado aos custos de um eventual acidente ou dano ao veículo.\n",
    "\n",
    "A Insurance All fez uma pesquisa com cerca de 380 mil clientes sobre o interesse em aderir a um novo produto de seguro de automóveis, no ano passado. Todos os clientes demonstraram interesse ou não em adquirir o seguro de automóvel e essas respostas ficaram salvas em um banco de dados junto com outros atributos dos clientes.\n",
    "\n",
    "O time de produtos selecionou 127 mil novos clientes que não responderam a pesquisa para participar de uma campanha, no qual receberão a oferta do novo produto de seguro de automóveis. A oferta será feita pelo time de vendas através de ligações telefônicas.\n",
    "\n",
    "Contudo, o time de vendas tem uma capacidade de realizar 20 mil ligações dentro do período da campanha."
   ]
  },
  {
   "cell_type": "markdown",
   "metadata": {
    "hidden": true
   },
   "source": [
    "Nesse contexto, você foi contratado como um consultor de Ciência de Dados para construir um modelo que prediz se o cliente estaria ou não interessado no seguro de automóvel. \n",
    "\n",
    "Com a sua solução, o time de vendas espera conseguir priorizar as pessoas com maior interesse no novo produto e assim, otimizar a campanha realizando apenas contatos aos clientes mais propensos a realizar a compra.\n",
    "\n",
    "Como resultado da sua consultoria, você precisará entregar um relatório contendo algumas análises e respostas às seguintes perguntas:\n",
    "\n",
    "1) Principais Insights sobre os atributos mais relevantes de clientes interessados em adquirir um seguro de automóvel.\n",
    "\n",
    "2) Qual a porcentagem de clientes interessados em adquirir um seguro de automóvel, o time de vendas conseguirá contatar fazendo 20.000 ligações?\n",
    "\n",
    "3) E se a capacidade do time de vendas aumentar para 40.000 ligações, qual a porcentagem de clientes interessados em adquirir um seguro de automóvel o time de vendas conseguirá contatar?\n",
    "\n",
    "4) Quantas ligações o time de vendas precisa fazer para contatar 80% dos clientes interessados em adquirir um seguro de automóvel?"
   ]
  },
  {
   "cell_type": "markdown",
   "metadata": {
    "hidden": true
   },
   "source": [
    "**Business Problem**\n",
    "\n",
    "    1) Principais Insights sobre os atributos mais relevantes de clientes interessados em adquirir um seguro de automóvel.\n",
    "\n",
    "\n",
    "**Final Product**\n",
    "1. Principais insights dos atributos dos clientes\n",
    "\n",
    "2. Formato da entrega\n",
    "    Gráficos/Tabela\n",
    "    \n",
    "3. Local da entrega\n",
    "    Telegram/PowerBI\n",
    "\n",
    "\n",
    "**Process**\n",
    "1. Passo a passo\n",
    "    - Realizar feature engineering na base de dados (1º bd - 380K) dos clientes interessados e levantar as hipóteses para cada atributo a ser validada; \n",
    "    - No EDA validar as hipóteses e identificar insights dos clientes interessados;\n",
    "\n",
    "\n",
    "2. Definir o formato da entrega (visualizaçao, tabela, frase)\n",
    "    - Gráficos que melhor demonstrem as informaçoes.\n",
    "    - Utilizar os seguintes parâmetros: Id | Gender | Age | Driving License | Region Code | Previously Insured | Vehicle Age | Vehicle Damage | Anual Premium | Policy sales channel | Vintage |\n",
    "    - Definiçao do schema: colunas e seu tipo\n",
    "    - Definição da infraestrutura de armazenamento (SQLITE3)\n",
    "    - Design do ETL (Scripts de Extração, Transformação e Carga)\n",
    "    - Planejamento de agendamento dos scripts (dependência entre os scripts)\n",
    "    - Fazer as visualizações\n",
    "    - Entrega do produto final\n",
    "\n",
    "\n",
    "3. Decidir o local de entrega (powerBi, telegram, email, streamlit, intranet)\n",
    "    - PowerBI, Telegram\n",
    "    \n",
    "    \n",
    "**Enter**\n",
    "1. Fonte de dados:\n",
    "    - Site da Kaggle\n",
    "    - BD na AWS\n",
    "\n",
    "2. Ferramentas:\n",
    "    - Pyhton 3.8.0\n",
    "    - AWS\n",
    "    - Pycharm\n",
    "    - Jupyter Notebook (análises e prototipagens)\n",
    "    - Crontjob, Airflow\n",
    "    - Streamlit\n",
    "    - PowerBI\n",
    "    - Telegram"
   ]
  },
  {
   "cell_type": "markdown",
   "metadata": {
    "ExecuteTime": {
     "end_time": "2021-09-25T11:53:28.785502Z",
     "start_time": "2021-09-25T11:53:28.747527Z"
    },
    "hidden": true
   },
   "source": [
    "**Business Problem**\n",
    "\n",
    "    2) Qual a porcentagem de clientes interessados em adquirir um seguro de automóvel, o time de vendas conseguirá contatar fazendo 20.000 ligações?\n",
    "    3) E se a capacidade do time de vendas aumentar para 40.000 ligações, qual a porcentagem de clientes interessados em adquirir um seguro de automóvel o time de vendas conseguirá contatar?\n",
    "    4) Quantas ligações o time de vendas precisa fazer para contatar 80% dos clientes interessados em adquirir um seguro de automóvel?\n",
    "\n",
    "\n",
    "**Final Product**\n",
    "1. Percentual de clientes interessados da base e se poderá atender o limite de 20K/40K ligaçoes\n",
    "\n",
    "2. Formato da entrega\n",
    "    Gráfico ou tabela\n",
    "    \n",
    "3. Local da entrega\n",
    "    Telegram\n",
    "\n",
    "\n",
    "**Process**\n",
    "1. Passo a passo\n",
    "    - Realizar análise da base de dados (2 bd 127 K) e aplicar modelos de ML para obter os atributos que definem\n",
    "        o cliente com maior probabilidade de adquirir o seguro. Com essas características definir a quantidade \n",
    "        de clientes potenciais e se e possível atender com 20/40K ligaçoes.\n",
    "\n",
    "2. Definir o formato da entrega (visualizaçao, tabela, frase)\n",
    "    - Gráfico ou tabela\n",
    "\n",
    "3. Decidir o local de entrega (powerBi, telegram, email, streamlit, intranet)\n",
    "    - PowerBI, Telegram\n",
    "    \n",
    "    \n",
    "**Enter**\n",
    "1. Fonte de dados:\n",
    "    - Site da Kaggle\n",
    "    - BD na AWS\n",
    "\n",
    "2. Ferramentas:\n",
    "    - Pyhton 3.8.0\n",
    "    - AWS\n",
    "    - Pycharm\n",
    "    - Jupyter Notebook (análises e prototipagens)\n",
    "    - Crontjob, Airflow\n",
    "    - Streamlit\n",
    "    - PowerBI\n",
    "    - Telegram"
   ]
  },
  {
   "cell_type": "markdown",
   "metadata": {},
   "source": [
    "# Libraries"
   ]
  },
  {
   "cell_type": "code",
   "execution_count": 4,
   "metadata": {
    "ExecuteTime": {
     "end_time": "2021-10-16T21:58:14.254897Z",
     "start_time": "2021-10-16T21:57:19.555652Z"
    }
   },
   "outputs": [],
   "source": [
    "import csv\n",
    "import pickle\n",
    "import random\n",
    "\n",
    "import numpy                 as np\n",
    "import pandas                as pd\n",
    "import seaborn               as sns\n",
    "import psycopg2              as pg \n",
    "import pandas.io.sql         as psql\n",
    "import matplotlib.pyplot     as plt\n",
    "import statistics            as st\n",
    "import scikitplot            as skplt\n",
    "import xgboost               as xgb\n",
    "\n",
    "from sklearn.ensemble        import RandomForestClassifier, BaggingClassifier, AdaBoostClassifier\n",
    "from boruta                  import BorutaPy\n",
    "from sklearn.linear_model    import LogisticRegression\n",
    "from sklearn.neighbors       import KNeighborsClassifier\n",
    "from sklearn                 import svm\n",
    "from lightgbm                import LGBMClassifier\n",
    "from sklearn.naive_bayes     import GaussianNB\n",
    "from skopt                   import forest_minimize\n",
    "from skopt.plots             import plot_convergence\n",
    "from collections             import Counter\n",
    "from imblearn.combine        import SMOTETomek\n",
    "from sklearn.model_selection import KFold\n",
    "from sklearn.pipeline        import make_pipeline\n",
    "from sklearn.pipeline        import Pipeline\n",
    "from ReliefF                 import ReliefF\n",
    "from numpy                   import cov\n",
    "from numpy                   import percentile\n",
    "from scipy.stats             import pearsonr\n",
    "from prettytable             import PrettyTable\n",
    "from IPython.display         import Image\n",
    "from sklearn.preprocessing   import StandardScaler\n",
    "from sklearn.preprocessing   import MinMaxScaler\n",
    "from sklearn.linear_model    import LinearRegression,Lasso\n",
    "from sklearn.model_selection import train_test_split, GridSearchCV\n",
    "from sklearn.ensemble        import RandomForestClassifier, BaggingClassifier, AdaBoostClassifier\n",
    "\n",
    "from sklearn                 import decomposition   as d\n",
    "from sklearn                 import model_selection as ms\n",
    "from sklearn                 import preprocessing   as pp\n",
    "from sklearn                 import ensemble        as en\n",
    "from matplotlib              import pyplot          as plt\n",
    "from sklearn                 import neighbors       as nh\n",
    "from sklearn                 import linear_model    as lm"
   ]
  },
  {
   "cell_type": "markdown",
   "metadata": {},
   "source": [
    "# Helper Functions"
   ]
  },
  {
   "cell_type": "code",
   "execution_count": 5,
   "metadata": {
    "ExecuteTime": {
     "end_time": "2021-10-16T21:58:14.286884Z",
     "start_time": "2021-10-16T21:58:14.256898Z"
    }
   },
   "outputs": [],
   "source": [
    "def perc_insurance (x):\n",
    "    j = len(x)\n",
    "    for i in range(len(x)):\n",
    "        if i < j:\n",
    "            p = ((x['total'][i])/(x['total'][i+pow(-1,(i+2))]+x['total'][i]))*100\n",
    "            x['%_insur_1'][i] = p\n",
    "        else:\n",
    "            exit\n",
    "    return x\n",
    "\n",
    "def connection_database(host_name, port_num, database_name, user_name, password_name):\n",
    "    connection = None\n",
    "    connection = pg.connect(host = host_name,\n",
    "                            port = port_num,\n",
    "                            database = database_name,\n",
    "                            user = user_name,\n",
    "                            password = password_name)\n",
    "    return connection\n",
    "\n",
    "def precision_at_k(data, yhat, perc):\n",
    "    \n",
    "    k = int(np.floor(len(data)*perc))\n",
    "    \n",
    "    data['score'] = yhat[:,1].tolist()\n",
    "    \n",
    "    data = data.sort_values('score',ascending=False)\n",
    "\n",
    "    #reset index\n",
    "    data = data.reset_index(drop=True)\n",
    "    \n",
    "    #create ranking order\n",
    "    data['ranking'] = data.index+1\n",
    "    \n",
    "    data['precision_at_k'] = data['response'].cumsum() / data['ranking']\n",
    "    \n",
    "    return data.loc[k, 'precision_at_k']\n",
    "\n",
    "def recall_at_k(data, yhat, perc):\n",
    "    \n",
    "    k = int(np.floor(len(data)*perc))\n",
    "    \n",
    "    data['score'] = yhat[:,1].tolist()\n",
    "    \n",
    "    data = data.sort_values('score',ascending=False)\n",
    "    \n",
    "    #reset index\n",
    "    data = data.reset_index(drop=True)\n",
    "    \n",
    "    #create ranking order\n",
    "    data['ranking'] = data.index+1\n",
    "    \n",
    "    data['recall_at_k'] = data['response'].cumsum() / data['response'].sum()\n",
    "    \n",
    "    return data.loc[k, 'recall_at_k']\n",
    "\n",
    "def cross_validation(models_performance, num_folds, modelName, model, x_train, y_train):\n",
    "    kfold=ms.StratifiedKFold(n_splits = num_folds, shuffle=True, random_state=42)\n",
    "    \n",
    "    precision_list = []\n",
    "    recall_list = []\n",
    "    \n",
    "    i=1\n",
    "    for train_cv,val_cv in kfold.split(x_train,y_train):\n",
    "\n",
    "        x_train_fold = x_train.iloc[train_cv]\n",
    "        y_train_fold = y_train.iloc[train_cv]\n",
    "\n",
    "        x_val_fold = x_train.iloc[val_cv]\n",
    "        y_val_fold = y_train.iloc[val_cv]\n",
    "\n",
    "        model_fit = model.fit(x_train_fold,y_train_fold)\n",
    "\n",
    "        yhat_model = model_fit.predict_proba(x_val_fold)\n",
    "        \n",
    "        x_val_fold['response'] = y_val_fold\n",
    "        precision = round(precision_at_k(x_val_fold, yhat_model, 0.20),3)\n",
    "        recall= round(recall_at_k(x_val_fold, yhat_model, 0.20),3)\n",
    "        \n",
    "        precision_list.append(precision)\n",
    "        recall_list.append(recall)\n",
    "\n",
    "\n",
    "        i+=1\n",
    "    \n",
    "    precision_str = np.round(np.mean(precision_list),4).astype(str) + ' +/- ' + np.round(np.std(precision_list),4).astype(str)\n",
    "    recall_str = np.round(np.mean(recall_list),4).astype(str) + ' +/- ' + np.round(np.std(recall_list),4).astype(str)\n",
    "\n",
    "    models_performance = models_performance.append(pd.Series([modelName, precision_str, recall_str], index=models_performance.columns), ignore_index=True)\n",
    "\n",
    "    return models_performance\n",
    "\n",
    "def topK_performance(df,yhat,perc):\n",
    "    df_final_performance = pd.DataFrame()\n",
    "    k = int(np.floor(len(df)*perc))\n",
    "\n",
    "    target_total = df['response'].sum()\n",
    "    df['score'] = i[:,1].tolist()\n",
    "    df = df.sort_values('score',ascending=False)\n",
    "    target_at_k = df['response'][:k].sum()\n",
    "    target_perc = target_at_k/target_total\n",
    "\n",
    "    precision = precision_at_k(df,yhat,perc)\n",
    "    recall = recall_at_k(df,yhat,perc)\n",
    "\n",
    "    df_final_performance = df_final_performance.append({'Model':'LGBM','perc':perc,'k':k,'precision':precision,'recall':recall,'target_total':target_total,'target_at_k':target_at_k,'perc_target':target_perc},ignore_index=True)\n",
    "    return df_final_performance"
   ]
  },
  {
   "cell_type": "markdown",
   "metadata": {
    "heading_collapsed": true
   },
   "source": [
    "# 0.0 Data Collect"
   ]
  },
  {
   "cell_type": "code",
   "execution_count": 6,
   "metadata": {
    "ExecuteTime": {
     "end_time": "2021-10-16T21:58:15.589194Z",
     "start_time": "2021-10-16T21:58:14.289878Z"
    },
    "hidden": true
   },
   "outputs": [],
   "source": [
    "#credentials\n",
    "host = 'comunidade-ds-postgres.c50pcakiuwi3.us-east-1.rds.amazonaws.com'\n",
    "port  = 5432\n",
    "database = 'comunidadedsdb'\n",
    "user = 'member'\n",
    "password = 'cdspa'\n",
    "\n",
    "\n",
    "conn = connection_database(host, port, database, user, password)"
   ]
  },
  {
   "cell_type": "markdown",
   "metadata": {
    "heading_collapsed": true,
    "hidden": true
   },
   "source": [
    "## 1.0 Schema Query"
   ]
  },
  {
   "cell_type": "code",
   "execution_count": 7,
   "metadata": {
    "ExecuteTime": {
     "end_time": "2021-10-16T21:58:15.914546Z",
     "start_time": "2021-10-16T21:58:15.591198Z"
    },
    "hidden": true
   },
   "outputs": [],
   "source": [
    "cursor = conn.cursor()\n",
    "\n",
    "query_schema = \"\"\"\n",
    "    SELECT nspname\n",
    "    FROM pg_catalog.pg_namespace\n",
    "\n",
    "\"\"\"\n",
    "\n",
    "cursor.execute(query_schema)"
   ]
  },
  {
   "cell_type": "code",
   "execution_count": 8,
   "metadata": {
    "ExecuteTime": {
     "end_time": "2021-10-16T21:58:15.929334Z",
     "start_time": "2021-10-16T21:58:15.916340Z"
    },
    "hidden": true
   },
   "outputs": [
    {
     "name": "stdout",
     "output_type": "stream",
     "text": [
      "[('pg_toast',), ('pg_temp_1',), ('pg_toast_temp_1',), ('pg_catalog',), ('information_schema',), ('public',), ('pa004',), ('pg_temp_4',), ('pg_toast_temp_4',), ('pa005',), ('pg_temp_9',), ('pg_toast_temp_9',)]\n"
     ]
    }
   ],
   "source": [
    "records = cursor.fetchall()\n",
    "print(records)\n",
    "#cursor.close()\n",
    "#conn.close()"
   ]
  },
  {
   "cell_type": "markdown",
   "metadata": {
    "heading_collapsed": true,
    "hidden": true
   },
   "source": [
    "## 2.0 Table Query"
   ]
  },
  {
   "cell_type": "code",
   "execution_count": 9,
   "metadata": {
    "ExecuteTime": {
     "end_time": "2021-10-16T21:58:16.253285Z",
     "start_time": "2021-10-16T21:58:15.931330Z"
    },
    "hidden": true
   },
   "outputs": [],
   "source": [
    "cursor = conn.cursor()\n",
    "\n",
    "query_tables = \"\"\"\n",
    "    SELECT tablename\n",
    "    FROM pg_tables\n",
    "    WHERE schemaname = 'pa004'\n",
    "\n",
    "\"\"\"\n",
    "\n",
    "cursor.execute(query_tables)"
   ]
  },
  {
   "cell_type": "code",
   "execution_count": 10,
   "metadata": {
    "ExecuteTime": {
     "end_time": "2021-10-16T21:58:16.269324Z",
     "start_time": "2021-10-16T21:58:16.255308Z"
    },
    "hidden": true
   },
   "outputs": [
    {
     "name": "stdout",
     "output_type": "stream",
     "text": [
      "[('users',), ('vehicle',), ('insurance',)]\n"
     ]
    }
   ],
   "source": [
    "records = cursor.fetchall()\n",
    "print(records)\n",
    "#cursor.close()\n",
    "#conn.close()"
   ]
  },
  {
   "cell_type": "markdown",
   "metadata": {
    "ExecuteTime": {
     "end_time": "2021-09-26T21:44:41.630281Z",
     "start_time": "2021-09-26T21:44:41.626283Z"
    },
    "heading_collapsed": true,
    "hidden": true
   },
   "source": [
    "## 3.0 Collect Data using Psycopg2"
   ]
  },
  {
   "cell_type": "code",
   "execution_count": 11,
   "metadata": {
    "ExecuteTime": {
     "end_time": "2021-10-16T21:58:16.610425Z",
     "start_time": "2021-10-16T21:58:16.273317Z"
    },
    "hidden": true
   },
   "outputs": [],
   "source": [
    "cursor = conn.cursor()\n",
    "\n",
    "query_tables_users = \"\"\"\n",
    "    SELECT *\n",
    "    FROM pa004.users u\n",
    "    WHERE u.age >40\n",
    "    limit 10\n",
    "\n",
    "\"\"\"\n",
    "\n",
    "cursor.execute(query_tables_users)"
   ]
  },
  {
   "cell_type": "code",
   "execution_count": 12,
   "metadata": {
    "ExecuteTime": {
     "end_time": "2021-10-16T21:58:16.810720Z",
     "start_time": "2021-10-16T21:58:16.613414Z"
    },
    "hidden": true
   },
   "outputs": [
    {
     "name": "stdout",
     "output_type": "stream",
     "text": [
      "[(1, 'Male', 44, 28.0, 26.0), (2, 'Male', 76, 3.0, 26.0), (3, 'Male', 47, 28.0, 26.0), (8, 'Female', 56, 28.0, 26.0), (11, 'Female', 47, 35.0, 124.0), (13, 'Female', 41, 15.0, 14.0), (14, 'Male', 76, 28.0, 13.0), (15, 'Male', 71, 28.0, 30.0), (19, 'Male', 42, 28.0, 124.0), (20, 'Female', 60, 33.0, 124.0)]\n"
     ]
    }
   ],
   "source": [
    "records = cursor.fetchall()\n",
    "print(records)\n",
    "#cursor.close()\n",
    "#conn.close()"
   ]
  },
  {
   "cell_type": "code",
   "execution_count": 13,
   "metadata": {
    "ExecuteTime": {
     "end_time": "2021-10-16T21:58:17.323060Z",
     "start_time": "2021-10-16T21:58:16.812709Z"
    },
    "hidden": true
   },
   "outputs": [
    {
     "data": {
      "text/html": [
       "<div>\n",
       "<style scoped>\n",
       "    .dataframe tbody tr th:only-of-type {\n",
       "        vertical-align: middle;\n",
       "    }\n",
       "\n",
       "    .dataframe tbody tr th {\n",
       "        vertical-align: top;\n",
       "    }\n",
       "\n",
       "    .dataframe thead th {\n",
       "        text-align: right;\n",
       "    }\n",
       "</style>\n",
       "<table border=\"1\" class=\"dataframe\">\n",
       "  <thead>\n",
       "    <tr style=\"text-align: right;\">\n",
       "      <th></th>\n",
       "      <th>0</th>\n",
       "      <th>1</th>\n",
       "      <th>2</th>\n",
       "      <th>3</th>\n",
       "      <th>4</th>\n",
       "    </tr>\n",
       "  </thead>\n",
       "  <tbody>\n",
       "    <tr>\n",
       "      <th>0</th>\n",
       "      <td>1</td>\n",
       "      <td>Male</td>\n",
       "      <td>44</td>\n",
       "      <td>28.0</td>\n",
       "      <td>26.0</td>\n",
       "    </tr>\n",
       "    <tr>\n",
       "      <th>1</th>\n",
       "      <td>2</td>\n",
       "      <td>Male</td>\n",
       "      <td>76</td>\n",
       "      <td>3.0</td>\n",
       "      <td>26.0</td>\n",
       "    </tr>\n",
       "    <tr>\n",
       "      <th>2</th>\n",
       "      <td>3</td>\n",
       "      <td>Male</td>\n",
       "      <td>47</td>\n",
       "      <td>28.0</td>\n",
       "      <td>26.0</td>\n",
       "    </tr>\n",
       "    <tr>\n",
       "      <th>3</th>\n",
       "      <td>8</td>\n",
       "      <td>Female</td>\n",
       "      <td>56</td>\n",
       "      <td>28.0</td>\n",
       "      <td>26.0</td>\n",
       "    </tr>\n",
       "    <tr>\n",
       "      <th>4</th>\n",
       "      <td>11</td>\n",
       "      <td>Female</td>\n",
       "      <td>47</td>\n",
       "      <td>35.0</td>\n",
       "      <td>124.0</td>\n",
       "    </tr>\n",
       "  </tbody>\n",
       "</table>\n",
       "</div>"
      ],
      "text/plain": [
       "    0       1   2     3      4\n",
       "0   1    Male  44  28.0   26.0\n",
       "1   2    Male  76   3.0   26.0\n",
       "2   3    Male  47  28.0   26.0\n",
       "3   8  Female  56  28.0   26.0\n",
       "4  11  Female  47  35.0  124.0"
      ]
     },
     "execution_count": 13,
     "metadata": {},
     "output_type": "execute_result"
    }
   ],
   "source": [
    "data = pd.DataFrame(records)\n",
    "data.head()"
   ]
  },
  {
   "cell_type": "markdown",
   "metadata": {
    "heading_collapsed": true,
    "hidden": true
   },
   "source": [
    "## 4.0 Collect using Pandas"
   ]
  },
  {
   "cell_type": "code",
   "execution_count": 14,
   "metadata": {
    "ExecuteTime": {
     "end_time": "2021-10-16T22:01:38.199028Z",
     "start_time": "2021-10-16T21:58:17.325055Z"
    },
    "hidden": true
   },
   "outputs": [],
   "source": [
    "query_tables_users = \"\"\"\n",
    "    SELECT *\n",
    "    FROM pa004.users u\n",
    "\"\"\"\n",
    "\n",
    "df_users = psql.read_sql(query_tables_users,conn)\n",
    "\n",
    "query_tables_vehicle = \"\"\"\n",
    "    SELECT *\n",
    "    FROM pa004.vehicle v\n",
    "\"\"\"\n",
    "\n",
    "df_vehicle = psql.read_sql(query_tables_vehicle,conn)\n",
    "\n",
    "query_tables_insurance = \"\"\"\n",
    "    SELECT *\n",
    "    FROM pa004.insurance i\n",
    "\"\"\"\n",
    "\n",
    "df_insurance = psql.read_sql(query_tables_insurance,conn)\n",
    "\n",
    "query_tables_all = \"\"\"\n",
    "    SELECT *\n",
    "    FROM pa004.insurance i inner join pa004.vehicle v on (i.id = v.id)\n",
    "                           inner join pa004.users u on (i.id = u.id)\n",
    "\"\"\"\n",
    "\n",
    "df = psql.read_sql(query_tables_all,conn)\n",
    "\n",
    "df.to_csv('data.csv')\n",
    "\n",
    "df = pd.read_csv('data.csv')\n",
    "df = df.drop(['Unnamed: 0', 'id.1', 'id.2'], axis=1)"
   ]
  },
  {
   "cell_type": "code",
   "execution_count": 15,
   "metadata": {
    "ExecuteTime": {
     "end_time": "2021-10-16T22:01:38.214019Z",
     "start_time": "2021-10-16T22:01:38.202028Z"
    },
    "hidden": true
   },
   "outputs": [],
   "source": [
    "#df_test = pd.read_csv('test.csv')"
   ]
  },
  {
   "cell_type": "markdown",
   "metadata": {
    "heading_collapsed": true
   },
   "source": [
    "# 1.0. Data Description"
   ]
  },
  {
   "cell_type": "code",
   "execution_count": 16,
   "metadata": {
    "ExecuteTime": {
     "end_time": "2021-10-16T22:01:39.251562Z",
     "start_time": "2021-10-16T22:01:38.217017Z"
    },
    "hidden": true
   },
   "outputs": [],
   "source": [
    "X_init = df.drop(['response'], axis = 1)\n",
    "y_init = df['response'].copy()\n",
    "\n",
    "x_df, x_test, y_df, y_test = ms.train_test_split(X_init,y_init,test_size=0.1)\n",
    "\n",
    "df = pd.concat([x_df, y_df], axis = 1)"
   ]
  },
  {
   "cell_type": "code",
   "execution_count": 17,
   "metadata": {
    "ExecuteTime": {
     "end_time": "2021-10-16T22:01:39.283544Z",
     "start_time": "2021-10-16T22:01:39.253561Z"
    },
    "hidden": true
   },
   "outputs": [],
   "source": [
    "df1 = df.copy()"
   ]
  },
  {
   "cell_type": "markdown",
   "metadata": {
    "heading_collapsed": true,
    "hidden": true
   },
   "source": [
    "## 1.1. Data Dimensions"
   ]
  },
  {
   "cell_type": "code",
   "execution_count": 18,
   "metadata": {
    "ExecuteTime": {
     "end_time": "2021-10-16T22:01:39.615774Z",
     "start_time": "2021-10-16T22:01:39.286539Z"
    },
    "hidden": true
   },
   "outputs": [
    {
     "name": "stdout",
     "output_type": "stream",
     "text": [
      "Number of columns:  12\n",
      "Number of rows:  342998\n"
     ]
    }
   ],
   "source": [
    "print('Number of columns: ', df1.shape[1])\n",
    "print('Number of rows: ', df1.shape[0])"
   ]
  },
  {
   "cell_type": "markdown",
   "metadata": {
    "heading_collapsed": true,
    "hidden": true
   },
   "source": [
    "## 1.2. Data Types"
   ]
  },
  {
   "cell_type": "code",
   "execution_count": 19,
   "metadata": {
    "ExecuteTime": {
     "end_time": "2021-10-16T22:01:39.805657Z",
     "start_time": "2021-10-16T22:01:39.618774Z"
    },
    "hidden": true
   },
   "outputs": [
    {
     "data": {
      "text/plain": [
       "id                        int64\n",
       "previously_insured        int64\n",
       "annual_premium          float64\n",
       "vintage                   int64\n",
       "driving_license           int64\n",
       "vehicle_age              object\n",
       "vehicle_damage           object\n",
       "gender                   object\n",
       "age                       int64\n",
       "region_code             float64\n",
       "policy_sales_channel    float64\n",
       "response                  int64\n",
       "dtype: object"
      ]
     },
     "execution_count": 19,
     "metadata": {},
     "output_type": "execute_result"
    }
   ],
   "source": [
    "df1.dtypes"
   ]
  },
  {
   "cell_type": "markdown",
   "metadata": {
    "heading_collapsed": true,
    "hidden": true
   },
   "source": [
    "## 1.3. Checking NA"
   ]
  },
  {
   "cell_type": "code",
   "execution_count": 20,
   "metadata": {
    "ExecuteTime": {
     "end_time": "2021-10-16T22:01:40.186518Z",
     "start_time": "2021-10-16T22:01:39.808654Z"
    },
    "hidden": true
   },
   "outputs": [
    {
     "data": {
      "text/plain": [
       "id                      0\n",
       "previously_insured      0\n",
       "annual_premium          0\n",
       "vintage                 0\n",
       "driving_license         0\n",
       "vehicle_age             0\n",
       "vehicle_damage          0\n",
       "gender                  0\n",
       "age                     0\n",
       "region_code             0\n",
       "policy_sales_channel    0\n",
       "response                0\n",
       "dtype: int64"
      ]
     },
     "execution_count": 20,
     "metadata": {},
     "output_type": "execute_result"
    }
   ],
   "source": [
    "df1.isna().sum()"
   ]
  },
  {
   "cell_type": "markdown",
   "metadata": {
    "heading_collapsed": true,
    "hidden": true
   },
   "source": [
    "## 1.4. Unity Change"
   ]
  },
  {
   "cell_type": "code",
   "execution_count": 21,
   "metadata": {
    "ExecuteTime": {
     "end_time": "2021-10-16T22:01:40.266467Z",
     "start_time": "2021-10-16T22:01:40.188518Z"
    },
    "hidden": true
   },
   "outputs": [],
   "source": [
    "#annual_premium\n",
    "df1['annual_premium'] = np.int64(df1['annual_premium'])"
   ]
  },
  {
   "cell_type": "code",
   "execution_count": 22,
   "metadata": {
    "ExecuteTime": {
     "end_time": "2021-10-16T22:01:40.487280Z",
     "start_time": "2021-10-16T22:01:40.268466Z"
    },
    "hidden": true
   },
   "outputs": [],
   "source": [
    "#region_code\n",
    "df1['region_code'] = np.int64(df1['region_code'])"
   ]
  },
  {
   "cell_type": "code",
   "execution_count": 23,
   "metadata": {
    "ExecuteTime": {
     "end_time": "2021-10-16T22:01:40.706660Z",
     "start_time": "2021-10-16T22:01:40.490277Z"
    },
    "hidden": true
   },
   "outputs": [],
   "source": [
    "#policy_sales_channel\n",
    "df1['policy_sales_channel'] = np.int64(df1['policy_sales_channel'])"
   ]
  },
  {
   "cell_type": "code",
   "execution_count": 24,
   "metadata": {
    "ExecuteTime": {
     "end_time": "2021-10-16T22:01:41.006475Z",
     "start_time": "2021-10-16T22:01:40.708660Z"
    },
    "hidden": true
   },
   "outputs": [
    {
     "data": {
      "text/plain": [
       "id                       int64\n",
       "previously_insured       int64\n",
       "annual_premium           int64\n",
       "vintage                  int64\n",
       "driving_license          int64\n",
       "vehicle_age             object\n",
       "vehicle_damage          object\n",
       "gender                  object\n",
       "age                      int64\n",
       "region_code              int64\n",
       "policy_sales_channel     int64\n",
       "response                 int64\n",
       "dtype: object"
      ]
     },
     "execution_count": 24,
     "metadata": {},
     "output_type": "execute_result"
    }
   ],
   "source": [
    "df1.dtypes"
   ]
  },
  {
   "cell_type": "markdown",
   "metadata": {
    "heading_collapsed": true,
    "hidden": true
   },
   "source": [
    "## 1.5. Descriptive Statiscal"
   ]
  },
  {
   "cell_type": "code",
   "execution_count": 25,
   "metadata": {
    "ExecuteTime": {
     "end_time": "2021-10-16T22:01:41.305289Z",
     "start_time": "2021-10-16T22:01:41.008473Z"
    },
    "hidden": true
   },
   "outputs": [],
   "source": [
    "num_attributes = df1.select_dtypes(include = ['int64', 'float64'])\n",
    "cat_attributes = df1.select_dtypes(include = ['int64', 'float64', 'datetime64[ns]'])"
   ]
  },
  {
   "cell_type": "markdown",
   "metadata": {
    "heading_collapsed": true,
    "hidden": true
   },
   "source": [
    "### 1.5.1. Numerical"
   ]
  },
  {
   "cell_type": "code",
   "execution_count": 26,
   "metadata": {
    "ExecuteTime": {
     "end_time": "2021-10-16T22:01:43.707086Z",
     "start_time": "2021-10-16T22:01:41.312284Z"
    },
    "hidden": true
   },
   "outputs": [
    {
     "data": {
      "text/html": [
       "<div>\n",
       "<style scoped>\n",
       "    .dataframe tbody tr th:only-of-type {\n",
       "        vertical-align: middle;\n",
       "    }\n",
       "\n",
       "    .dataframe tbody tr th {\n",
       "        vertical-align: top;\n",
       "    }\n",
       "\n",
       "    .dataframe thead th {\n",
       "        text-align: right;\n",
       "    }\n",
       "</style>\n",
       "<table border=\"1\" class=\"dataframe\">\n",
       "  <thead>\n",
       "    <tr style=\"text-align: right;\">\n",
       "      <th></th>\n",
       "      <th>attributes</th>\n",
       "      <th>min</th>\n",
       "      <th>max</th>\n",
       "      <th>range</th>\n",
       "      <th>mean</th>\n",
       "      <th>median</th>\n",
       "      <th>mode</th>\n",
       "      <th>std</th>\n",
       "      <th>skew</th>\n",
       "      <th>kurtosis</th>\n",
       "    </tr>\n",
       "  </thead>\n",
       "  <tbody>\n",
       "    <tr>\n",
       "      <th>0</th>\n",
       "      <td>id</td>\n",
       "      <td>1.0</td>\n",
       "      <td>381109.0</td>\n",
       "      <td>381108.0</td>\n",
       "      <td>190565.783005</td>\n",
       "      <td>190458.0</td>\n",
       "      <td>215117.0</td>\n",
       "      <td>110007.848952</td>\n",
       "      <td>0.000461</td>\n",
       "      <td>-1.200013</td>\n",
       "    </tr>\n",
       "    <tr>\n",
       "      <th>1</th>\n",
       "      <td>previously_insured</td>\n",
       "      <td>0.0</td>\n",
       "      <td>1.0</td>\n",
       "      <td>1.0</td>\n",
       "      <td>0.458087</td>\n",
       "      <td>0.0</td>\n",
       "      <td>0.0</td>\n",
       "      <td>0.498240</td>\n",
       "      <td>0.168244</td>\n",
       "      <td>-1.971705</td>\n",
       "    </tr>\n",
       "    <tr>\n",
       "      <th>2</th>\n",
       "      <td>annual_premium</td>\n",
       "      <td>2630.0</td>\n",
       "      <td>540165.0</td>\n",
       "      <td>537535.0</td>\n",
       "      <td>30547.037983</td>\n",
       "      <td>31646.0</td>\n",
       "      <td>2630.0</td>\n",
       "      <td>17205.454482</td>\n",
       "      <td>1.763100</td>\n",
       "      <td>34.388507</td>\n",
       "    </tr>\n",
       "    <tr>\n",
       "      <th>3</th>\n",
       "      <td>vintage</td>\n",
       "      <td>10.0</td>\n",
       "      <td>299.0</td>\n",
       "      <td>289.0</td>\n",
       "      <td>154.362795</td>\n",
       "      <td>154.0</td>\n",
       "      <td>187.0</td>\n",
       "      <td>83.695768</td>\n",
       "      <td>0.003418</td>\n",
       "      <td>-1.200803</td>\n",
       "    </tr>\n",
       "    <tr>\n",
       "      <th>4</th>\n",
       "      <td>driving_license</td>\n",
       "      <td>0.0</td>\n",
       "      <td>1.0</td>\n",
       "      <td>1.0</td>\n",
       "      <td>0.997866</td>\n",
       "      <td>1.0</td>\n",
       "      <td>1.0</td>\n",
       "      <td>0.046147</td>\n",
       "      <td>-21.577366</td>\n",
       "      <td>463.585417</td>\n",
       "    </tr>\n",
       "    <tr>\n",
       "      <th>5</th>\n",
       "      <td>age</td>\n",
       "      <td>20.0</td>\n",
       "      <td>85.0</td>\n",
       "      <td>65.0</td>\n",
       "      <td>38.811763</td>\n",
       "      <td>36.0</td>\n",
       "      <td>24.0</td>\n",
       "      <td>15.502912</td>\n",
       "      <td>0.672599</td>\n",
       "      <td>-0.565170</td>\n",
       "    </tr>\n",
       "    <tr>\n",
       "      <th>6</th>\n",
       "      <td>region_code</td>\n",
       "      <td>0.0</td>\n",
       "      <td>52.0</td>\n",
       "      <td>52.0</td>\n",
       "      <td>26.383821</td>\n",
       "      <td>28.0</td>\n",
       "      <td>28.0</td>\n",
       "      <td>13.232718</td>\n",
       "      <td>-0.114865</td>\n",
       "      <td>-0.869459</td>\n",
       "    </tr>\n",
       "    <tr>\n",
       "      <th>7</th>\n",
       "      <td>policy_sales_channel</td>\n",
       "      <td>1.0</td>\n",
       "      <td>163.0</td>\n",
       "      <td>162.0</td>\n",
       "      <td>112.033067</td>\n",
       "      <td>132.0</td>\n",
       "      <td>152.0</td>\n",
       "      <td>54.204728</td>\n",
       "      <td>-0.900081</td>\n",
       "      <td>-0.970473</td>\n",
       "    </tr>\n",
       "    <tr>\n",
       "      <th>8</th>\n",
       "      <td>response</td>\n",
       "      <td>0.0</td>\n",
       "      <td>1.0</td>\n",
       "      <td>1.0</td>\n",
       "      <td>0.122648</td>\n",
       "      <td>0.0</td>\n",
       "      <td>0.0</td>\n",
       "      <td>0.328033</td>\n",
       "      <td>2.300708</td>\n",
       "      <td>3.293277</td>\n",
       "    </tr>\n",
       "  </tbody>\n",
       "</table>\n",
       "</div>"
      ],
      "text/plain": [
       "             attributes     min       max     range           mean    median  \\\n",
       "0                    id     1.0  381109.0  381108.0  190565.783005  190458.0   \n",
       "1    previously_insured     0.0       1.0       1.0       0.458087       0.0   \n",
       "2        annual_premium  2630.0  540165.0  537535.0   30547.037983   31646.0   \n",
       "3               vintage    10.0     299.0     289.0     154.362795     154.0   \n",
       "4       driving_license     0.0       1.0       1.0       0.997866       1.0   \n",
       "5                   age    20.0      85.0      65.0      38.811763      36.0   \n",
       "6           region_code     0.0      52.0      52.0      26.383821      28.0   \n",
       "7  policy_sales_channel     1.0     163.0     162.0     112.033067     132.0   \n",
       "8              response     0.0       1.0       1.0       0.122648       0.0   \n",
       "\n",
       "       mode            std       skew    kurtosis  \n",
       "0  215117.0  110007.848952   0.000461   -1.200013  \n",
       "1       0.0       0.498240   0.168244   -1.971705  \n",
       "2    2630.0   17205.454482   1.763100   34.388507  \n",
       "3     187.0      83.695768   0.003418   -1.200803  \n",
       "4       1.0       0.046147 -21.577366  463.585417  \n",
       "5      24.0      15.502912   0.672599   -0.565170  \n",
       "6      28.0      13.232718  -0.114865   -0.869459  \n",
       "7     152.0      54.204728  -0.900081   -0.970473  \n",
       "8       0.0       0.328033   2.300708    3.293277  "
      ]
     },
     "execution_count": 26,
     "metadata": {},
     "output_type": "execute_result"
    }
   ],
   "source": [
    "#central tendency - mean, median, mode\n",
    "ct1 = pd.DataFrame(num_attributes.apply(np.mean)).T\n",
    "ct2 = pd.DataFrame(num_attributes.apply(np.median)).T\n",
    "ct3 = pd.DataFrame(num_attributes.apply(st.mode)).T\n",
    "\n",
    "#Dispersion - std, min, max, range, skew, kurtosis\n",
    "d1 = pd.DataFrame(num_attributes.apply(min)).T\n",
    "d2 = pd.DataFrame(num_attributes.apply(max)).T\n",
    "d3 = pd.DataFrame(num_attributes.apply(lambda x: x.max() - x.min())).T\n",
    "d4 = pd.DataFrame(num_attributes.apply(np.std)).T\n",
    "d5 = pd.DataFrame(num_attributes.apply(lambda x: x.skew())).T\n",
    "d6 = pd.DataFrame(num_attributes.apply(lambda x: x.kurtosis())).T\n",
    "\n",
    "#concatenate\n",
    "m = pd.concat([d1,d2,d3,ct1,ct2,ct3,d4,d5,d6]).T.reset_index()\n",
    "m.columns = ['attributes','min','max','range','mean','median','mode','std','skew','kurtosis']\n",
    "m"
   ]
  },
  {
   "cell_type": "markdown",
   "metadata": {
    "heading_collapsed": true,
    "hidden": true
   },
   "source": [
    "### 1.5.2. Categorical"
   ]
  },
  {
   "cell_type": "code",
   "execution_count": 27,
   "metadata": {
    "ExecuteTime": {
     "end_time": "2021-10-16T22:01:54.222313Z",
     "start_time": "2021-10-16T22:01:43.712085Z"
    },
    "hidden": true
   },
   "outputs": [
    {
     "data": {
      "text/plain": [
       "Text(0.5, 1.0, 'Interest in insurance by gender')"
      ]
     },
     "execution_count": 27,
     "metadata": {},
     "output_type": "execute_result"
    },
    {
     "data": {
      "image/png": "[encoded data removed]",
      "text/plain": [
       "<Figure size 504x360 with 1 Axes>"
      ]
     },
     "metadata": {
      "needs_background": "light"
     },
     "output_type": "display_data"
    }
   ],
   "source": [
    "fig_dims = (7, 5)\n",
    "fig, ax = plt.subplots(figsize=fig_dims)\n",
    "\n",
    "sns.barplot(x='gender', y='response', ax=ax, data=df1)\n",
    "plt.title('Interest in insurance by gender')"
   ]
  },
  {
   "cell_type": "code",
   "execution_count": 28,
   "metadata": {
    "ExecuteTime": {
     "end_time": "2021-10-16T22:02:01.366153Z",
     "start_time": "2021-10-16T22:01:54.224312Z"
    },
    "hidden": true
   },
   "outputs": [
    {
     "data": {
      "text/plain": [
       "Text(0.5, 1.0, 'interest in insurance by vehicle age')"
      ]
     },
     "execution_count": 28,
     "metadata": {},
     "output_type": "execute_result"
    },
    {
     "data": {
      "image/png": "[encoded data removed]",
      "text/plain": [
       "<Figure size 504x360 with 1 Axes>"
      ]
     },
     "metadata": {
      "needs_background": "light"
     },
     "output_type": "display_data"
    }
   ],
   "source": [
    "fig_dims = (7, 5)\n",
    "fig, ax = plt.subplots(figsize=fig_dims)\n",
    "\n",
    "sns.barplot(x='vehicle_age', y='response', ax=ax, data=df1)\n",
    "plt.title('interest in insurance by vehicle age')"
   ]
  },
  {
   "cell_type": "code",
   "execution_count": 29,
   "metadata": {
    "ExecuteTime": {
     "end_time": "2021-10-16T22:02:08.656309Z",
     "start_time": "2021-10-16T22:02:01.368151Z"
    },
    "hidden": true
   },
   "outputs": [
    {
     "data": {
      "image/png": "[encoded data removed]",
      "text/plain": [
       "<Figure size 504x360 with 1 Axes>"
      ]
     },
     "metadata": {
      "needs_background": "light"
     },
     "output_type": "display_data"
    }
   ],
   "source": [
    "fig_dims = (7, 5)\n",
    "fig, ax = plt.subplots(figsize=fig_dims)\n",
    "\n",
    "sns.barplot(x='vehicle_damage', y='response', ax=ax, data=df1)\n",
    "plt.title('vehicle damaged in the past');"
   ]
  },
  {
   "cell_type": "markdown",
   "metadata": {
    "heading_collapsed": true
   },
   "source": [
    "# 2.0. Feature Engineering"
   ]
  },
  {
   "cell_type": "code",
   "execution_count": 30,
   "metadata": {
    "ExecuteTime": {
     "end_time": "2021-10-16T22:02:08.688289Z",
     "start_time": "2021-10-16T22:02:08.658309Z"
    },
    "hidden": true
   },
   "outputs": [],
   "source": [
    "df2 = df1.copy()"
   ]
  },
  {
   "cell_type": "code",
   "execution_count": 31,
   "metadata": {
    "ExecuteTime": {
     "end_time": "2021-10-16T22:02:09.193350Z",
     "start_time": "2021-10-16T22:02:08.690288Z"
    },
    "hidden": true
   },
   "outputs": [],
   "source": [
    "#vehicle_damage\n",
    "df2['vehicle_damage'] = df2['vehicle_damage'].apply(lambda x: 1 if x == 'Yes' else 0)\n",
    "\n",
    "#vehicle_age\n",
    "df2['vehicle_age'] = df2['vehicle_age'].apply(lambda x: 'under 1 yr'\n",
    "                                              if x == '< 1 Year' else x)\n",
    "df2['vehicle_age'] = df2['vehicle_age'].apply(lambda x: 'between 1 - 2yr'\n",
    "                                              if x == '1-2 Year' else x)\n",
    "df2['vehicle_age'] = df2['vehicle_age'].apply(lambda x: 'over 2 yr'\n",
    "                                              if x == '> 2 Years' else x)\n",
    "\n",
    "#transform to (int)\n",
    "#df1['vehicle_age'] = pd.to_numeric(df1['vehicle_age'],errors = 'coerce')"
   ]
  },
  {
   "cell_type": "markdown",
   "metadata": {
    "hidden": true
   },
   "source": [
    "## 2.1 Mind Map"
   ]
  },
  {
   "cell_type": "code",
   "execution_count": 32,
   "metadata": {
    "ExecuteTime": {
     "end_time": "2021-10-16T22:02:09.255425Z",
     "start_time": "2021-10-16T22:02:09.195349Z"
    },
    "hidden": true
   },
   "outputs": [
    {
     "data": {
      "image/png": "[encoded data removed]",
      "text/plain": [
       "<IPython.core.display.Image object>"
      ]
     },
     "execution_count": 32,
     "metadata": {},
     "output_type": "execute_result"
    }
   ],
   "source": [
    "Image('C:/Users/Henrique/repos/Insurance All/mindmap.png')"
   ]
  },
  {
   "cell_type": "code",
   "execution_count": 33,
   "metadata": {
    "ExecuteTime": {
     "end_time": "2021-10-16T22:02:09.411329Z",
     "start_time": "2021-10-16T22:02:09.257429Z"
    },
    "hidden": true
   },
   "outputs": [
    {
     "name": "stdout",
     "output_type": "stream",
     "text": [
      "+-----------+----------------------+----------------------+-------------------------+\n",
      "|  Category | Name                 |         Code         |          Unity          |\n",
      "+-----------+----------------------+----------------------+-------------------------+\n",
      "|    User   | Age                  |         age          |        int (days)       |\n",
      "|    User   | Gender               |        gender        | int - 1 (women) 2 (men) |\n",
      "|    User   | Region code          |     region_code      |           int           |\n",
      "|    User   | Policy sales channel | policy_sales_channel |           int           |\n",
      "|           |                      |                      |                         |\n",
      "|  Vehicle  | Vehicle age          |     vehicle_age      |          float          |\n",
      "|  Vehicle  | Drive license        |   driving_license    |   int - 0 (no) 1 (yes)  |\n",
      "|  Vehicle  | Vehicle damage       |    vehicle_damage    |   int - 0 (no) 1 (yes)  |\n",
      "|           |                      |                      |                         |\n",
      "| Insurance | Previously insured   |  previously_insured  |   int - 0 (no) 1 (yes)  |\n",
      "| Insurance | Annual premium       |    annual_premium    |           int           |\n",
      "| Insurance | Vintage              |       vintage        |           int           |\n",
      "+-----------+----------------------+----------------------+-------------------------+\n"
     ]
    }
   ],
   "source": [
    "# Specify the Column Names while initializing the Table \n",
    "myTable = PrettyTable(['Category','Name', 'Code', 'Unity']) \n",
    "\n",
    "myTable.align[\"Name\"] = \"l\"\n",
    "\n",
    "# Add rows \n",
    "myTable.add_row(['User', 'Age', 'age', 'int (days)']) \n",
    "myTable.add_row(['User', 'Gender', 'gender', 'int - 1 (women) 2 (men)']) \n",
    "myTable.add_row(['User', 'Region code', 'region_code', 'int'])\n",
    "myTable.add_row(['User', 'Policy sales channel', 'policy_sales_channel', 'int'])\n",
    "myTable.add_row(['', '', '', ''])\n",
    "myTable.add_row(['Vehicle','Vehicle age','vehicle_age', 'float'])\n",
    "myTable.add_row(['Vehicle','Drive license','driving_license', 'int - 0 (no) 1 (yes)'])\n",
    "myTable.add_row(['Vehicle','Vehicle damage','vehicle_damage', 'int - 0 (no) 1 (yes)'])\n",
    "myTable.add_row(['', '', '', ''])\n",
    "myTable.add_row(['Insurance','Previously insured','previously_insured', 'int - 0 (no) 1 (yes)'])\n",
    "myTable.add_row(['Insurance','Annual premium','annual_premium', 'int'])\n",
    "myTable.add_row(['Insurance','Vintage','vintage', 'int'])\n",
    "\n",
    "print(myTable)"
   ]
  },
  {
   "cell_type": "markdown",
   "metadata": {
    "hidden": true
   },
   "source": [
    "## 2.2 Hypothesis Creation"
   ]
  },
  {
   "cell_type": "markdown",
   "metadata": {
    "hidden": true
   },
   "source": [
    "### 2.2.1 User Hypothesis"
   ]
  },
  {
   "cell_type": "markdown",
   "metadata": {
    "hidden": true
   },
   "source": [
    "**1.** People between 30 years old are more susceptible to have an insurance\n",
    "\n",
    "**2.** Women hire more insurances"
   ]
  },
  {
   "cell_type": "markdown",
   "metadata": {
    "hidden": true
   },
   "source": [
    "### 2.2.2 Vehicle Hypothesis"
   ]
  },
  {
   "cell_type": "markdown",
   "metadata": {
    "hidden": true
   },
   "source": [
    "**3.** Owners with new cars (< 1 yr) hire more insurances\n",
    "\n",
    "**4.** People with drive license hire more insurances\n",
    "\n",
    "**5.** Owners with vehicle damaged dont hire insurances"
   ]
  },
  {
   "cell_type": "markdown",
   "metadata": {
    "hidden": true
   },
   "source": [
    "### 2.2.3 Insurance Hypothesis"
   ]
  },
  {
   "cell_type": "markdown",
   "metadata": {
    "hidden": true
   },
   "source": [
    "**6.** People previously insured hire another insurance\n",
    "\n",
    "**7.** Higher than 50K annual premium there are more insurances\n",
    "\n",
    "**8.** More days with company more insurances get"
   ]
  },
  {
   "cell_type": "markdown",
   "metadata": {
    "heading_collapsed": true
   },
   "source": [
    "# 3.0 Data Selecting"
   ]
  },
  {
   "cell_type": "code",
   "execution_count": 34,
   "metadata": {
    "ExecuteTime": {
     "end_time": "2021-10-16T22:02:09.694729Z",
     "start_time": "2021-10-16T22:02:09.413327Z"
    },
    "hidden": true
   },
   "outputs": [],
   "source": [
    "df3 = df2.copy()"
   ]
  },
  {
   "cell_type": "markdown",
   "metadata": {
    "hidden": true
   },
   "source": [
    "## 3.1. Identifying Outliers"
   ]
  },
  {
   "cell_type": "code",
   "execution_count": 35,
   "metadata": {
    "ExecuteTime": {
     "end_time": "2021-10-16T22:02:13.982515Z",
     "start_time": "2021-10-16T22:02:09.696723Z"
    },
    "hidden": true
   },
   "outputs": [
    {
     "data": {
      "image/png": "[encoded data removed]",
      "text/plain": [
       "<Figure size 1728x864 with 9 Axes>"
      ]
     },
     "metadata": {
      "needs_background": "light"
     },
     "output_type": "display_data"
    }
   ],
   "source": [
    "df32 = df3.drop('id', axis=1)\n",
    "df32.hist(figsize=(24,12), bins=50);"
   ]
  },
  {
   "cell_type": "code",
   "execution_count": 36,
   "metadata": {
    "ExecuteTime": {
     "end_time": "2021-10-16T22:02:19.199577Z",
     "start_time": "2021-10-16T22:02:13.984507Z"
    },
    "hidden": true
   },
   "outputs": [
    {
     "name": "stderr",
     "output_type": "stream",
     "text": [
      "C:\\Users\\Henrique\\anaconda3\\lib\\site-packages\\seaborn\\distributions.py:2551: FutureWarning: `distplot` is a deprecated function and will be removed in a future version. Please adapt your code to use either `displot` (a figure-level function with similar flexibility) or `histplot` (an axes-level function for histograms).\n",
      "  warnings.warn(msg, FutureWarning)\n"
     ]
    },
    {
     "data": {
      "image/png": "[encoded data removed]",
      "text/plain": [
       "<Figure size 1152x360 with 1 Axes>"
      ]
     },
     "metadata": {
      "needs_background": "light"
     },
     "output_type": "display_data"
    }
   ],
   "source": [
    "# histogram\n",
    "plt.figure(figsize=(16,5))\n",
    "plt.subplot(1,1,1)\n",
    "sns.distplot(df3['annual_premium'])\n",
    "#plt.subplot(1,2,2)\n",
    "#sns.distplot(df['placement_exam_marks'])\n",
    "plt.show()"
   ]
  },
  {
   "cell_type": "code",
   "execution_count": 37,
   "metadata": {
    "ExecuteTime": {
     "end_time": "2021-10-16T22:02:19.246713Z",
     "start_time": "2021-10-16T22:02:19.201574Z"
    },
    "hidden": true
   },
   "outputs": [
    {
     "data": {
      "text/plain": [
       "47669"
      ]
     },
     "execution_count": 37,
     "metadata": {},
     "output_type": "execute_result"
    }
   ],
   "source": [
    "df3['annual_premium'].unique().size"
   ]
  },
  {
   "cell_type": "markdown",
   "metadata": {
    "heading_collapsed": true,
    "hidden": true
   },
   "source": [
    "### 3.1.1 IQR - Annual Premium"
   ]
  },
  {
   "cell_type": "code",
   "execution_count": 38,
   "metadata": {
    "ExecuteTime": {
     "end_time": "2021-10-16T22:02:19.404584Z",
     "start_time": "2021-10-16T22:02:19.248713Z"
    },
    "hidden": true
   },
   "outputs": [
    {
     "name": "stdout",
     "output_type": "stream",
     "text": [
      "Percentiles: 25th =  24391.0 75th =  39393.0 IQR=  15002.0\n"
     ]
    }
   ],
   "source": [
    "# calculate interquartile range\n",
    "q25, q75 = percentile(df3['annual_premium'], 25), percentile(df3['annual_premium'], 75)\n",
    "iqr = q75 - q25\n",
    "print('Percentiles: 25th = ', q25 , '75th = ', q75, 'IQR= ', iqr)"
   ]
  },
  {
   "cell_type": "code",
   "execution_count": 39,
   "metadata": {
    "ExecuteTime": {
     "end_time": "2021-10-16T22:02:19.593788Z",
     "start_time": "2021-10-16T22:02:19.407552Z"
    },
    "hidden": true
   },
   "outputs": [
    {
     "name": "stdout",
     "output_type": "stream",
     "text": [
      "1888.0 61896.0\n"
     ]
    }
   ],
   "source": [
    "# calculate the outlier cutoff\n",
    "cut_off = iqr * 1.5\n",
    "lower, upper = q25 - cut_off, q75 + cut_off\n",
    "print(lower, upper)"
   ]
  },
  {
   "cell_type": "code",
   "execution_count": 40,
   "metadata": {
    "ExecuteTime": {
     "end_time": "2021-10-16T22:02:28.399079Z",
     "start_time": "2021-10-16T22:02:19.596790Z"
    },
    "hidden": true
   },
   "outputs": [],
   "source": [
    "#identify outliers\n",
    "df3['outliers'] = df3.apply(lambda x: 1 if (x['annual_premium'] < lower or x['annual_premium'] > upper) else 0, axis=1)\n",
    "\n",
    "#remove outliers\n",
    "df3 = df3[(df3['outliers'] == 0)]"
   ]
  },
  {
   "cell_type": "code",
   "execution_count": 41,
   "metadata": {
    "ExecuteTime": {
     "end_time": "2021-10-16T22:02:30.022456Z",
     "start_time": "2021-10-16T22:02:28.401123Z"
    },
    "hidden": true
   },
   "outputs": [
    {
     "data": {
      "text/html": [
       "<div>\n",
       "<style scoped>\n",
       "    .dataframe tbody tr th:only-of-type {\n",
       "        vertical-align: middle;\n",
       "    }\n",
       "\n",
       "    .dataframe tbody tr th {\n",
       "        vertical-align: top;\n",
       "    }\n",
       "\n",
       "    .dataframe thead th {\n",
       "        text-align: right;\n",
       "    }\n",
       "</style>\n",
       "<table border=\"1\" class=\"dataframe\">\n",
       "  <thead>\n",
       "    <tr style=\"text-align: right;\">\n",
       "      <th></th>\n",
       "      <th>attributes</th>\n",
       "      <th>min</th>\n",
       "      <th>max</th>\n",
       "      <th>range</th>\n",
       "      <th>mean</th>\n",
       "      <th>median</th>\n",
       "      <th>mode</th>\n",
       "      <th>std</th>\n",
       "      <th>skew</th>\n",
       "      <th>kurtosis</th>\n",
       "    </tr>\n",
       "  </thead>\n",
       "  <tbody>\n",
       "    <tr>\n",
       "      <th>0</th>\n",
       "      <td>id</td>\n",
       "      <td>1.0</td>\n",
       "      <td>381109.0</td>\n",
       "      <td>381108.0</td>\n",
       "      <td>190565.783005</td>\n",
       "      <td>190458.0</td>\n",
       "      <td>215117.0</td>\n",
       "      <td>110007.848952</td>\n",
       "      <td>0.000461</td>\n",
       "      <td>-1.200013</td>\n",
       "    </tr>\n",
       "    <tr>\n",
       "      <th>1</th>\n",
       "      <td>previously_insured</td>\n",
       "      <td>0.0</td>\n",
       "      <td>1.0</td>\n",
       "      <td>1.0</td>\n",
       "      <td>0.458087</td>\n",
       "      <td>0.0</td>\n",
       "      <td>0.0</td>\n",
       "      <td>0.498240</td>\n",
       "      <td>0.168244</td>\n",
       "      <td>-1.971705</td>\n",
       "    </tr>\n",
       "    <tr>\n",
       "      <th>2</th>\n",
       "      <td>annual_premium</td>\n",
       "      <td>2630.0</td>\n",
       "      <td>540165.0</td>\n",
       "      <td>537535.0</td>\n",
       "      <td>30547.037983</td>\n",
       "      <td>31646.0</td>\n",
       "      <td>2630.0</td>\n",
       "      <td>17205.454482</td>\n",
       "      <td>1.763100</td>\n",
       "      <td>34.388507</td>\n",
       "    </tr>\n",
       "    <tr>\n",
       "      <th>3</th>\n",
       "      <td>vintage</td>\n",
       "      <td>10.0</td>\n",
       "      <td>299.0</td>\n",
       "      <td>289.0</td>\n",
       "      <td>154.362795</td>\n",
       "      <td>154.0</td>\n",
       "      <td>187.0</td>\n",
       "      <td>83.695768</td>\n",
       "      <td>0.003418</td>\n",
       "      <td>-1.200803</td>\n",
       "    </tr>\n",
       "    <tr>\n",
       "      <th>4</th>\n",
       "      <td>driving_license</td>\n",
       "      <td>0.0</td>\n",
       "      <td>1.0</td>\n",
       "      <td>1.0</td>\n",
       "      <td>0.997866</td>\n",
       "      <td>1.0</td>\n",
       "      <td>1.0</td>\n",
       "      <td>0.046147</td>\n",
       "      <td>-21.577366</td>\n",
       "      <td>463.585417</td>\n",
       "    </tr>\n",
       "    <tr>\n",
       "      <th>5</th>\n",
       "      <td>age</td>\n",
       "      <td>20.0</td>\n",
       "      <td>85.0</td>\n",
       "      <td>65.0</td>\n",
       "      <td>38.811763</td>\n",
       "      <td>36.0</td>\n",
       "      <td>24.0</td>\n",
       "      <td>15.502912</td>\n",
       "      <td>0.672599</td>\n",
       "      <td>-0.565170</td>\n",
       "    </tr>\n",
       "    <tr>\n",
       "      <th>6</th>\n",
       "      <td>region_code</td>\n",
       "      <td>0.0</td>\n",
       "      <td>52.0</td>\n",
       "      <td>52.0</td>\n",
       "      <td>26.383821</td>\n",
       "      <td>28.0</td>\n",
       "      <td>28.0</td>\n",
       "      <td>13.232718</td>\n",
       "      <td>-0.114865</td>\n",
       "      <td>-0.869459</td>\n",
       "    </tr>\n",
       "    <tr>\n",
       "      <th>7</th>\n",
       "      <td>policy_sales_channel</td>\n",
       "      <td>1.0</td>\n",
       "      <td>163.0</td>\n",
       "      <td>162.0</td>\n",
       "      <td>112.033067</td>\n",
       "      <td>132.0</td>\n",
       "      <td>152.0</td>\n",
       "      <td>54.204728</td>\n",
       "      <td>-0.900081</td>\n",
       "      <td>-0.970473</td>\n",
       "    </tr>\n",
       "    <tr>\n",
       "      <th>8</th>\n",
       "      <td>response</td>\n",
       "      <td>0.0</td>\n",
       "      <td>1.0</td>\n",
       "      <td>1.0</td>\n",
       "      <td>0.122648</td>\n",
       "      <td>0.0</td>\n",
       "      <td>0.0</td>\n",
       "      <td>0.328033</td>\n",
       "      <td>2.300708</td>\n",
       "      <td>3.293277</td>\n",
       "    </tr>\n",
       "  </tbody>\n",
       "</table>\n",
       "</div>"
      ],
      "text/plain": [
       "             attributes     min       max     range           mean    median  \\\n",
       "0                    id     1.0  381109.0  381108.0  190565.783005  190458.0   \n",
       "1    previously_insured     0.0       1.0       1.0       0.458087       0.0   \n",
       "2        annual_premium  2630.0  540165.0  537535.0   30547.037983   31646.0   \n",
       "3               vintage    10.0     299.0     289.0     154.362795     154.0   \n",
       "4       driving_license     0.0       1.0       1.0       0.997866       1.0   \n",
       "5                   age    20.0      85.0      65.0      38.811763      36.0   \n",
       "6           region_code     0.0      52.0      52.0      26.383821      28.0   \n",
       "7  policy_sales_channel     1.0     163.0     162.0     112.033067     132.0   \n",
       "8              response     0.0       1.0       1.0       0.122648       0.0   \n",
       "\n",
       "       mode            std       skew    kurtosis  \n",
       "0  215117.0  110007.848952   0.000461   -1.200013  \n",
       "1       0.0       0.498240   0.168244   -1.971705  \n",
       "2    2630.0   17205.454482   1.763100   34.388507  \n",
       "3     187.0      83.695768   0.003418   -1.200803  \n",
       "4       1.0       0.046147 -21.577366  463.585417  \n",
       "5      24.0      15.502912   0.672599   -0.565170  \n",
       "6      28.0      13.232718  -0.114865   -0.869459  \n",
       "7     152.0      54.204728  -0.900081   -0.970473  \n",
       "8       0.0       0.328033   2.300708    3.293277  "
      ]
     },
     "execution_count": 41,
     "metadata": {},
     "output_type": "execute_result"
    }
   ],
   "source": [
    "num_attributes = df1.select_dtypes(include = ['int64', 'float64'])\n",
    "#cat_attributes = df1.select_dtypes(include = ['int64', 'float64', 'datetime64[ns]'])\n",
    "\n",
    "#central tendency - mean, median, mode\n",
    "ct1 = pd.DataFrame(num_attributes.apply(np.mean)).T\n",
    "ct2 = pd.DataFrame(num_attributes.apply(np.median)).T\n",
    "ct3 = pd.DataFrame(num_attributes.apply(st.mode)).T\n",
    "\n",
    "#Dispersion - std, min, max, range, skew, kurtosis\n",
    "d1 = pd.DataFrame(num_attributes.apply(min)).T\n",
    "d2 = pd.DataFrame(num_attributes.apply(max)).T\n",
    "d3 = pd.DataFrame(num_attributes.apply(lambda x: x.max() - x.min())).T\n",
    "d4 = pd.DataFrame(num_attributes.apply(np.std)).T\n",
    "d5 = pd.DataFrame(num_attributes.apply(lambda x: x.skew())).T\n",
    "d6 = pd.DataFrame(num_attributes.apply(lambda x: x.kurtosis())).T\n",
    "\n",
    "#concatenate\n",
    "m = pd.concat([d1,d2,d3,ct1,ct2,ct3,d4,d5,d6]).T.reset_index()\n",
    "m.columns = ['attributes','min','max','range','mean','median','mode','std','skew','kurtosis']\n",
    "m"
   ]
  },
  {
   "cell_type": "markdown",
   "metadata": {},
   "source": [
    "# 4.0 Exploratory Data Analysis"
   ]
  },
  {
   "cell_type": "code",
   "execution_count": 42,
   "metadata": {
    "ExecuteTime": {
     "end_time": "2021-10-16T22:02:30.052438Z",
     "start_time": "2021-10-16T22:02:30.024455Z"
    }
   },
   "outputs": [],
   "source": [
    "df4 = df3.copy()"
   ]
  },
  {
   "cell_type": "markdown",
   "metadata": {
    "heading_collapsed": true
   },
   "source": [
    "## 4.1. Univariate Analysis"
   ]
  },
  {
   "cell_type": "code",
   "execution_count": 43,
   "metadata": {
    "ExecuteTime": {
     "end_time": "2021-10-16T22:02:30.542277Z",
     "start_time": "2021-10-16T22:02:30.054436Z"
    },
    "hidden": true
   },
   "outputs": [
    {
     "data": {
      "text/plain": [
       "<AxesSubplot:xlabel='response', ylabel='age'>"
      ]
     },
     "execution_count": 43,
     "metadata": {},
     "output_type": "execute_result"
    },
    {
     "data": {
      "image/png": "[encoded data removed]",
      "text/plain": [
       "<Figure size 432x288 with 1 Axes>"
      ]
     },
     "metadata": {
      "needs_background": "light"
     },
     "output_type": "display_data"
    }
   ],
   "source": [
    "#age\n",
    "sns.boxplot(x='response', y='age', data=df4)"
   ]
  },
  {
   "cell_type": "code",
   "execution_count": 44,
   "metadata": {
    "ExecuteTime": {
     "end_time": "2021-10-16T22:02:31.236286Z",
     "start_time": "2021-10-16T22:02:30.544275Z"
    },
    "hidden": true
   },
   "outputs": [
    {
     "data": {
      "text/plain": [
       "<AxesSubplot:xlabel='age', ylabel='Count'>"
      ]
     },
     "execution_count": 44,
     "metadata": {},
     "output_type": "execute_result"
    },
    {
     "data": {
      "image/png": "[encoded data removed]",
      "text/plain": [
       "<Figure size 432x288 with 1 Axes>"
      ]
     },
     "metadata": {
      "needs_background": "light"
     },
     "output_type": "display_data"
    }
   ],
   "source": [
    "aux00 = df4.loc[df4['response'] == 0, 'age']\n",
    "sns.histplot(aux00)"
   ]
  },
  {
   "cell_type": "code",
   "execution_count": 45,
   "metadata": {
    "ExecuteTime": {
     "end_time": "2021-10-16T22:02:31.790948Z",
     "start_time": "2021-10-16T22:02:31.238286Z"
    },
    "hidden": true
   },
   "outputs": [
    {
     "data": {
      "text/plain": [
       "<AxesSubplot:xlabel='age', ylabel='Count'>"
      ]
     },
     "execution_count": 45,
     "metadata": {},
     "output_type": "execute_result"
    },
    {
     "data": {
      "image/png": "[encoded data removed]",
      "text/plain": [
       "<Figure size 432x288 with 1 Axes>"
      ]
     },
     "metadata": {
      "needs_background": "light"
     },
     "output_type": "display_data"
    }
   ],
   "source": [
    "aux01 = df4.loc[df4['response'] == 1, 'age']\n",
    "sns.histplot(aux01)"
   ]
  },
  {
   "cell_type": "code",
   "execution_count": 46,
   "metadata": {
    "ExecuteTime": {
     "end_time": "2021-10-16T22:02:32.090097Z",
     "start_time": "2021-10-16T22:02:31.791948Z"
    },
    "hidden": true
   },
   "outputs": [
    {
     "data": {
      "text/plain": [
       "<AxesSubplot:xlabel='response', ylabel='annual_premium'>"
      ]
     },
     "execution_count": 46,
     "metadata": {},
     "output_type": "execute_result"
    },
    {
     "data": {
      "image/png": "[encoded data removed]",
      "text/plain": [
       "<Figure size 432x288 with 1 Axes>"
      ]
     },
     "metadata": {
      "needs_background": "light"
     },
     "output_type": "display_data"
    }
   ],
   "source": [
    "#annual_premium\n",
    "aux1 = df4[(df4['annual_premium'] > 10000) & (df4['annual_premium'] < 80000)]\n",
    "sns.boxplot(x='response', y='annual_premium', data=aux1)"
   ]
  },
  {
   "cell_type": "code",
   "execution_count": 47,
   "metadata": {
    "ExecuteTime": {
     "end_time": "2021-10-16T22:02:32.755201Z",
     "start_time": "2021-10-16T22:02:32.092095Z"
    },
    "hidden": true,
    "hide_input": false
   },
   "outputs": [
    {
     "data": {
      "text/plain": [
       "<AxesSubplot:xlabel='annual_premium', ylabel='Count'>"
      ]
     },
     "execution_count": 47,
     "metadata": {},
     "output_type": "execute_result"
    },
    {
     "data": {
      "image/png": "[encoded data removed]",
      "text/plain": [
       "<Figure size 432x288 with 1 Axes>"
      ]
     },
     "metadata": {
      "needs_background": "light"
     },
     "output_type": "display_data"
    }
   ],
   "source": [
    "aux00 = aux1.loc[aux1['response'] == 0, 'annual_premium']\n",
    "sns.histplot(aux00)"
   ]
  },
  {
   "cell_type": "code",
   "execution_count": 48,
   "metadata": {
    "ExecuteTime": {
     "end_time": "2021-10-16T22:02:33.150830Z",
     "start_time": "2021-10-16T22:02:32.757191Z"
    },
    "hidden": true,
    "hide_input": false
   },
   "outputs": [
    {
     "data": {
      "text/plain": [
       "<AxesSubplot:xlabel='annual_premium', ylabel='Count'>"
      ]
     },
     "execution_count": 48,
     "metadata": {},
     "output_type": "execute_result"
    },
    {
     "data": {
      "image/png": "[encoded data removed]",
      "text/plain": [
       "<Figure size 432x288 with 1 Axes>"
      ]
     },
     "metadata": {
      "needs_background": "light"
     },
     "output_type": "display_data"
    }
   ],
   "source": [
    "aux01 = aux1.loc[aux1['response'] == 1, 'annual_premium']\n",
    "sns.histplot(aux01)"
   ]
  },
  {
   "cell_type": "code",
   "execution_count": 49,
   "metadata": {
    "ExecuteTime": {
     "end_time": "2021-10-16T22:02:33.528806Z",
     "start_time": "2021-10-16T22:02:33.152829Z"
    },
    "hidden": true
   },
   "outputs": [
    {
     "data": {
      "text/html": [
       "<div>\n",
       "<style scoped>\n",
       "    .dataframe tbody tr th:only-of-type {\n",
       "        vertical-align: middle;\n",
       "    }\n",
       "\n",
       "    .dataframe tbody tr th {\n",
       "        vertical-align: top;\n",
       "    }\n",
       "\n",
       "    .dataframe thead th {\n",
       "        text-align: right;\n",
       "    }\n",
       "</style>\n",
       "<table border=\"1\" class=\"dataframe\">\n",
       "  <thead>\n",
       "    <tr style=\"text-align: right;\">\n",
       "      <th></th>\n",
       "      <th>response</th>\n",
       "      <th>driving_license</th>\n",
       "      <th>driving_license_perc</th>\n",
       "    </tr>\n",
       "  </thead>\n",
       "  <tbody>\n",
       "    <tr>\n",
       "      <th>0</th>\n",
       "      <td>0</td>\n",
       "      <td>292383</td>\n",
       "      <td>0.877932</td>\n",
       "    </tr>\n",
       "    <tr>\n",
       "      <th>1</th>\n",
       "      <td>1</td>\n",
       "      <td>40653</td>\n",
       "      <td>0.122068</td>\n",
       "    </tr>\n",
       "  </tbody>\n",
       "</table>\n",
       "</div>"
      ],
      "text/plain": [
       "   response  driving_license  driving_license_perc\n",
       "0         0           292383              0.877932\n",
       "1         1            40653              0.122068"
      ]
     },
     "execution_count": 49,
     "metadata": {},
     "output_type": "execute_result"
    },
    {
     "data": {
      "image/png": "[encoded data removed]",
      "text/plain": [
       "<Figure size 432x288 with 1 Axes>"
      ]
     },
     "metadata": {
      "needs_background": "light"
     },
     "output_type": "display_data"
    }
   ],
   "source": [
    "#driving_license\n",
    "aux1 = df4[['driving_license', 'response']].groupby('response').sum().reset_index()\n",
    "sns.barplot(x='response', y='driving_license', data=aux1)\n",
    "aux1['driving_license_perc'] = aux1['driving_license'] / aux1['driving_license'].sum()\n",
    "aux1"
   ]
  },
  {
   "cell_type": "code",
   "execution_count": 50,
   "metadata": {
    "ExecuteTime": {
     "end_time": "2021-10-16T22:02:34.687363Z",
     "start_time": "2021-10-16T22:02:33.530805Z"
    },
    "hidden": true
   },
   "outputs": [
    {
     "data": {
      "text/plain": [
       "<AxesSubplot:xlabel='region_code', ylabel='id'>"
      ]
     },
     "execution_count": 50,
     "metadata": {},
     "output_type": "execute_result"
    },
    {
     "data": {
      "image/png": "[encoded data removed]",
      "text/plain": [
       "<Figure size 432x288 with 1 Axes>"
      ]
     },
     "metadata": {
      "needs_background": "light"
     },
     "output_type": "display_data"
    }
   ],
   "source": [
    "#region_code\n",
    "aux1 = df4[['id','region_code','response']].groupby(['region_code','response']).count().reset_index()\n",
    "sns.scatterplot(x='region_code', y='id', hue='response', data=aux1)"
   ]
  },
  {
   "cell_type": "code",
   "execution_count": 51,
   "metadata": {
    "ExecuteTime": {
     "end_time": "2021-10-16T22:02:34.890921Z",
     "start_time": "2021-10-16T22:02:34.690362Z"
    },
    "hidden": true
   },
   "outputs": [
    {
     "data": {
      "text/html": [
       "<div>\n",
       "<style scoped>\n",
       "    .dataframe tbody tr th:only-of-type {\n",
       "        vertical-align: middle;\n",
       "    }\n",
       "\n",
       "    .dataframe tbody tr th {\n",
       "        vertical-align: top;\n",
       "    }\n",
       "\n",
       "    .dataframe thead th {\n",
       "        text-align: right;\n",
       "    }\n",
       "</style>\n",
       "<table border=\"1\" class=\"dataframe\">\n",
       "  <thead>\n",
       "    <tr style=\"text-align: right;\">\n",
       "      <th>response</th>\n",
       "      <th>0</th>\n",
       "      <th>1</th>\n",
       "    </tr>\n",
       "    <tr>\n",
       "      <th>previously_insured</th>\n",
       "      <th></th>\n",
       "      <th></th>\n",
       "    </tr>\n",
       "  </thead>\n",
       "  <tbody>\n",
       "    <tr>\n",
       "      <th>0</th>\n",
       "      <td>0.775189</td>\n",
       "      <td>0.224811</td>\n",
       "    </tr>\n",
       "    <tr>\n",
       "      <th>1</th>\n",
       "      <td>0.999081</td>\n",
       "      <td>0.000919</td>\n",
       "    </tr>\n",
       "  </tbody>\n",
       "</table>\n",
       "</div>"
      ],
      "text/plain": [
       "response                   0         1\n",
       "previously_insured                    \n",
       "0                   0.775189  0.224811\n",
       "1                   0.999081  0.000919"
      ]
     },
     "execution_count": 51,
     "metadata": {},
     "output_type": "execute_result"
    }
   ],
   "source": [
    "#previously_insured\n",
    "pd.crosstab(df4['previously_insured'], df4['response']).apply(lambda x: x/x.sum(), axis=1)"
   ]
  },
  {
   "cell_type": "code",
   "execution_count": 52,
   "metadata": {
    "ExecuteTime": {
     "end_time": "2021-10-16T22:02:34.985862Z",
     "start_time": "2021-10-16T22:02:34.892921Z"
    },
    "hidden": true
   },
   "outputs": [
    {
     "data": {
      "text/html": [
       "<div>\n",
       "<style scoped>\n",
       "    .dataframe tbody tr th:only-of-type {\n",
       "        vertical-align: middle;\n",
       "    }\n",
       "\n",
       "    .dataframe tbody tr th {\n",
       "        vertical-align: top;\n",
       "    }\n",
       "\n",
       "    .dataframe thead th {\n",
       "        text-align: right;\n",
       "    }\n",
       "</style>\n",
       "<table border=\"1\" class=\"dataframe\">\n",
       "  <thead>\n",
       "    <tr style=\"text-align: right;\">\n",
       "      <th></th>\n",
       "      <th>vehicle_age</th>\n",
       "      <th>response</th>\n",
       "      <th>0</th>\n",
       "    </tr>\n",
       "  </thead>\n",
       "  <tbody>\n",
       "    <tr>\n",
       "      <th>0</th>\n",
       "      <td>between 1 - 2yr</td>\n",
       "      <td>0</td>\n",
       "      <td>0.432463</td>\n",
       "    </tr>\n",
       "    <tr>\n",
       "      <th>1</th>\n",
       "      <td>under 1 yr</td>\n",
       "      <td>0</td>\n",
       "      <td>0.416690</td>\n",
       "    </tr>\n",
       "    <tr>\n",
       "      <th>2</th>\n",
       "      <td>between 1 - 2yr</td>\n",
       "      <td>1</td>\n",
       "      <td>0.091126</td>\n",
       "    </tr>\n",
       "    <tr>\n",
       "      <th>3</th>\n",
       "      <td>over 2 yr</td>\n",
       "      <td>0</td>\n",
       "      <td>0.028916</td>\n",
       "    </tr>\n",
       "    <tr>\n",
       "      <th>4</th>\n",
       "      <td>under 1 yr</td>\n",
       "      <td>1</td>\n",
       "      <td>0.019046</td>\n",
       "    </tr>\n",
       "    <tr>\n",
       "      <th>5</th>\n",
       "      <td>over 2 yr</td>\n",
       "      <td>1</td>\n",
       "      <td>0.011758</td>\n",
       "    </tr>\n",
       "  </tbody>\n",
       "</table>\n",
       "</div>"
      ],
      "text/plain": [
       "       vehicle_age  response         0\n",
       "0  between 1 - 2yr         0  0.432463\n",
       "1       under 1 yr         0  0.416690\n",
       "2  between 1 - 2yr         1  0.091126\n",
       "3        over 2 yr         0  0.028916\n",
       "4       under 1 yr         1  0.019046\n",
       "5        over 2 yr         1  0.011758"
      ]
     },
     "execution_count": 52,
     "metadata": {},
     "output_type": "execute_result"
    }
   ],
   "source": [
    "#vehicle_age\n",
    "df4[['vehicle_age', 'response']].value_counts(normalize=True).reset_index()"
   ]
  },
  {
   "cell_type": "code",
   "execution_count": 53,
   "metadata": {
    "ExecuteTime": {
     "end_time": "2021-10-16T22:02:38.038996Z",
     "start_time": "2021-10-16T22:02:34.987859Z"
    },
    "hidden": true
   },
   "outputs": [
    {
     "data": {
      "text/plain": [
       "<AxesSubplot:xlabel='response', ylabel='policy_sales_channel'>"
      ]
     },
     "execution_count": 53,
     "metadata": {},
     "output_type": "execute_result"
    },
    {
     "data": {
      "image/png": "[encoded data removed]",
      "text/plain": [
       "<Figure size 1728x864 with 1 Axes>"
      ]
     },
     "metadata": {
      "needs_background": "light"
     },
     "output_type": "display_data"
    }
   ],
   "source": [
    "#policy_channel\n",
    "plt.figure(figsize=(24,12))\n",
    "aux1 = df4[['policy_sales_channel', 'response']].groupby('policy_sales_channel').sum().reset_index()\n",
    "sns.barplot(x='response', y='policy_sales_channel', data=aux1)"
   ]
  },
  {
   "cell_type": "code",
   "execution_count": 54,
   "metadata": {
    "ExecuteTime": {
     "end_time": "2021-10-16T22:02:38.292113Z",
     "start_time": "2021-10-16T22:02:38.040995Z"
    },
    "hidden": true
   },
   "outputs": [
    {
     "data": {
      "text/plain": [
       "<AxesSubplot:xlabel='response', ylabel='vintage'>"
      ]
     },
     "execution_count": 54,
     "metadata": {},
     "output_type": "execute_result"
    },
    {
     "data": {
      "image/png": "[encoded data removed]",
      "text/plain": [
       "<Figure size 432x288 with 1 Axes>"
      ]
     },
     "metadata": {
      "needs_background": "light"
     },
     "output_type": "display_data"
    }
   ],
   "source": [
    "#vintage\n",
    "sns.boxplot(x='response', y='vintage', data=df4)"
   ]
  },
  {
   "cell_type": "code",
   "execution_count": 55,
   "metadata": {
    "ExecuteTime": {
     "end_time": "2021-10-16T22:02:38.845981Z",
     "start_time": "2021-10-16T22:02:38.294112Z"
    },
    "hidden": true
   },
   "outputs": [
    {
     "data": {
      "text/plain": [
       "<AxesSubplot:xlabel='vintage', ylabel='Count'>"
      ]
     },
     "execution_count": 55,
     "metadata": {},
     "output_type": "execute_result"
    },
    {
     "data": {
      "image/png": "[encoded data removed]",
      "text/plain": [
       "<Figure size 432x288 with 1 Axes>"
      ]
     },
     "metadata": {
      "needs_background": "light"
     },
     "output_type": "display_data"
    }
   ],
   "source": [
    "aux00 = df4.loc[df4['response'] == 0, 'vintage']\n",
    "sns.histplot(aux00)"
   ]
  },
  {
   "cell_type": "code",
   "execution_count": 56,
   "metadata": {
    "ExecuteTime": {
     "end_time": "2021-10-16T22:02:39.178597Z",
     "start_time": "2021-10-16T22:02:38.847980Z"
    },
    "hidden": true
   },
   "outputs": [
    {
     "data": {
      "text/plain": [
       "<AxesSubplot:xlabel='vintage', ylabel='Count'>"
      ]
     },
     "execution_count": 56,
     "metadata": {},
     "output_type": "execute_result"
    },
    {
     "data": {
      "image/png": "[encoded data removed]",
      "text/plain": [
       "<Figure size 432x288 with 1 Axes>"
      ]
     },
     "metadata": {
      "needs_background": "light"
     },
     "output_type": "display_data"
    }
   ],
   "source": [
    "aux01 = df4.loc[df4['response'] == 1, 'vintage']\n",
    "sns.histplot(aux01)"
   ]
  },
  {
   "cell_type": "markdown",
   "metadata": {
    "heading_collapsed": true
   },
   "source": [
    "## 4.2 Bivariate Analysis"
   ]
  },
  {
   "cell_type": "markdown",
   "metadata": {
    "hidden": true
   },
   "source": [
    "People between 30 years old are more susceptible to have an insurance"
   ]
  },
  {
   "cell_type": "code",
   "execution_count": 57,
   "metadata": {
    "ExecuteTime": {
     "end_time": "2021-10-16T22:02:41.379166Z",
     "start_time": "2021-10-16T22:02:39.180971Z"
    },
    "hidden": true
   },
   "outputs": [
    {
     "data": {
      "image/png": "[encoded data removed]",
      "text/plain": [
       "<Figure size 1080x504 with 1 Axes>"
      ]
     },
     "metadata": {
      "needs_background": "light"
     },
     "output_type": "display_data"
    }
   ],
   "source": [
    "#insurance per age\n",
    "aux1 = df4[['age', 'response']].groupby('age').sum().reset_index().rename(columns={0:'total'})\n",
    "\n",
    "#histogram\n",
    "fig_dims = (15, 7)\n",
    "fig, ax = plt.subplots(figsize=fig_dims)\n",
    "sns.barplot(x='age', y='response', ax=ax, data=aux1)\n",
    "plt.title('Insurance per age')\n",
    "plt.show()"
   ]
  },
  {
   "cell_type": "code",
   "execution_count": 58,
   "metadata": {
    "ExecuteTime": {
     "end_time": "2021-10-16T22:02:41.520161Z",
     "start_time": "2021-10-16T22:02:41.381164Z"
    },
    "hidden": true
   },
   "outputs": [
    {
     "name": "stderr",
     "output_type": "stream",
     "text": [
      "<ipython-input-5-ec34c151601b>:6: SettingWithCopyWarning: \n",
      "A value is trying to be set on a copy of a slice from a DataFrame\n",
      "\n",
      "See the caveats in the documentation: https://pandas.pydata.org/pandas-docs/stable/user_guide/indexing.html#returning-a-view-versus-a-copy\n",
      "  x['%_insur_1'][i] = p\n"
     ]
    }
   ],
   "source": [
    "#% insurance per age - %\n",
    "aux1 = df4[(df4['age'] <= 80)]\n",
    "aux1 = aux1[['age', 'response']].groupby(['age','response']).size().reset_index().rename(columns={0:'total'})\n",
    "aux1['%_insur_1'] = \"\"\n",
    "aux1 = perc_insurance(aux1)"
   ]
  },
  {
   "cell_type": "code",
   "execution_count": 59,
   "metadata": {
    "ExecuteTime": {
     "end_time": "2021-10-16T22:02:41.567124Z",
     "start_time": "2021-10-16T22:02:41.522152Z"
    },
    "hidden": true
   },
   "outputs": [
    {
     "data": {
      "text/html": [
       "<div>\n",
       "<style scoped>\n",
       "    .dataframe tbody tr th:only-of-type {\n",
       "        vertical-align: middle;\n",
       "    }\n",
       "\n",
       "    .dataframe tbody tr th {\n",
       "        vertical-align: top;\n",
       "    }\n",
       "\n",
       "    .dataframe thead th {\n",
       "        text-align: right;\n",
       "    }\n",
       "</style>\n",
       "<table border=\"1\" class=\"dataframe\">\n",
       "  <thead>\n",
       "    <tr style=\"text-align: right;\">\n",
       "      <th></th>\n",
       "      <th>index</th>\n",
       "      <th>between 30</th>\n",
       "      <th>outside 30</th>\n",
       "    </tr>\n",
       "  </thead>\n",
       "  <tbody>\n",
       "    <tr>\n",
       "      <th>0</th>\n",
       "      <td>mean age</td>\n",
       "      <td>34.500000</td>\n",
       "      <td>53.039216</td>\n",
       "    </tr>\n",
       "    <tr>\n",
       "      <th>1</th>\n",
       "      <td>response</td>\n",
       "      <td>1.000000</td>\n",
       "      <td>1.000000</td>\n",
       "    </tr>\n",
       "    <tr>\n",
       "      <th>2</th>\n",
       "      <td>mean quant</td>\n",
       "      <td>961.500000</td>\n",
       "      <td>609.254902</td>\n",
       "    </tr>\n",
       "    <tr>\n",
       "      <th>3</th>\n",
       "      <td>average % insur</td>\n",
       "      <td>20.252043</td>\n",
       "      <td>12.156705</td>\n",
       "    </tr>\n",
       "  </tbody>\n",
       "</table>\n",
       "</div>"
      ],
      "text/plain": [
       "             index  between 30  outside 30\n",
       "0         mean age   34.500000   53.039216\n",
       "1         response    1.000000    1.000000\n",
       "2       mean quant  961.500000  609.254902\n",
       "3  average % insur   20.252043   12.156705"
      ]
     },
     "execution_count": 59,
     "metadata": {},
     "output_type": "execute_result"
    }
   ],
   "source": [
    "#divide bewtween two groups between and outside 30\n",
    "aux1 = aux1[(aux1['response'] == 1)]\n",
    "aux_30 = aux1.loc[(aux1['age'] >= 30) & (aux1['age'] <= 39)]\n",
    "aux_30 = pd.DataFrame(aux_30.apply(np.mean)).T\n",
    "\n",
    "aux_29 = aux1.loc[(aux1['age'] < 30) | (aux1['age'] > 39)]\n",
    "aux_29 = pd.DataFrame(aux_29.apply(np.mean)).T\n",
    "\n",
    "#result of average\n",
    "m = pd.concat([aux_30, aux_29]).T.reset_index()\n",
    "m.columns = ['index','between 30','outside 30']\n",
    "#m.drop(['response'], axis=1)\n",
    "m['index'] = {'mean age': 0, 'response': 1, 'mean quant': 2, 'average % insur': 3}\n",
    "m"
   ]
  },
  {
   "cell_type": "code",
   "execution_count": 60,
   "metadata": {
    "ExecuteTime": {
     "end_time": "2021-10-16T22:02:43.858348Z",
     "start_time": "2021-10-16T22:02:41.570123Z"
    },
    "hidden": true
   },
   "outputs": [
    {
     "data": {
      "image/png": "[encoded data removed]",
      "text/plain": [
       "<Figure size 1296x720 with 1 Axes>"
      ]
     },
     "metadata": {
      "needs_background": "light"
     },
     "output_type": "display_data"
    }
   ],
   "source": [
    "#histogram insurance per age %\n",
    "fig_dims = (18, 10)\n",
    "fig, ax = plt.subplots(figsize=fig_dims)\n",
    "\n",
    "graph = sns.barplot(x='age', y='%_insur_1', ax=ax, data=aux1)\n",
    "graph.axvline(9.5, ymin=0.0, ymax=1.0, linestyle =\"--\", color='blue')\n",
    "graph.axvline(19.5, ymin=0.0, ymax=1.0, linestyle =\"--\", color='blue')\n",
    "graph.axhline(20, xmin=0.0, xmax=1.0, linestyle =\"--\", color='red')\n",
    "plt.title('% Insurance per age')\n",
    "plt.show()"
   ]
  },
  {
   "cell_type": "code",
   "execution_count": 61,
   "metadata": {
    "ExecuteTime": {
     "end_time": "2021-10-16T22:02:46.253123Z",
     "start_time": "2021-10-16T22:02:43.860347Z"
    },
    "hidden": true
   },
   "outputs": [
    {
     "data": {
      "image/png": "[encoded data removed]",
      "text/plain": [
       "<Figure size 1080x720 with 1 Axes>"
      ]
     },
     "metadata": {
      "needs_background": "light"
     },
     "output_type": "display_data"
    }
   ],
   "source": [
    "#cvd per height\n",
    "aux1 = df4[(df4['response'] >= 1)]\n",
    "aux1 = aux1[['age', 'response']].groupby('age').size().reset_index().rename(columns={0:'total_1'})\n",
    "\n",
    "aux2 = df4[(df4['response'] <= 0)]\n",
    "aux2 = aux2[['age', 'response']].groupby('age').size().reset_index().rename(columns={0:'total_0'})\n",
    "\n",
    "#histogram\n",
    "fig = plt.figure(figsize=(15,10))\n",
    "\n",
    "ax = fig.add_subplot(111)\n",
    "\n",
    "width = 0.2\n",
    "\n",
    "aux1.plot(x='age', y='total_1', kind='bar', color='red', ax=ax, width=width, position=0)\n",
    "aux2.plot(x='age', y='total_0', kind='bar', color='blue', ax=ax, width=width, position=1)\n",
    "plt.show()"
   ]
  },
  {
   "cell_type": "markdown",
   "metadata": {
    "hidden": true
   },
   "source": [
    "Women hire more insurances"
   ]
  },
  {
   "cell_type": "code",
   "execution_count": 62,
   "metadata": {
    "ExecuteTime": {
     "end_time": "2021-10-16T22:02:46.269115Z",
     "start_time": "2021-10-16T22:02:46.255123Z"
    },
    "hidden": true
   },
   "outputs": [],
   "source": [
    "#transform to categorical\n",
    "#df42 = df4.copy()\n",
    "#df42['gender'] = df42['gender'].apply({'Female':'women', 2:'men'}.get)"
   ]
  },
  {
   "cell_type": "code",
   "execution_count": 63,
   "metadata": {
    "ExecuteTime": {
     "end_time": "2021-10-16T22:02:46.674371Z",
     "start_time": "2021-10-16T22:02:46.271113Z"
    },
    "hidden": true
   },
   "outputs": [
    {
     "data": {
      "image/png": "[encoded data removed]",
      "text/plain": [
       "<Figure size 1080x504 with 1 Axes>"
      ]
     },
     "metadata": {
      "needs_background": "light"
     },
     "output_type": "display_data"
    }
   ],
   "source": [
    "#insurance per gender\n",
    "aux1 = df4[['gender', 'response']].groupby('gender').sum().reset_index().rename(columns={0:'total'})\n",
    "\n",
    "#histogram\n",
    "fig_dims = (15, 7)\n",
    "fig, ax = plt.subplots(figsize=fig_dims)\n",
    "sns.barplot(x='gender', y='response', ax=ax, data=aux1)\n",
    "plt.title('Insurance per gender')\n",
    "plt.show()"
   ]
  },
  {
   "cell_type": "code",
   "execution_count": 64,
   "metadata": {
    "ExecuteTime": {
     "end_time": "2021-10-16T22:02:46.785303Z",
     "start_time": "2021-10-16T22:02:46.677371Z"
    },
    "hidden": true
   },
   "outputs": [
    {
     "name": "stderr",
     "output_type": "stream",
     "text": [
      "<ipython-input-5-ec34c151601b>:6: SettingWithCopyWarning: \n",
      "A value is trying to be set on a copy of a slice from a DataFrame\n",
      "\n",
      "See the caveats in the documentation: https://pandas.pydata.org/pandas-docs/stable/user_guide/indexing.html#returning-a-view-versus-a-copy\n",
      "  x['%_insur_1'][i] = p\n"
     ]
    },
    {
     "data": {
      "text/html": [
       "<div>\n",
       "<style scoped>\n",
       "    .dataframe tbody tr th:only-of-type {\n",
       "        vertical-align: middle;\n",
       "    }\n",
       "\n",
       "    .dataframe tbody tr th {\n",
       "        vertical-align: top;\n",
       "    }\n",
       "\n",
       "    .dataframe thead th {\n",
       "        text-align: right;\n",
       "    }\n",
       "</style>\n",
       "<table border=\"1\" class=\"dataframe\">\n",
       "  <thead>\n",
       "    <tr style=\"text-align: right;\">\n",
       "      <th></th>\n",
       "      <th>gender</th>\n",
       "      <th>response</th>\n",
       "      <th>total</th>\n",
       "      <th>%_insur_1</th>\n",
       "    </tr>\n",
       "  </thead>\n",
       "  <tbody>\n",
       "    <tr>\n",
       "      <th>1</th>\n",
       "      <td>Female</td>\n",
       "      <td>1</td>\n",
       "      <td>15844</td>\n",
       "      <td>10.334616</td>\n",
       "    </tr>\n",
       "    <tr>\n",
       "      <th>3</th>\n",
       "      <td>Male</td>\n",
       "      <td>1</td>\n",
       "      <td>24847</td>\n",
       "      <td>13.772289</td>\n",
       "    </tr>\n",
       "  </tbody>\n",
       "</table>\n",
       "</div>"
      ],
      "text/plain": [
       "   gender  response  total  %_insur_1\n",
       "1  Female         1  15844  10.334616\n",
       "3    Male         1  24847  13.772289"
      ]
     },
     "execution_count": 64,
     "metadata": {},
     "output_type": "execute_result"
    }
   ],
   "source": [
    "#calculate % insurance per gender\n",
    "aux1 = df4[['gender', 'response']].groupby(['gender','response']).size().reset_index().rename(columns={0:'total'})\n",
    "aux1['%_insur_1'] = \"\"\n",
    "aux1 = perc_insurance(aux1)\n",
    "\n",
    "#result of %\n",
    "aux1 = aux1[(aux1['response'] >= 1)]\n",
    "aux1"
   ]
  },
  {
   "cell_type": "code",
   "execution_count": 65,
   "metadata": {
    "ExecuteTime": {
     "end_time": "2021-10-16T22:02:47.115184Z",
     "start_time": "2021-10-16T22:02:46.788303Z"
    },
    "hidden": true
   },
   "outputs": [
    {
     "data": {
      "image/png": "[encoded data removed]",
      "text/plain": [
       "<Figure size 432x576 with 1 Axes>"
      ]
     },
     "metadata": {
      "needs_background": "light"
     },
     "output_type": "display_data"
    }
   ],
   "source": [
    "#histogram insurance per gender (average)\n",
    "fig_dims = (6, 8)\n",
    "fig, ax = plt.subplots(figsize=fig_dims)\n",
    "\n",
    "graph = sns.barplot(x='gender', y='%_insur_1', ax=ax, data=aux1)\n",
    "graph.axhline(10, xmin=0.0, xmax=1.0, linestyle =\"--\", color='red')\n",
    "plt.title('% Insurance per gender')\n",
    "plt.show()"
   ]
  },
  {
   "cell_type": "code",
   "execution_count": 66,
   "metadata": {
    "ExecuteTime": {
     "end_time": "2021-10-16T22:02:47.512939Z",
     "start_time": "2021-10-16T22:02:47.118182Z"
    },
    "hidden": true
   },
   "outputs": [
    {
     "data": {
      "image/png": "[encoded data removed]",
      "text/plain": [
       "<Figure size 720x720 with 1 Axes>"
      ]
     },
     "metadata": {
      "needs_background": "light"
     },
     "output_type": "display_data"
    }
   ],
   "source": [
    "#insurance per gender\n",
    "aux1 = df4[(df4['response'] >= 1)]\n",
    "aux1 = aux1[['gender', 'response']].groupby('gender').size().reset_index().rename(columns={0:'total_1'})\n",
    "\n",
    "aux2 = df4[(df4['response'] <= 0)]\n",
    "aux2 = aux2[['gender', 'response']].groupby('gender').size().reset_index().rename(columns={0:'total_0'})\n",
    "\n",
    "#histogram\n",
    "fig = plt.figure(figsize=(10,10))\n",
    "\n",
    "ax = fig.add_subplot(111)\n",
    "\n",
    "width = 0.2\n",
    "\n",
    "aux1.plot(x='gender', y='total_1', kind='bar', color='red', ax=ax, width=width, position=0)\n",
    "aux2.plot(x='gender', y='total_0', kind='bar', color='blue', ax=ax, width=width, position=1)\n",
    "plt.show()"
   ]
  },
  {
   "cell_type": "markdown",
   "metadata": {
    "hidden": true
   },
   "source": [
    "Owners with new cars (< 1 yr) hire more insurances"
   ]
  },
  {
   "cell_type": "code",
   "execution_count": 67,
   "metadata": {
    "ExecuteTime": {
     "end_time": "2021-10-16T22:02:47.528930Z",
     "start_time": "2021-10-16T22:02:47.515936Z"
    },
    "hidden": true
   },
   "outputs": [],
   "source": [
    "#transform to categorical\n",
    "#df42 = df4.copy()\n",
    "#df42['vehicle_age'] = df42['vehicle_age'].apply({1:'less 1yr', 1.5:'between 1 - 2 yr', 2:'more 2 yr'}.get)"
   ]
  },
  {
   "cell_type": "code",
   "execution_count": 68,
   "metadata": {
    "ExecuteTime": {
     "end_time": "2021-10-16T22:02:47.908002Z",
     "start_time": "2021-10-16T22:02:47.531926Z"
    },
    "hidden": true
   },
   "outputs": [
    {
     "data": {
      "image/png": "[encoded data removed]",
      "text/plain": [
       "<Figure size 1080x504 with 1 Axes>"
      ]
     },
     "metadata": {
      "needs_background": "light"
     },
     "output_type": "display_data"
    }
   ],
   "source": [
    "#insurance per vehicle_age\n",
    "aux1 = df4[['vehicle_age', 'response']].groupby('vehicle_age').sum().reset_index().rename(columns={0:'total'})\n",
    "\n",
    "#histogram\n",
    "fig_dims = (15, 7)\n",
    "fig, ax = plt.subplots(figsize=fig_dims)\n",
    "sns.barplot(x='vehicle_age', y='response', ax=ax, data=aux1)\n",
    "plt.title('Insurance per vehicle age')\n",
    "plt.show()"
   ]
  },
  {
   "cell_type": "code",
   "execution_count": 69,
   "metadata": {
    "ExecuteTime": {
     "end_time": "2021-10-16T22:02:48.002946Z",
     "start_time": "2021-10-16T22:02:47.911002Z"
    },
    "hidden": true
   },
   "outputs": [
    {
     "name": "stderr",
     "output_type": "stream",
     "text": [
      "<ipython-input-5-ec34c151601b>:6: SettingWithCopyWarning: \n",
      "A value is trying to be set on a copy of a slice from a DataFrame\n",
      "\n",
      "See the caveats in the documentation: https://pandas.pydata.org/pandas-docs/stable/user_guide/indexing.html#returning-a-view-versus-a-copy\n",
      "  x['%_insur_1'][i] = p\n"
     ]
    },
    {
     "data": {
      "text/html": [
       "<div>\n",
       "<style scoped>\n",
       "    .dataframe tbody tr th:only-of-type {\n",
       "        vertical-align: middle;\n",
       "    }\n",
       "\n",
       "    .dataframe tbody tr th {\n",
       "        vertical-align: top;\n",
       "    }\n",
       "\n",
       "    .dataframe thead th {\n",
       "        text-align: right;\n",
       "    }\n",
       "</style>\n",
       "<table border=\"1\" class=\"dataframe\">\n",
       "  <thead>\n",
       "    <tr style=\"text-align: right;\">\n",
       "      <th></th>\n",
       "      <th>vehicle_age</th>\n",
       "      <th>response</th>\n",
       "      <th>total</th>\n",
       "      <th>%_insur_1</th>\n",
       "    </tr>\n",
       "  </thead>\n",
       "  <tbody>\n",
       "    <tr>\n",
       "      <th>1</th>\n",
       "      <td>between 1 - 2yr</td>\n",
       "      <td>1</td>\n",
       "      <td>30411</td>\n",
       "      <td>17.404169</td>\n",
       "    </tr>\n",
       "    <tr>\n",
       "      <th>3</th>\n",
       "      <td>over 2 yr</td>\n",
       "      <td>1</td>\n",
       "      <td>3924</td>\n",
       "      <td>28.908207</td>\n",
       "    </tr>\n",
       "    <tr>\n",
       "      <th>5</th>\n",
       "      <td>under 1 yr</td>\n",
       "      <td>1</td>\n",
       "      <td>6356</td>\n",
       "      <td>4.370938</td>\n",
       "    </tr>\n",
       "  </tbody>\n",
       "</table>\n",
       "</div>"
      ],
      "text/plain": [
       "       vehicle_age  response  total  %_insur_1\n",
       "1  between 1 - 2yr         1  30411  17.404169\n",
       "3        over 2 yr         1   3924  28.908207\n",
       "5       under 1 yr         1   6356   4.370938"
      ]
     },
     "execution_count": 69,
     "metadata": {},
     "output_type": "execute_result"
    }
   ],
   "source": [
    "#calculate % insurance per vehicle_age\n",
    "aux1 = df4[['vehicle_age', 'response']].groupby(['vehicle_age','response']).size().reset_index().rename(columns={0:'total'})\n",
    "aux1['%_insur_1'] = \"\"\n",
    "aux1 = perc_insurance(aux1)\n",
    "\n",
    "#result of %\n",
    "aux1 = aux1[(aux1['response'] >= 1)]\n",
    "aux1"
   ]
  },
  {
   "cell_type": "code",
   "execution_count": 70,
   "metadata": {
    "ExecuteTime": {
     "end_time": "2021-10-16T22:02:48.351827Z",
     "start_time": "2021-10-16T22:02:48.004942Z"
    },
    "hidden": true
   },
   "outputs": [
    {
     "data": {
      "image/png": "[encoded data removed]",
      "text/plain": [
       "<Figure size 432x576 with 1 Axes>"
      ]
     },
     "metadata": {
      "needs_background": "light"
     },
     "output_type": "display_data"
    }
   ],
   "source": [
    "#histogram insurance per vehicle_age (average)\n",
    "fig_dims = (6, 8)\n",
    "fig, ax = plt.subplots(figsize=fig_dims)\n",
    "\n",
    "graph = sns.barplot(x='vehicle_age', y='%_insur_1', ax=ax, data=aux1)\n",
    "graph.axhline(15, xmin=0.0, xmax=1.0, linestyle =\"--\", color='red')\n",
    "plt.title('% Insurance per vehicle age')\n",
    "plt.show()"
   ]
  },
  {
   "cell_type": "code",
   "execution_count": 71,
   "metadata": {
    "ExecuteTime": {
     "end_time": "2021-10-16T22:02:48.811605Z",
     "start_time": "2021-10-16T22:02:48.365818Z"
    },
    "hidden": true
   },
   "outputs": [
    {
     "data": {
      "image/png": "[encoded data removed]",
      "text/plain": [
       "<Figure size 1080x720 with 1 Axes>"
      ]
     },
     "metadata": {
      "needs_background": "light"
     },
     "output_type": "display_data"
    }
   ],
   "source": [
    "#cvd per height\n",
    "aux1 = df4[(df4['response'] >= 1)]\n",
    "aux1 = aux1[['vehicle_age', 'response']].groupby('vehicle_age').size().reset_index().rename(columns={0:'total_1'})\n",
    "\n",
    "aux2 = df4[(df4['response'] <= 0)]\n",
    "aux2 = aux2[['vehicle_age', 'response']].groupby('vehicle_age').size().reset_index().rename(columns={0:'total_0'})\n",
    "\n",
    "#histogram\n",
    "fig = plt.figure(figsize=(15,10))\n",
    "\n",
    "ax = fig.add_subplot(111)\n",
    "\n",
    "width = 0.2\n",
    "\n",
    "aux1.plot(x='vehicle_age', y='total_1', kind='bar', color='red', ax=ax, width=width, position=0)\n",
    "aux2.plot(x='vehicle_age', y='total_0', kind='bar', color='blue', ax=ax, width=width, position=1)\n",
    "plt.show()"
   ]
  },
  {
   "cell_type": "markdown",
   "metadata": {
    "hidden": true
   },
   "source": [
    "People with drive license hire more insurances"
   ]
  },
  {
   "cell_type": "code",
   "execution_count": 72,
   "metadata": {
    "ExecuteTime": {
     "end_time": "2021-10-16T22:02:49.111576Z",
     "start_time": "2021-10-16T22:02:48.833594Z"
    },
    "hidden": true
   },
   "outputs": [
    {
     "data": {
      "image/png": "[encoded data removed]",
      "text/plain": [
       "<Figure size 1080x504 with 1 Axes>"
      ]
     },
     "metadata": {
      "needs_background": "light"
     },
     "output_type": "display_data"
    }
   ],
   "source": [
    "#insurance per driving_license\n",
    "aux1 = df4[['driving_license', 'response']].groupby('driving_license').sum().reset_index().rename(columns={0:'total'})\n",
    "\n",
    "#histogram\n",
    "fig_dims = (15, 7)\n",
    "fig, ax = plt.subplots(figsize=fig_dims)\n",
    "sns.barplot(x='driving_license', y='response', ax=ax, data=aux1)\n",
    "plt.title('Insurance per driving license')\n",
    "plt.show()"
   ]
  },
  {
   "cell_type": "code",
   "execution_count": 73,
   "metadata": {
    "ExecuteTime": {
     "end_time": "2021-10-16T22:02:49.175538Z",
     "start_time": "2021-10-16T22:02:49.114574Z"
    },
    "hidden": true
   },
   "outputs": [
    {
     "name": "stderr",
     "output_type": "stream",
     "text": [
      "<ipython-input-5-ec34c151601b>:6: SettingWithCopyWarning: \n",
      "A value is trying to be set on a copy of a slice from a DataFrame\n",
      "\n",
      "See the caveats in the documentation: https://pandas.pydata.org/pandas-docs/stable/user_guide/indexing.html#returning-a-view-versus-a-copy\n",
      "  x['%_insur_1'][i] = p\n"
     ]
    },
    {
     "data": {
      "text/html": [
       "<div>\n",
       "<style scoped>\n",
       "    .dataframe tbody tr th:only-of-type {\n",
       "        vertical-align: middle;\n",
       "    }\n",
       "\n",
       "    .dataframe tbody tr th {\n",
       "        vertical-align: top;\n",
       "    }\n",
       "\n",
       "    .dataframe thead th {\n",
       "        text-align: right;\n",
       "    }\n",
       "</style>\n",
       "<table border=\"1\" class=\"dataframe\">\n",
       "  <thead>\n",
       "    <tr style=\"text-align: right;\">\n",
       "      <th></th>\n",
       "      <th>driving_license</th>\n",
       "      <th>response</th>\n",
       "      <th>total</th>\n",
       "      <th>%_insur_1</th>\n",
       "    </tr>\n",
       "  </thead>\n",
       "  <tbody>\n",
       "    <tr>\n",
       "      <th>1</th>\n",
       "      <td>0</td>\n",
       "      <td>1</td>\n",
       "      <td>38</td>\n",
       "      <td>5.531295</td>\n",
       "    </tr>\n",
       "    <tr>\n",
       "      <th>3</th>\n",
       "      <td>1</td>\n",
       "      <td>1</td>\n",
       "      <td>40653</td>\n",
       "      <td>12.206788</td>\n",
       "    </tr>\n",
       "  </tbody>\n",
       "</table>\n",
       "</div>"
      ],
      "text/plain": [
       "   driving_license  response  total  %_insur_1\n",
       "1                0         1     38   5.531295\n",
       "3                1         1  40653  12.206788"
      ]
     },
     "execution_count": 73,
     "metadata": {},
     "output_type": "execute_result"
    }
   ],
   "source": [
    "#calculate % insurance per driving_license\n",
    "aux1 = df4[['driving_license', 'response']].groupby(['driving_license','response']).size().reset_index().rename(columns={0:'total'})\n",
    "aux1['%_insur_1'] = \"\"\n",
    "aux1 = perc_insurance(aux1)\n",
    "\n",
    "#result of %\n",
    "aux1 = aux1[(aux1['response'] >= 1)]\n",
    "aux1"
   ]
  },
  {
   "cell_type": "code",
   "execution_count": 74,
   "metadata": {
    "ExecuteTime": {
     "end_time": "2021-10-16T22:02:49.476942Z",
     "start_time": "2021-10-16T22:02:49.179540Z"
    },
    "hidden": true
   },
   "outputs": [
    {
     "data": {
      "image/png": "[encoded data removed]",
      "text/plain": [
       "<Figure size 432x576 with 1 Axes>"
      ]
     },
     "metadata": {
      "needs_background": "light"
     },
     "output_type": "display_data"
    }
   ],
   "source": [
    "#histogram insurance per driving_license (average)\n",
    "fig_dims = (6, 8)\n",
    "fig, ax = plt.subplots(figsize=fig_dims)\n",
    "\n",
    "graph = sns.barplot(x='driving_license', y='%_insur_1', ax=ax, data=aux1)\n",
    "graph.axhline(12, xmin=0.0, xmax=1.0, linestyle =\"--\", color='red')\n",
    "plt.title('% Insurance per driving license')\n",
    "plt.show()"
   ]
  },
  {
   "cell_type": "markdown",
   "metadata": {
    "hidden": true
   },
   "source": [
    "Owners with vehicle damaged dont hire insurances"
   ]
  },
  {
   "cell_type": "code",
   "execution_count": 75,
   "metadata": {
    "ExecuteTime": {
     "end_time": "2021-10-16T22:02:49.730782Z",
     "start_time": "2021-10-16T22:02:49.479939Z"
    },
    "hidden": true
   },
   "outputs": [
    {
     "data": {
      "image/png": "[encoded data removed]",
      "text/plain": [
       "<Figure size 1080x504 with 1 Axes>"
      ]
     },
     "metadata": {
      "needs_background": "light"
     },
     "output_type": "display_data"
    }
   ],
   "source": [
    "#insurance per vehicle_damage\n",
    "aux1 = df4[['vehicle_damage', 'response']].groupby('vehicle_damage').sum().reset_index().rename(columns={0:'total'})\n",
    "\n",
    "#histogram\n",
    "fig_dims = (15, 7)\n",
    "fig, ax = plt.subplots(figsize=fig_dims)\n",
    "sns.barplot(x='vehicle_damage', y='response', ax=ax, data=aux1)\n",
    "plt.title('Insurance per vehicle damage')\n",
    "plt.show()"
   ]
  },
  {
   "cell_type": "code",
   "execution_count": 76,
   "metadata": {
    "ExecuteTime": {
     "end_time": "2021-10-16T22:02:49.793745Z",
     "start_time": "2021-10-16T22:02:49.732782Z"
    },
    "hidden": true
   },
   "outputs": [
    {
     "name": "stderr",
     "output_type": "stream",
     "text": [
      "<ipython-input-5-ec34c151601b>:6: SettingWithCopyWarning: \n",
      "A value is trying to be set on a copy of a slice from a DataFrame\n",
      "\n",
      "See the caveats in the documentation: https://pandas.pydata.org/pandas-docs/stable/user_guide/indexing.html#returning-a-view-versus-a-copy\n",
      "  x['%_insur_1'][i] = p\n"
     ]
    },
    {
     "data": {
      "text/html": [
       "<div>\n",
       "<style scoped>\n",
       "    .dataframe tbody tr th:only-of-type {\n",
       "        vertical-align: middle;\n",
       "    }\n",
       "\n",
       "    .dataframe tbody tr th {\n",
       "        vertical-align: top;\n",
       "    }\n",
       "\n",
       "    .dataframe thead th {\n",
       "        text-align: right;\n",
       "    }\n",
       "</style>\n",
       "<table border=\"1\" class=\"dataframe\">\n",
       "  <thead>\n",
       "    <tr style=\"text-align: right;\">\n",
       "      <th></th>\n",
       "      <th>vehicle_damage</th>\n",
       "      <th>response</th>\n",
       "      <th>total</th>\n",
       "      <th>%_insur_1</th>\n",
       "    </tr>\n",
       "  </thead>\n",
       "  <tbody>\n",
       "    <tr>\n",
       "      <th>1</th>\n",
       "      <td>0</td>\n",
       "      <td>1</td>\n",
       "      <td>883</td>\n",
       "      <td>0.532765</td>\n",
       "    </tr>\n",
       "    <tr>\n",
       "      <th>3</th>\n",
       "      <td>1</td>\n",
       "      <td>1</td>\n",
       "      <td>39808</td>\n",
       "      <td>23.697495</td>\n",
       "    </tr>\n",
       "  </tbody>\n",
       "</table>\n",
       "</div>"
      ],
      "text/plain": [
       "   vehicle_damage  response  total  %_insur_1\n",
       "1               0         1    883   0.532765\n",
       "3               1         1  39808  23.697495"
      ]
     },
     "execution_count": 76,
     "metadata": {},
     "output_type": "execute_result"
    }
   ],
   "source": [
    "#calculate % insurance per vehicle_damage\n",
    "aux1 = df4[['vehicle_damage', 'response']].groupby(['vehicle_damage','response']).size().reset_index().rename(columns={0:'total'})\n",
    "aux1['%_insur_1'] = \"\"\n",
    "aux1 = perc_insurance(aux1)\n",
    "\n",
    "#result of %\n",
    "aux1 = aux1[(aux1['response'] >= 1)]\n",
    "aux1"
   ]
  },
  {
   "cell_type": "code",
   "execution_count": 77,
   "metadata": {
    "ExecuteTime": {
     "end_time": "2021-10-16T22:02:50.032833Z",
     "start_time": "2021-10-16T22:02:49.795744Z"
    },
    "hidden": true
   },
   "outputs": [
    {
     "data": {
      "image/png": "[encoded data removed]",
      "text/plain": [
       "<Figure size 432x576 with 1 Axes>"
      ]
     },
     "metadata": {
      "needs_background": "light"
     },
     "output_type": "display_data"
    }
   ],
   "source": [
    "#histogram insurance per vehicle_damage (average)\n",
    "fig_dims = (6, 8)\n",
    "fig, ax = plt.subplots(figsize=fig_dims)\n",
    "\n",
    "graph = sns.barplot(x='vehicle_damage', y='%_insur_1', ax=ax, data=aux1)\n",
    "graph.axhline(20, xmin=0.0, xmax=1.0, linestyle =\"--\", color='red')\n",
    "plt.title('% Insurance per vehicle damage')\n",
    "plt.show()"
   ]
  },
  {
   "cell_type": "markdown",
   "metadata": {
    "hidden": true
   },
   "source": [
    "People previously insured hire another insurance"
   ]
  },
  {
   "cell_type": "code",
   "execution_count": 78,
   "metadata": {
    "ExecuteTime": {
     "end_time": "2021-10-16T22:02:50.270060Z",
     "start_time": "2021-10-16T22:02:50.034831Z"
    },
    "hidden": true
   },
   "outputs": [
    {
     "data": {
      "image/png": "[encoded data removed]",
      "text/plain": [
       "<Figure size 1080x504 with 1 Axes>"
      ]
     },
     "metadata": {
      "needs_background": "light"
     },
     "output_type": "display_data"
    }
   ],
   "source": [
    "#insurance per previously_insured\n",
    "aux1 = df4[['previously_insured', 'response']].groupby('previously_insured').sum().reset_index().rename(columns={0:'total'})\n",
    "\n",
    "#histogram\n",
    "fig_dims = (15, 7)\n",
    "fig, ax = plt.subplots(figsize=fig_dims)\n",
    "sns.barplot(x='previously_insured', y='response', ax=ax, data=aux1)\n",
    "plt.title('Insurance per previously insured')\n",
    "plt.show()"
   ]
  },
  {
   "cell_type": "code",
   "execution_count": 79,
   "metadata": {
    "ExecuteTime": {
     "end_time": "2021-10-16T22:02:50.334020Z",
     "start_time": "2021-10-16T22:02:50.272057Z"
    },
    "hidden": true
   },
   "outputs": [
    {
     "name": "stderr",
     "output_type": "stream",
     "text": [
      "<ipython-input-5-ec34c151601b>:6: SettingWithCopyWarning: \n",
      "A value is trying to be set on a copy of a slice from a DataFrame\n",
      "\n",
      "See the caveats in the documentation: https://pandas.pydata.org/pandas-docs/stable/user_guide/indexing.html#returning-a-view-versus-a-copy\n",
      "  x['%_insur_1'][i] = p\n"
     ]
    },
    {
     "data": {
      "text/html": [
       "<div>\n",
       "<style scoped>\n",
       "    .dataframe tbody tr th:only-of-type {\n",
       "        vertical-align: middle;\n",
       "    }\n",
       "\n",
       "    .dataframe tbody tr th {\n",
       "        vertical-align: top;\n",
       "    }\n",
       "\n",
       "    .dataframe thead th {\n",
       "        text-align: right;\n",
       "    }\n",
       "</style>\n",
       "<table border=\"1\" class=\"dataframe\">\n",
       "  <thead>\n",
       "    <tr style=\"text-align: right;\">\n",
       "      <th></th>\n",
       "      <th>previously_insured</th>\n",
       "      <th>response</th>\n",
       "      <th>total</th>\n",
       "      <th>%_insur_1</th>\n",
       "    </tr>\n",
       "  </thead>\n",
       "  <tbody>\n",
       "    <tr>\n",
       "      <th>1</th>\n",
       "      <td>0</td>\n",
       "      <td>1</td>\n",
       "      <td>40550</td>\n",
       "      <td>22.481067</td>\n",
       "    </tr>\n",
       "    <tr>\n",
       "      <th>3</th>\n",
       "      <td>1</td>\n",
       "      <td>1</td>\n",
       "      <td>141</td>\n",
       "      <td>0.091947</td>\n",
       "    </tr>\n",
       "  </tbody>\n",
       "</table>\n",
       "</div>"
      ],
      "text/plain": [
       "   previously_insured  response  total  %_insur_1\n",
       "1                   0         1  40550  22.481067\n",
       "3                   1         1    141   0.091947"
      ]
     },
     "execution_count": 79,
     "metadata": {},
     "output_type": "execute_result"
    }
   ],
   "source": [
    "#calculate % insurance per driving_license\n",
    "aux1 = df4[['previously_insured', 'response']].groupby(['previously_insured','response']).size().reset_index().rename(columns={0:'total'})\n",
    "aux1['%_insur_1'] = \"\"\n",
    "aux1 = perc_insurance(aux1)\n",
    "\n",
    "#result of %\n",
    "aux1 = aux1[(aux1['response'] >= 1)]\n",
    "aux1"
   ]
  },
  {
   "cell_type": "code",
   "execution_count": 80,
   "metadata": {
    "ExecuteTime": {
     "end_time": "2021-10-16T22:02:50.617843Z",
     "start_time": "2021-10-16T22:02:50.337018Z"
    },
    "hidden": true
   },
   "outputs": [
    {
     "data": {
      "image/png": "[encoded data removed]",
      "text/plain": [
       "<Figure size 432x576 with 1 Axes>"
      ]
     },
     "metadata": {
      "needs_background": "light"
     },
     "output_type": "display_data"
    }
   ],
   "source": [
    "#histogram insurance per previously_insured (average)\n",
    "fig_dims = (6, 8)\n",
    "fig, ax = plt.subplots(figsize=fig_dims)\n",
    "\n",
    "graph = sns.barplot(x='previously_insured', y='%_insur_1', ax=ax, data=aux1)\n",
    "graph.axhline(20, xmin=0.0, xmax=1.0, linestyle =\"--\", color='red')\n",
    "plt.title('% Insurance per previously insured')\n",
    "plt.show()"
   ]
  },
  {
   "cell_type": "markdown",
   "metadata": {
    "hidden": true
   },
   "source": [
    "Higher than 50K annual premium there are more insurances"
   ]
  },
  {
   "cell_type": "code",
   "execution_count": 81,
   "metadata": {
    "ExecuteTime": {
     "end_time": "2021-10-16T22:02:50.633833Z",
     "start_time": "2021-10-16T22:02:50.620843Z"
    },
    "hidden": true
   },
   "outputs": [],
   "source": [
    "#df42['annual_premium_2'] = df4['annual_premium'].apply(lambda x: '10' if x <= 10000 else x)\n",
    "#df42['annual_premium_2'] = df4['annual_premium'].apply(lambda x: '15' if (x > 10000 and x <= 20000) else x)\n",
    "#df42['annual_premium_2'] = df4['annual_premium'].apply(lambda x: '20' if (x > 20000 and x <= 30000) else x)\n",
    "#df42['annual_premium_2'] = df4['annual_premium'].apply(lambda x: '30' if (x > 30000 and x <= 40000) else x)\n",
    "#df42['annual_premium_2'] = df4['annual_premium'].apply(lambda x: '40' if (x > 40000 and x <= 50000) else x)\n",
    "#df42['annual_premium_2'] = df4['annual_premium'].apply(lambda x: '50' if (x > 50000 and x <= 60000) else x)\n",
    "#df42['annual_premium_2'] = df4['annual_premium'].apply(lambda x: '60' if x > 60000 else x)"
   ]
  },
  {
   "cell_type": "code",
   "execution_count": 82,
   "metadata": {
    "ExecuteTime": {
     "end_time": "2021-10-16T22:03:04.807786Z",
     "start_time": "2021-10-16T22:02:50.635832Z"
    },
    "hidden": true
   },
   "outputs": [],
   "source": [
    "df42 = df4.copy()\n",
    "df42['annual_premium_2'] = df4.apply(lambda x: '10' if x['annual_premium'] <= 10000 else ''\n",
    "                                                      '15' if (x['annual_premium'] > 10000 and x['annual_premium'] <= 20000) else '' \n",
    "                                                      '20' if (x['annual_premium'] > 20000 and x['annual_premium'] <= 30000) else '' \n",
    "                                                      '30' if (x['annual_premium'] > 30000 and x['annual_premium'] <= 40000) else '' \n",
    "                                                      '40' if (x['annual_premium'] > 40000 and x['annual_premium'] <= 50000) else ''    \n",
    "                                                      '50' if (x['annual_premium'] > 50000 and x['annual_premium'] <= 60000) else ''   \n",
    "                                                      '60' if x['annual_premium'] > 60000 else '', axis = 1)\n"
   ]
  },
  {
   "cell_type": "code",
   "execution_count": 83,
   "metadata": {
    "ExecuteTime": {
     "end_time": "2021-10-16T22:03:05.077314Z",
     "start_time": "2021-10-16T22:03:04.809780Z"
    },
    "hidden": true
   },
   "outputs": [],
   "source": [
    "df43 = df42.copy()\n",
    "df43['annual_premium_2'] = pd.to_numeric(df42['annual_premium_2'],errors = 'coerce')"
   ]
  },
  {
   "cell_type": "code",
   "execution_count": 84,
   "metadata": {
    "ExecuteTime": {
     "end_time": "2021-10-16T22:03:05.108300Z",
     "start_time": "2021-10-16T22:03:05.079315Z"
    },
    "hidden": true
   },
   "outputs": [],
   "source": [
    "#transform to categorical\n",
    "#df43 = df42.copy()\n",
    "df42['annual_premium_2'] = df43['annual_premium_2'].apply({10:'< 10K', 15:'10 - 20K', 20: '20 - 30K', 30: '30 - 40K', 40: '40 - 50K', 50: '50 - 60K', 60: '> 60K'}.get)"
   ]
  },
  {
   "cell_type": "code",
   "execution_count": 85,
   "metadata": {
    "ExecuteTime": {
     "end_time": "2021-10-16T22:03:05.520517Z",
     "start_time": "2021-10-16T22:03:05.110294Z"
    },
    "hidden": true
   },
   "outputs": [
    {
     "data": {
      "image/png": "[encoded data removed]",
      "text/plain": [
       "<Figure size 1080x504 with 1 Axes>"
      ]
     },
     "metadata": {
      "needs_background": "light"
     },
     "output_type": "display_data"
    }
   ],
   "source": [
    "#insurance per annual_premium\n",
    "aux1 = df43[['annual_premium_2', 'response']].groupby('annual_premium_2').sum().reset_index().rename(columns={0:'total'})\n",
    "\n",
    "#histogram\n",
    "fig_dims = (15, 7)\n",
    "fig, ax = plt.subplots(figsize=fig_dims)\n",
    "sns.barplot(x='annual_premium_2', y='response', ax=ax, data=aux1)\n",
    "plt.title('Insurance annual premium')\n",
    "plt.show()"
   ]
  },
  {
   "cell_type": "code",
   "execution_count": 86,
   "metadata": {
    "ExecuteTime": {
     "end_time": "2021-10-16T22:03:05.583597Z",
     "start_time": "2021-10-16T22:03:05.522515Z"
    },
    "hidden": true
   },
   "outputs": [
    {
     "name": "stderr",
     "output_type": "stream",
     "text": [
      "<ipython-input-5-ec34c151601b>:6: SettingWithCopyWarning: \n",
      "A value is trying to be set on a copy of a slice from a DataFrame\n",
      "\n",
      "See the caveats in the documentation: https://pandas.pydata.org/pandas-docs/stable/user_guide/indexing.html#returning-a-view-versus-a-copy\n",
      "  x['%_insur_1'][i] = p\n"
     ]
    }
   ],
   "source": [
    "#% insurance per age - %\n",
    "aux1 = df43[['annual_premium_2', 'response']].groupby(['annual_premium_2','response']).size().reset_index().rename(columns={0:'total'})\n",
    "aux1['%_insur_1'] = \"\"\n",
    "aux1 = perc_insurance(aux1)"
   ]
  },
  {
   "cell_type": "code",
   "execution_count": 87,
   "metadata": {
    "ExecuteTime": {
     "end_time": "2021-10-16T22:03:05.693165Z",
     "start_time": "2021-10-16T22:03:05.586590Z"
    },
    "hidden": true
   },
   "outputs": [
    {
     "data": {
      "text/html": [
       "<div>\n",
       "<style scoped>\n",
       "    .dataframe tbody tr th:only-of-type {\n",
       "        vertical-align: middle;\n",
       "    }\n",
       "\n",
       "    .dataframe tbody tr th {\n",
       "        vertical-align: top;\n",
       "    }\n",
       "\n",
       "    .dataframe thead th {\n",
       "        text-align: right;\n",
       "    }\n",
       "</style>\n",
       "<table border=\"1\" class=\"dataframe\">\n",
       "  <thead>\n",
       "    <tr style=\"text-align: right;\">\n",
       "      <th></th>\n",
       "      <th>index</th>\n",
       "      <th>above 50</th>\n",
       "      <th>less 50</th>\n",
       "    </tr>\n",
       "  </thead>\n",
       "  <tbody>\n",
       "    <tr>\n",
       "      <th>0</th>\n",
       "      <td>mean</td>\n",
       "      <td>55.000000</td>\n",
       "      <td>23.000000</td>\n",
       "    </tr>\n",
       "    <tr>\n",
       "      <th>1</th>\n",
       "      <td>response</td>\n",
       "      <td>1.000000</td>\n",
       "      <td>1.000000</td>\n",
       "    </tr>\n",
       "    <tr>\n",
       "      <th>2</th>\n",
       "      <td>mean quant</td>\n",
       "      <td>1488.500000</td>\n",
       "      <td>7542.800000</td>\n",
       "    </tr>\n",
       "    <tr>\n",
       "      <th>3</th>\n",
       "      <td>average % insur</td>\n",
       "      <td>15.373642</td>\n",
       "      <td>11.486705</td>\n",
       "    </tr>\n",
       "  </tbody>\n",
       "</table>\n",
       "</div>"
      ],
      "text/plain": [
       "             index     above 50      less 50\n",
       "0             mean    55.000000    23.000000\n",
       "1         response     1.000000     1.000000\n",
       "2       mean quant  1488.500000  7542.800000\n",
       "3  average % insur    15.373642    11.486705"
      ]
     },
     "execution_count": 87,
     "metadata": {},
     "output_type": "execute_result"
    }
   ],
   "source": [
    "#divide bewtween two groups between and outside 30\n",
    "aux1 = aux1[(aux1['response'] == 1)]\n",
    "aux_50 = aux1[(aux1['annual_premium_2'] >= 50)]\n",
    "aux_50 = pd.DataFrame(aux_50.apply(np.mean)).T\n",
    "\n",
    "aux_49 = aux1.loc[(aux1['annual_premium_2'] < 50)]\n",
    "aux_49 = pd.DataFrame(aux_49.apply(np.mean)).T\n",
    "\n",
    "#result of average\n",
    "m = pd.concat([aux_50, aux_49]).T.reset_index()\n",
    "m.columns = ['index','above 50','less 50']\n",
    "#m.drop(['response'], axis=1)\n",
    "m['index'] = {'mean': 0, 'response': 1, 'mean quant': 2, 'average % insur': 3}\n",
    "m"
   ]
  },
  {
   "cell_type": "code",
   "execution_count": 88,
   "metadata": {
    "ExecuteTime": {
     "end_time": "2021-10-16T22:03:06.152659Z",
     "start_time": "2021-10-16T22:03:05.695165Z"
    },
    "hidden": true
   },
   "outputs": [
    {
     "data": {
      "image/png": "[encoded data removed]",
      "text/plain": [
       "<Figure size 1296x720 with 1 Axes>"
      ]
     },
     "metadata": {
      "needs_background": "light"
     },
     "output_type": "display_data"
    }
   ],
   "source": [
    "#histogram insurance per age %\n",
    "fig_dims = (18, 10)\n",
    "fig, ax = plt.subplots(figsize=fig_dims)\n",
    "\n",
    "graph = sns.barplot(x='annual_premium_2', y='%_insur_1', ax=ax, data=aux1)\n",
    "graph.axvline(4.5, ymin=0.0, ymax=1.0, linestyle =\"--\", color='blue')\n",
    "graph.axhline(15, xmin=0.0, xmax=1.0, linestyle =\"--\", color='red')\n",
    "plt.title('% Insurance per annual premium')\n",
    "plt.show()"
   ]
  },
  {
   "cell_type": "markdown",
   "metadata": {},
   "source": [
    "# 5.0. Data Preparation"
   ]
  },
  {
   "cell_type": "code",
   "execution_count": 89,
   "metadata": {
    "ExecuteTime": {
     "end_time": "2021-10-16T22:03:06.184404Z",
     "start_time": "2021-10-16T22:03:06.154658Z"
    }
   },
   "outputs": [],
   "source": [
    "df5 = df4.copy()"
   ]
  },
  {
   "cell_type": "code",
   "execution_count": 90,
   "metadata": {
    "ExecuteTime": {
     "end_time": "2021-10-16T22:03:06.530984Z",
     "start_time": "2021-10-16T22:03:06.185401Z"
    }
   },
   "outputs": [],
   "source": [
    "x = df4.drop('response', axis=1)\n",
    "y = df4['response'].copy()\n",
    "\n",
    "x_train, x_validation, y_train, y_validation = ms.train_test_split(x,y, test_size = 0.20)\n",
    "df5 = pd.concat([x_train, y_train], axis=1)"
   ]
  },
  {
   "cell_type": "markdown",
   "metadata": {},
   "source": [
    "## 5.1. Standardization"
   ]
  },
  {
   "cell_type": "code",
   "execution_count": 91,
   "metadata": {
    "ExecuteTime": {
     "end_time": "2021-10-16T22:03:06.781488Z",
     "start_time": "2021-10-16T22:03:06.532979Z"
    }
   },
   "outputs": [],
   "source": [
    "ss = pp.StandardScaler()\n",
    "\n",
    "#annual_premium\n",
    "df5['annual_premium'] = ss.fit_transform(df5[['annual_premium']].values)\n",
    "pickle.dump(ss,open('C:/Users/Henrique/repos/Insurance All/scaler/annual_premium_scaler.pkl', 'wb'))"
   ]
  },
  {
   "cell_type": "markdown",
   "metadata": {},
   "source": [
    "## 5.2. Rescaling"
   ]
  },
  {
   "cell_type": "code",
   "execution_count": 92,
   "metadata": {
    "ExecuteTime": {
     "end_time": "2021-10-16T22:03:07.015701Z",
     "start_time": "2021-10-16T22:03:06.783486Z"
    }
   },
   "outputs": [],
   "source": [
    "mms_age = pp.MinMaxScaler()\n",
    "mms_vintage = pp.MinMaxScaler()\n",
    "\n",
    "#age\n",
    "df5['age'] = mms_age.fit_transform(df5[['age']].values)\n",
    "pickle.dump(ss,open('C:/Users/Henrique/repos/Insurance All/scaler/age_scaler.pkl', 'wb'))\n",
    "\n",
    "#vintage\n",
    "df5['vintage'] = mms_vintage.fit_transform(df5[['vintage']].values)\n",
    "pickle.dump(ss,open('C:/Users/Henrique/repos/Insurance All/scaler/vintage_scaler.pkl', 'wb'))"
   ]
  },
  {
   "cell_type": "markdown",
   "metadata": {},
   "source": [
    "## 5.3. Enconder"
   ]
  },
  {
   "cell_type": "code",
   "execution_count": 93,
   "metadata": {
    "ExecuteTime": {
     "end_time": "2021-10-16T22:03:07.327976Z",
     "start_time": "2021-10-16T22:03:07.017697Z"
    }
   },
   "outputs": [],
   "source": [
    "#gender\n",
    "target_encode_gender = df5.groupby('gender')['response'].mean()\n",
    "df5.loc[:, 'gender'] = df5['gender'].map(target_encode_gender)\n",
    "pickle.dump(ss,open('C:/Users/Henrique/repos/Insurance All/scaler/gender_scaler.pkl', 'wb'))\n",
    "\n",
    "#region_code\n",
    "target_encode_region_code = df5.groupby('region_code')['response'].mean()\n",
    "df5.loc[:, 'region_code'] = df5['region_code'].map(target_encode_region_code)\n",
    "pickle.dump(ss,open('C:/Users/Henrique/repos/Insurance All/scaler/region_code_scaler.pkl', 'wb'))\n",
    "\n",
    "#vehicle_age\n",
    "df5 = pd.get_dummies(df5, prefix='vehicle_age', columns = ['vehicle_age'])\n",
    "\n",
    "#policy_sales_channel\n",
    "fe_policy_sales_channel = df5.groupby('policy_sales_channel').size()/len(df5)\n",
    "df5.loc[:, 'policy_sales_channel'] = df5['policy_sales_channel'].map(fe_policy_sales_channel)\n",
    "pickle.dump(ss,open('C:/Users/Henrique/repos/Insurance All/scaler/policies_sales_channel_scaler.pkl', 'wb'))"
   ]
  },
  {
   "cell_type": "markdown",
   "metadata": {},
   "source": [
    "## 5.4. Validation Preparation"
   ]
  },
  {
   "cell_type": "code",
   "execution_count": 94,
   "metadata": {
    "ExecuteTime": {
     "end_time": "2021-10-16T22:03:07.517254Z",
     "start_time": "2021-10-16T22:03:07.330974Z"
    }
   },
   "outputs": [
    {
     "name": "stderr",
     "output_type": "stream",
     "text": [
      "C:\\Users\\Henrique\\anaconda3\\lib\\site-packages\\pandas\\core\\indexing.py:1773: SettingWithCopyWarning: \n",
      "A value is trying to be set on a copy of a slice from a DataFrame.\n",
      "Try using .loc[row_indexer,col_indexer] = value instead\n",
      "\n",
      "See the caveats in the documentation: https://pandas.pydata.org/pandas-docs/stable/user_guide/indexing.html#returning-a-view-versus-a-copy\n",
      "  self._setitem_single_column(ilocs[0], value, pi)\n",
      "C:\\Users\\Henrique\\anaconda3\\lib\\site-packages\\pandas\\core\\indexing.py:1835: SettingWithCopyWarning: \n",
      "A value is trying to be set on a copy of a slice from a DataFrame.\n",
      "Try using .loc[row_indexer,col_indexer] = value instead\n",
      "\n",
      "See the caveats in the documentation: https://pandas.pydata.org/pandas-docs/stable/user_guide/indexing.html#returning-a-view-versus-a-copy\n",
      "  self._setitem_single_column(loc, value[:, i].tolist(), pi)\n",
      "C:\\Users\\Henrique\\anaconda3\\lib\\site-packages\\pandas\\core\\indexing.py:1773: SettingWithCopyWarning: \n",
      "A value is trying to be set on a copy of a slice from a DataFrame.\n",
      "Try using .loc[row_indexer,col_indexer] = value instead\n",
      "\n",
      "See the caveats in the documentation: https://pandas.pydata.org/pandas-docs/stable/user_guide/indexing.html#returning-a-view-versus-a-copy\n",
      "  self._setitem_single_column(ilocs[0], value, pi)\n"
     ]
    }
   ],
   "source": [
    "#gender\n",
    "x_validation.loc[:, 'gender'] = x_validation.loc[:, 'gender'].map(target_encode_gender)\n",
    "\n",
    "#age\n",
    "x_validation.loc[:, 'age'] = mms_age.transform(x_validation[['age']].values)\n",
    "\n",
    "#region_code\n",
    "x_validation.loc[:, 'region_code'] = x_validation['region_code'].map(target_encode_region_code)\n",
    "\n",
    "#vehicle_age\n",
    "x_validation = pd.get_dummies(x_validation, prefix='vehicle_age', columns = ['vehicle_age'])\n",
    "\n",
    "#annual_premium\n",
    "x_validation.loc[:, 'annual_premium'] = ss.transform(x_validation[['annual_premium']].values)\n",
    "\n",
    "#policy_sales_channel\n",
    "x_validation.loc[:, 'policy_sales_channel'] = x_validation['policy_sales_channel'].map(fe_policy_sales_channel)\n",
    "\n",
    "#vintage\n",
    "x_validation.loc[:, 'vintage'] = mms_vintage.transform(x_validation[['vintage']].values)\n",
    "\n",
    "#fillna\n",
    "x_validation = x_validation.fillna(0)"
   ]
  },
  {
   "cell_type": "markdown",
   "metadata": {},
   "source": [
    "## 5.5. Normalization"
   ]
  },
  {
   "cell_type": "code",
   "execution_count": 95,
   "metadata": {
    "ExecuteTime": {
     "end_time": "2021-10-16T22:03:07.719648Z",
     "start_time": "2021-10-16T22:03:07.519251Z"
    }
   },
   "outputs": [],
   "source": [
    "# SMOTETomek\n",
    "#df5_x = df5.drop('response', axis=1)\n",
    "#df5_y = df5['response'].copy()\n",
    "\n",
    "# instantiate SMOTE Object\n",
    "#smt = SMOTETomek(random_state=42)\n",
    "\n",
    "# Resample\n",
    "#x_smt, y_smt = smt.fit_resample(df5_x, df5_y)\n",
    "\n",
    "#print(f'y before over-sampling = {Counter(df5_y)}')\n",
    "#print(f'y after over-sampling = {Counter(y_smt)}')\n",
    "\n",
    "#y before over-sampling = Counter({0: 250786, 1: 35045})\n",
    "#y after over-sampling = Counter({0: 227379, 1: 227379})\n",
    "\n",
    " # Saving Embedded sampling dataset\n",
    "#x_smt['response'] = y_smt\n",
    "#x_smt.to_csv('../Data/df_smt.csv', sep=';', index_label=False)"
   ]
  },
  {
   "cell_type": "markdown",
   "metadata": {},
   "source": [
    "# 6.0. Feature Selection"
   ]
  },
  {
   "cell_type": "code",
   "execution_count": 96,
   "metadata": {
    "ExecuteTime": {
     "end_time": "2021-10-16T22:03:07.940144Z",
     "start_time": "2021-10-16T22:03:07.721520Z"
    }
   },
   "outputs": [],
   "source": [
    "df6 = df5.copy()"
   ]
  },
  {
   "cell_type": "markdown",
   "metadata": {},
   "source": [
    "## 6.1. Feature Importancia"
   ]
  },
  {
   "cell_type": "code",
   "execution_count": null,
   "metadata": {
    "ExecuteTime": {
     "start_time": "2021-10-16T21:57:19.979Z"
    }
   },
   "outputs": [],
   "source": [
    "#model definition\n",
    "forest = en.ExtraTreesClassifier (n_estimators =250, random_state = 0, n_jobs=-1)\n",
    "\n",
    "#data preparation\n",
    "x_train_n = df6.drop(['id', 'response'], axis=1)\n",
    "y_train_n = y_train.values\n",
    "forest.fit(x_train_n, y_train_n)"
   ]
  },
  {
   "cell_type": "code",
   "execution_count": null,
   "metadata": {
    "ExecuteTime": {
     "start_time": "2021-10-16T21:57:19.982Z"
    }
   },
   "outputs": [],
   "source": [
    "importances = forest.feature_importances_\n",
    "std = np.std([tree.feature_importances_ for tree in forest.estimators_], axis=0)\n",
    "indices = np.argsort(importances)[::-1]\n",
    "\n",
    "#print the feature ranking\n",
    "print('Feature ranking:')\n",
    "df = pd.DataFrame()\n",
    "for i, j in zip(x_train_n, forest.feature_importances_):\n",
    "    aux = pd.DataFrame({'feature': i, 'importance': j}, index=[0])\n",
    "    df = pd.concat([df, aux], axis=0)\n",
    "\n",
    "print(df.sort_values('importance', ascending=False))\n",
    "\n",
    "#plot the impurity-based feature importances of the forest\n",
    "plt.figure()\n",
    "plt.title('Feature importances')\n",
    "plt.bar(range(x_train_n.shape[1]), importances[indices], color='r', yerr=std[indices], align='center')\n",
    "plt.xticks(range(x_train_n.shape[1]), indices)\n",
    "plt.xlim([-1, x_train_n.shape[1]])\n",
    "plt.show()"
   ]
  },
  {
   "cell_type": "markdown",
   "metadata": {},
   "source": [
    "## 6.2. RelifF"
   ]
  },
  {
   "cell_type": "code",
   "execution_count": null,
   "metadata": {
    "ExecuteTime": {
     "start_time": "2021-10-16T21:57:19.987Z"
    }
   },
   "outputs": [],
   "source": [
    "#x_lasso = df6.drop('response', axis=1)\n",
    "#y_lasso = df6['response'].copy()\n",
    "\n",
    "#x_train_lasso, x_validation_lasso, y_train_lasso, y_validation_lasso = ms.train_test_split(x_lasso,y_lasso, test_size = 0.20)\n",
    "\n",
    "df6_ls = df6.drop('response', axis=1)\n",
    "features = df6_ls.columns\n",
    "\n",
    "pipeline = Pipeline([('scaler',StandardScaler()),('model',Lasso())])\n",
    "\n",
    "search = GridSearchCV(pipeline,{'model__alpha':np.arange(0.1,10,0.1)},\n",
    "                      cv = 5, scoring=\"neg_mean_squared_error\",verbose=0)\n",
    "\n",
    "search.fit(x_train_lasso,y_train_lasso)\n",
    "\n",
    "search.best_params_\n",
    "\n",
    "coefficients = search.best_estimator_.named_steps['model'].coef_\n",
    "\n",
    "importance = np.abs(coefficients)\n",
    "\n",
    "cols_selected_lasso = np.array(features)[importance > 0]\n",
    "print('Columns selected: ', cols_selected_lasso)\n",
    "\n",
    "cols_not_selected_lasso = np.array(features)[importance == 0]\n",
    "print('Columns not selected: ', cols_not_selected_lasso)"
   ]
  },
  {
   "cell_type": "markdown",
   "metadata": {
    "heading_collapsed": true
   },
   "source": [
    "# 7.0. Machine Learning"
   ]
  },
  {
   "cell_type": "code",
   "execution_count": null,
   "metadata": {
    "ExecuteTime": {
     "start_time": "2021-10-16T21:57:19.991Z"
    },
    "hidden": true
   },
   "outputs": [],
   "source": [
    "df7 = df6.copy()"
   ]
  },
  {
   "cell_type": "code",
   "execution_count": null,
   "metadata": {
    "ExecuteTime": {
     "start_time": "2021-10-16T21:57:19.995Z"
    },
    "hidden": true
   },
   "outputs": [],
   "source": [
    "cols_selected = ['previously_insured', 'annual_premium', 'vintage', 'vehicle_damage', 'age',\n",
    "                 'region_code','policy_sales_channel',]\n",
    "\n",
    "x_train = df7[cols_selected]\n",
    "x_val = x_validation[cols_selected]\n",
    "y_val = y_validation.copy()"
   ]
  },
  {
   "cell_type": "markdown",
   "metadata": {
    "heading_collapsed": true,
    "hidden": true
   },
   "source": [
    "## 7.1. KNN"
   ]
  },
  {
   "cell_type": "code",
   "execution_count": null,
   "metadata": {
    "ExecuteTime": {
     "start_time": "2021-10-16T21:57:20.000Z"
    },
    "hidden": true
   },
   "outputs": [],
   "source": [
    "#model definition\n",
    "knn_model = nh.KNeighborsClassifier(n_neighbors=10)\n",
    "\n",
    "#model training\n",
    "knn_model.fit(x_train, y_train)\n",
    "\n",
    "#model prediciotn\n",
    "yhat_knn = knn_model.predict_proba(x_val)\n",
    "\n",
    "#accumulative gain\n",
    "fig, axs = plt.subplots(ncols= 2, figsize = (12,6))\n",
    "skplt.metrics.plot_cumulative_gain(y_val, yhat_knn, ax=axs[0],title='Cumulative Gain KNN');\n",
    "skplt.metrics.plot_lift_curve(y_val, yhat_knn,ax=axs[1],title='Lift Curve KNN');"
   ]
  },
  {
   "cell_type": "markdown",
   "metadata": {
    "heading_collapsed": true,
    "hidden": true
   },
   "source": [
    "### 7.1.1. KNN with PCA"
   ]
  },
  {
   "cell_type": "code",
   "execution_count": null,
   "metadata": {
    "ExecuteTime": {
     "start_time": "2021-10-16T21:57:20.006Z"
    },
    "hidden": true
   },
   "outputs": [],
   "source": [
    "#define the number of eigenvectors (autovetor) + eigenvalues (autovalores)\n",
    "pca = d.PCA().fit(x_train)\n",
    "k = np.argmax(np.cumsum(pca.explained_variance_ratio_) > 0.99)\n",
    "\n",
    "#change data to new space\n",
    "pca = d.PCA(k).fit(x_train)\n",
    "\n",
    "x_train_pca = pca.transform(x_train)\n",
    "x_val_pca = pca.transform(x_val)"
   ]
  },
  {
   "cell_type": "code",
   "execution_count": null,
   "metadata": {
    "ExecuteTime": {
     "start_time": "2021-10-16T21:57:20.012Z"
    },
    "hidden": true
   },
   "outputs": [],
   "source": [
    "ohe = pp.OneHotEncoder()\n",
    "y_train_pca = ohe.fit_transform(y_train.values.reshape(-1, 1)).toarray()\n",
    "y_val_pca = ohe.transform(y_val.values.reshape(-1, 1)).toarray()"
   ]
  },
  {
   "cell_type": "code",
   "execution_count": null,
   "metadata": {
    "ExecuteTime": {
     "start_time": "2021-10-16T21:57:20.018Z"
    },
    "hidden": true
   },
   "outputs": [],
   "source": [
    "#model definition\n",
    "knn_model = nh.KNeighborsClassifier(n_neighbors=7)\n",
    "\n",
    "#model training\n",
    "knn_model.fit(x_train_pca, y_train_pca)\n",
    "\n",
    "#model prediciotn\n",
    "yhat_knn_pca = knn_model.predict_proba(x_val_pca)\n",
    "\n",
    "#list to np.array\n",
    "yhat_knn_pca = np.array(yhat_knn_pca)\n",
    "\n",
    "#reshape 3D to 2D array\n",
    "yhat_knn_pca = yhat_knn_pca.reshape(74158,2*2)\n",
    "\n",
    "#selecting 2 columns\n",
    "yhat_knn_pca = yhat_knn_pca[:,:2]\n",
    "\n",
    "#accumulative gain\n",
    "skplt.metrics.plot_cumulative_gain(y_val_pca,yhat_knn_pca)"
   ]
  },
  {
   "cell_type": "markdown",
   "metadata": {
    "heading_collapsed": true,
    "hidden": true
   },
   "source": [
    "## 7.2. Logistic Regression"
   ]
  },
  {
   "cell_type": "code",
   "execution_count": null,
   "metadata": {
    "ExecuteTime": {
     "start_time": "2021-10-16T21:57:20.025Z"
    },
    "hidden": true
   },
   "outputs": [],
   "source": [
    "#model definition\n",
    "lr_model = lm.LogisticRegression(random_state=42)\n",
    "\n",
    "#model training\n",
    "lr_model.fit(x_train, y_train)\n",
    "\n",
    "#model prediction\n",
    "yhat_lr = lr_model.predict_proba(x_val)\n",
    "\n",
    "#Accumulative Gain\n",
    "fig, axs = plt.subplots(ncols= 2, figsize = (12,6))\n",
    "skplt.metrics.plot_cumulative_gain(y_val, yhat_lr, ax=axs[0],title='Cumulative Gain LR');\n",
    "skplt.metrics.plot_lift_curve(y_val, yhat_lr,ax=axs[1],title='Lift Curve LR');"
   ]
  },
  {
   "cell_type": "markdown",
   "metadata": {
    "heading_collapsed": true,
    "hidden": true
   },
   "source": [
    "## 7.3. Extra Trees"
   ]
  },
  {
   "cell_type": "code",
   "execution_count": null,
   "metadata": {
    "ExecuteTime": {
     "start_time": "2021-10-16T21:57:20.030Z"
    },
    "hidden": true
   },
   "outputs": [],
   "source": [
    "#model definition\n",
    "et_model = en.ExtraTreesClassifier(n_estimators=100, n_jobs=-1, random_state=42)\n",
    "\n",
    "#model training\n",
    "et_model.fit(x_train, y_train)\n",
    "\n",
    "#model prediction\n",
    "yhat_et = et_model.predict_proba(x_val)\n",
    "\n",
    "#Accumulative Gain\n",
    "fig, axs = plt.subplots(ncols= 2, figsize = (12,6))\n",
    "skplt.metrics.plot_cumulative_gain(y_val, yhat_et, ax=axs[0],title='Cumulative Gain Extra Trees');\n",
    "skplt.metrics.plot_lift_curve(y_val, yhat_et,ax=axs[1],title='Lift Curve Extra Trees');"
   ]
  },
  {
   "cell_type": "markdown",
   "metadata": {
    "heading_collapsed": true,
    "hidden": true
   },
   "source": [
    "## 7.4. Random Forest"
   ]
  },
  {
   "cell_type": "code",
   "execution_count": null,
   "metadata": {
    "ExecuteTime": {
     "start_time": "2021-10-16T21:57:20.035Z"
    },
    "hidden": true
   },
   "outputs": [],
   "source": [
    "rf_model = RandomForestClassifier(n_estimators=100,random_state=42)\n",
    "\n",
    "rf_model = rf_model.fit(x_train,y_train)\n",
    "\n",
    "yhat_rf = rf_model.predict_proba(x_val)\n",
    "\n",
    "fig, axs = plt.subplots(ncols= 2, figsize = (12,6))\n",
    "skplt.metrics.plot_cumulative_gain(y_val, yhat_rf, ax=axs[0],title='Cumulative Gain rfc');\n",
    "skplt.metrics.plot_lift_curve(y_val, yhat_rf,ax=axs[1],title='Lift Curve rfc');"
   ]
  },
  {
   "cell_type": "markdown",
   "metadata": {
    "heading_collapsed": true,
    "hidden": true
   },
   "source": [
    "## 7.5. Naive Bayes"
   ]
  },
  {
   "cell_type": "code",
   "execution_count": null,
   "metadata": {
    "ExecuteTime": {
     "start_time": "2021-10-16T21:57:20.039Z"
    },
    "hidden": true
   },
   "outputs": [],
   "source": [
    "nb_model = GaussianNB()\n",
    "\n",
    "nb_model = nb_model.fit(x_train,y_train)\n",
    "\n",
    "yhat_nb = nb_model.predict_proba(x_val)\n",
    "\n",
    "fig, axs = plt.subplots(ncols= 2, figsize = (12,6))\n",
    "skplt.metrics.plot_cumulative_gain(y_val, yhat_nb, ax=axs[0],title='Cumulative Gain nbc');\n",
    "skplt.metrics.plot_lift_curve(y_val, yhat_nb,ax=axs[1],title='Lift Curve nbc');"
   ]
  },
  {
   "cell_type": "markdown",
   "metadata": {
    "heading_collapsed": true,
    "hidden": true
   },
   "source": [
    "## 7.6. LGBM"
   ]
  },
  {
   "cell_type": "code",
   "execution_count": null,
   "metadata": {
    "ExecuteTime": {
     "start_time": "2021-10-16T21:57:20.044Z"
    },
    "hidden": true
   },
   "outputs": [],
   "source": [
    "lgbm_model = LGBMClassifier()\n",
    "\n",
    "lgbm_model = lgbm_model.fit(x_train,y_train)\n",
    "\n",
    "yhat_lgbm = lgbm_model.predict_proba(x_val)\n",
    "\n",
    "fig, axs = plt.subplots(ncols= 2, figsize = (12,6))\n",
    "skplt.metrics.plot_cumulative_gain(y_val, yhat_lgbm, ax=axs[0],title='Cumulative Gain lgbm');\n",
    "skplt.metrics.plot_lift_curve(y_val, yhat_lgbm,ax=axs[1],title='Lift Curve lgbm')"
   ]
  },
  {
   "cell_type": "markdown",
   "metadata": {
    "heading_collapsed": true,
    "hidden": true
   },
   "source": [
    "## 7.7. XGBoost"
   ]
  },
  {
   "cell_type": "code",
   "execution_count": null,
   "metadata": {
    "ExecuteTime": {
     "start_time": "2021-10-16T21:57:20.049Z"
    },
    "hidden": true
   },
   "outputs": [],
   "source": [
    "xgb_model = xgb.XGBClassifier(objective='binary:logistic', eval_metric='error')\n",
    "\n",
    "xgb_model = xgb_model.fit(x_train,y_train)\n",
    "\n",
    "yhat_xgb = xgb_model.predict_proba(x_val)\n",
    "\n",
    "fig, axs = plt.subplots(ncols= 2, figsize = (12,6))\n",
    "skplt.metrics.plot_cumulative_gain(y_val, yhat_xgb, ax=axs[0],title='Cumulative Gain xgb');\n",
    "skplt.metrics.plot_lift_curve(y_val, yhat_xgb,ax=axs[1],title='Lift Curve xgb')"
   ]
  },
  {
   "cell_type": "markdown",
   "metadata": {
    "heading_collapsed": true,
    "hidden": true
   },
   "source": [
    "## 7.8. Guassian NB"
   ]
  },
  {
   "cell_type": "code",
   "execution_count": null,
   "metadata": {
    "ExecuteTime": {
     "start_time": "2021-10-16T21:57:20.056Z"
    },
    "hidden": true
   },
   "outputs": [],
   "source": [
    "gnb_model = GaussianNB()\n",
    "\n",
    "gnb_model = gnb_model.fit(x_train,y_train)\n",
    "\n",
    "yhat_gnb = gnb_model.predict_proba(x_val)\n",
    "\n",
    "fig, axs = plt.subplots(ncols= 2, figsize = (12,6))\n",
    "skplt.metrics.plot_cumulative_gain(y_val, yhat_gnb, ax=axs[0],title='Cumulative Gain Guassian NB');\n",
    "skplt.metrics.plot_lift_curve(y_val, yhat_gnb,ax=axs[1],title='Lift Curve Guassian NB')"
   ]
  },
  {
   "cell_type": "markdown",
   "metadata": {
    "heading_collapsed": true,
    "hidden": true
   },
   "source": [
    "## 7.9. AdaBoost"
   ]
  },
  {
   "cell_type": "code",
   "execution_count": null,
   "metadata": {
    "ExecuteTime": {
     "start_time": "2021-10-16T21:57:20.061Z"
    },
    "hidden": true
   },
   "outputs": [],
   "source": [
    "ab_model = AdaBoostClassifier(n_estimators=10, learning_rate = 1)\n",
    "\n",
    "ab_model = ab_model.fit(x_train,y_train)\n",
    "\n",
    "yhat_ab = ab_model.predict_proba(x_val)\n",
    "\n",
    "fig, axs = plt.subplots(ncols= 2, figsize = (12,6))\n",
    "skplt.metrics.plot_cumulative_gain(y_val, yhat_ab, ax=axs[0],title='Cumulative Gain Ada');\n",
    "skplt.metrics.plot_lift_curve(y_val, yhat_ab,ax=axs[1],title='Lift Curve Ada')"
   ]
  },
  {
   "cell_type": "markdown",
   "metadata": {
    "heading_collapsed": true
   },
   "source": [
    "# 8.0. Model Performance"
   ]
  },
  {
   "cell_type": "code",
   "execution_count": null,
   "metadata": {
    "ExecuteTime": {
     "start_time": "2021-10-16T21:57:20.067Z"
    },
    "hidden": true
   },
   "outputs": [],
   "source": [
    "x_validation['response'] = y_validation\n",
    "perc = 0.2\n",
    "\n",
    "#calculate precision and recall - KNN\n",
    "precision_knn = round(precision_at_k (x_validation, yhat_knn, perc),3)\n",
    "recall_knn = round(recall_at_k(x_validation, yhat_knn, perc),3)\n",
    "\n",
    "models_performance = pd.DataFrame({'Model':['KNN'], \"Precision_at_k\": [precision_knn], \n",
    "                                   \"Recall_at_k\": [recall_knn]})\n",
    "\n",
    "#calculate precision and recall - LR\n",
    "precision_lr = round(precision_at_k (x_validation, yhat_lr, perc),3)\n",
    "recall_lr = round(recall_at_k(x_validation, yhat_lr, perc),3)\n",
    "\n",
    "models_performance = models_performance.append(pd.Series(['Logistic Regression', precision_lr, recall_lr], \n",
    "                                                         index=models_performance.columns), ignore_index=True)\n",
    "\n",
    "#calculate precision and recall - ET\n",
    "precision_et = round(precision_at_k (x_validation, yhat_et, perc),3)\n",
    "recall_et = round(recall_at_k(x_validation, yhat_et, perc),3)\n",
    "\n",
    "models_performance = models_performance.append(pd.Series(['Extra Trees', precision_et, recall_et], \n",
    "                                                         index=models_performance.columns), ignore_index=True)\n",
    "\n",
    "#calculate precision and recall - RF\n",
    "precision_rf = round(precision_at_k (x_validation, yhat_rf, perc),3)\n",
    "recall_rf = round(recall_at_k(x_validation, yhat_rf, perc),3)\n",
    "\n",
    "models_performance = models_performance.append(pd.Series(['Random Forest', precision_rf, recall_rf], \n",
    "                                                         index=models_performance.columns), ignore_index=True)\n",
    "\n",
    "#calculate precision and recall - NB\n",
    "precision_nb = round(precision_at_k (x_validation, yhat_nb, perc),3)\n",
    "recall_nb = round(recall_at_k(x_validation, yhat_nb, perc),3)\n",
    "\n",
    "models_performance = models_performance.append(pd.Series(['Naive Bayes', precision_nb, recall_nb], \n",
    "                                                         index=models_performance.columns), ignore_index=True)\n",
    "\n",
    "#calculate precision and recall - LGBM\n",
    "precision_lgbm = round(precision_at_k (x_validation, yhat_lgbm, perc),3)\n",
    "recall_lgbm = round(recall_at_k(x_validation, yhat_lgbm, perc),3)\n",
    "\n",
    "models_performance = models_performance.append(pd.Series(['LGBM', precision_lgbm, recall_lgbm], \n",
    "                                                         index=models_performance.columns), ignore_index=True)\n",
    "\n",
    "#calculate precision and recall - XGBoost\n",
    "precision_xgb = round(precision_at_k (x_validation, yhat_xgb, perc),3)\n",
    "recall_xgb = round(recall_at_k(x_validation, yhat_xgb, perc),3)\n",
    "\n",
    "models_performance = models_performance.append(pd.Series(['XGBoost', precision_xgb, recall_xgb], \n",
    "                                                         index=models_performance.columns), ignore_index=True)\n",
    "\n",
    "#calculate precision and recall - Guassian NB\n",
    "precision_gnb = round(precision_at_k (x_validation, yhat_gnb, perc),3)\n",
    "recall_gnb = round(recall_at_k(x_validation, yhat_gnb, perc),3)\n",
    "\n",
    "models_performance = models_performance.append(pd.Series(['Guassian NB', precision_gnb, recall_gnb], \n",
    "                                                         index=models_performance.columns), ignore_index=True)\n",
    "\n",
    "#calculate precision and recall - Guassian AdaBoost\n",
    "precision_ab = round(precision_at_k (x_validation, yhat_ab, perc),3)\n",
    "recall_ab = round(recall_at_k(x_validation, yhat_ab, perc),3)\n",
    "\n",
    "models_performance = models_performance.append(pd.Series(['AdaBoost', precision_ab, recall_ab], \n",
    "                                                         index=models_performance.columns), ignore_index=True)\n",
    "\n",
    "models_performance"
   ]
  },
  {
   "cell_type": "markdown",
   "metadata": {
    "heading_collapsed": true
   },
   "source": [
    "# 9.0. Cross Validation"
   ]
  },
  {
   "cell_type": "code",
   "execution_count": null,
   "metadata": {
    "ExecuteTime": {
     "start_time": "2021-10-16T21:57:20.072Z"
    },
    "hidden": true
   },
   "outputs": [],
   "source": [
    "models_performance_cv = pd.DataFrame({'Model':[], \"Precision_at_k\": [], \"Recall_at_k\": []})"
   ]
  },
  {
   "cell_type": "code",
   "execution_count": null,
   "metadata": {
    "ExecuteTime": {
     "start_time": "2021-10-16T21:57:20.075Z"
    },
    "hidden": true
   },
   "outputs": [],
   "source": [
    "models_performance_cv = cross_validation(models_performance_cv, 5, 'KNN', knn_model, x_train, y_train)\n",
    "\n",
    "models_performance_cv = cross_validation(models_performance_cv, 5, 'Logistic Regression', lr_model, x_train, y_train)\n",
    "\n",
    "models_performance_cv = cross_validation(models_performance_cv, 5, 'Extra Trees', et_model, x_train, y_train)\n",
    "\n",
    "models_performance_cv = cross_validation(models_performance_cv, 5, 'Random Forest', rf_model, x_train, y_train)\n",
    "\n",
    "models_performance_cv = cross_validation(models_performance_cv, 5, 'Naive Bayes', nb_model, x_train, y_train)\n",
    "\n",
    "models_performance_cv = cross_validation(models_performance_cv, 5, 'LGBM', lgbm_model, x_train, y_train)\n",
    "\n",
    "models_performance_cv = cross_validation(models_performance_cv, 5, 'XGBoost', xgb_model, x_train, y_train)\n",
    "\n",
    "models_performance_cv = cross_validation(models_performance_cv, 5, 'Guassian NB', gnb_model, x_train, y_train)\n",
    "\n",
    "models_performance_cv = cross_validation(models_performance_cv, 5, 'AdaBoost', ab_model, x_train, y_train)"
   ]
  },
  {
   "cell_type": "code",
   "execution_count": null,
   "metadata": {
    "ExecuteTime": {
     "start_time": "2021-10-16T21:57:20.081Z"
    },
    "hidden": true
   },
   "outputs": [],
   "source": [
    "models_performance_cv"
   ]
  },
  {
   "cell_type": "markdown",
   "metadata": {},
   "source": [
    "# 10.0. Hyperparameters"
   ]
  },
  {
   "cell_type": "markdown",
   "metadata": {
    "heading_collapsed": true
   },
   "source": [
    "## 10.1. LGBM"
   ]
  },
  {
   "cell_type": "code",
   "execution_count": null,
   "metadata": {
    "ExecuteTime": {
     "start_time": "2021-10-16T21:57:20.088Z"
    },
    "hidden": true
   },
   "outputs": [],
   "source": [
    "np.random.seed(42)\n",
    "lgbm_parameter = {'num_leaves':  tuple(np.random.randint(5,100,size=10)),\n",
    "                  'max_depth': tuple(np.random.randint(1,10,size=10)),\n",
    "                  'min_split_gain': tuple(np.random.uniform(0.001,0.01,size=10)),\n",
    "                  'min_child_weight': tuple(np.random.randint(10,100,size=10)),\n",
    "                  'subsample': tuple(np.random.uniform(0.0,1.0,size=10)),\n",
    "                  'colsample_bytree': tuple(np.random.uniform(0.0,1.0,size=10))\n",
    "                 }"
   ]
  },
  {
   "cell_type": "code",
   "execution_count": null,
   "metadata": {
    "ExecuteTime": {
     "start_time": "2021-10-16T21:57:20.092Z"
    },
    "hidden": true
   },
   "outputs": [],
   "source": [
    "models_performance_lgbm_hp = pd.DataFrame({'Model':[], \"Precision_at_k\": [], \"Recall_at_k\": []})\n",
    "\n",
    "for i in range (50):\n",
    "    #escolher parametro aleatoriamente\n",
    "    hp = {k: random.sample(v,1)[0] for k,v in lgbm_parameter.items()}\n",
    "    print(str(i) hp)\n",
    "    model_lgbm = LGBMClassifier(num_leaves=hp['num_leaves'],\n",
    "                                  max_depth=hp['max_depth'],\n",
    "                                  min_split_gain=hp['min_split_gain'],\n",
    "                                  min_child_weight=hp['min_child_weight'],\n",
    "                                  subsample=hp['subsample'],\n",
    "                                  colsample_bytree=hp['colsample_bytree']).fit(x_train,y_train)\n",
    "\n",
    "    yhat_lgbm_hp = model_lgbm.predict_proba(x_val)\n",
    "    precision_lgbm_hp = round(precision_at_k (x_validation, yhat_lgbm_hp, 0.2),3)\n",
    "    recall_lgbm_hp = round(recall_at_k(x_validation, yhat_lgbm_hp, 0.2),3)\n",
    "    models_performance_lgbm_hp = models_performance_lgbm_hp.append(pd.Series(['LGBM '+str(i), precision_lgbm_hp, recall_lgbm_hp], \n",
    "                                                         index=models_performance.columns), ignore_index=True)\n",
    "models_performance_lgbm_hp"
   ]
  },
  {
   "cell_type": "code",
   "execution_count": null,
   "metadata": {
    "ExecuteTime": {
     "start_time": "2021-10-16T21:57:20.096Z"
    },
    "hidden": true
   },
   "outputs": [],
   "source": [
    "parameter_select = {'num_leaves': 79, 'max_depth': 6, 'min_split_gain': 0.002636424704863906, 'min_child_weight': 71, 'subsample': 0.015966252220214194, 'colsample_bytree': 0.24102546602601171}"
   ]
  },
  {
   "cell_type": "markdown",
   "metadata": {},
   "source": [
    "## 10.2. XGBoost"
   ]
  },
  {
   "cell_type": "code",
   "execution_count": null,
   "metadata": {
    "ExecuteTime": {
     "start_time": "2021-10-16T21:57:20.101Z"
    }
   },
   "outputs": [],
   "source": [
    "np.random.seed(42)\n",
    "xgb_parameter = {'n_estimators':  tuple(np.random.randint(50,5000,size=10)),\n",
    "                  'eta': tuple(np.random.uniform(0.01,0.03,size=10)),\n",
    "                  'max_depth': tuple(np.random.randint(1,10,size=10)),\n",
    "                  'subsample': tuple(np.random.uniform(0.0,1.0,size=10)),\n",
    "                  'colsample_bytree': tuple(np.random.uniform(0.0,1.0,size=10))\n",
    "                 }"
   ]
  },
  {
   "cell_type": "code",
   "execution_count": null,
   "metadata": {
    "ExecuteTime": {
     "start_time": "2021-10-16T21:57:20.105Z"
    }
   },
   "outputs": [],
   "source": [
    "models_performance_xgb_hp = pd.DataFrame({'Model':[], \"Precision_at_k\": [], \"Recall_at_k\": []})\n",
    "\n",
    "for i in range (1):\n",
    "    #escolher parametro aleatoriamente\n",
    "    hp = {k: random.sample(v,1)[0] for k,v in xgb_parameter.items()}\n",
    "    print(hp)\n",
    "    model_xgb = xgb.XGBClassifier(n_estimators=hp['n_estimators'],\n",
    "                                  eta=hp['eta'],\n",
    "                                  max_depth=hp['max_depth'],\n",
    "                                  subsample=hp['subsample'],\n",
    "                                  colsample_bytree=hp['colsample_bytree']).fit(x_train,y_train)\n",
    "\n",
    "    yhat_xgb_hp = model_xgb.predict_proba(x_val)\n",
    "    precision_xgb_hp = round(precision_at_k (x_validation, yhat_xgb_hp, 0.2),3)\n",
    "    recall_xgb_hp = round(recall_at_k(x_validation, yhat_xgb_hp, 0.2),3)\n",
    "    models_performance_xgb_hp = models_performance_xgb_hp.append(pd.Series(['XGBoost '+str(i), precision_xgb_hp, recall_xgb_hp], \n",
    "                                                         index=models_performance.columns), ignore_index=True)\n",
    "models_performance_xgb_hp"
   ]
  },
  {
   "cell_type": "markdown",
   "metadata": {},
   "source": [
    "# 11.0. Final Model"
   ]
  },
  {
   "cell_type": "code",
   "execution_count": null,
   "metadata": {
    "ExecuteTime": {
     "start_time": "2021-10-16T21:57:20.110Z"
    }
   },
   "outputs": [],
   "source": [
    "#vehicle_damage\n",
    "x_test['vehicle_damage'] = x_test['vehicle_damage'].apply(lambda x: 1 if x == 'Yes' else 0)\n",
    "\n",
    "#vehicle_age\n",
    "x_test['vehicle_age'] = x_test['vehicle_age'].apply(lambda x: 'under 1 yr'\n",
    "                                              if x == '< 1 Year' else x)\n",
    "x_test['vehicle_age'] = x_test['vehicle_age'].apply(lambda x: 'between 1 - 2yr'\n",
    "                                              if x == '1-2 Year' else x)\n",
    "x_test['vehicle_age'] = x_test['vehicle_age'].apply(lambda x: 'over 2 yr'\n",
    "                                              if x == '> 2 Years' else x)\n",
    "\n",
    "#gender\n",
    "x_test.loc[:, 'gender'] = x_test.loc[:, 'gender'].map(target_encode_gender)\n",
    "\n",
    "#age\n",
    "x_test.loc[:, 'age'] = mms_age.transform(x_test[['age']].values)\n",
    "\n",
    "#region_code\n",
    "x_test.loc[:, 'region_code'] = x_test['region_code'].map(target_encode_region_code)\n",
    "\n",
    "#vehicle_age\n",
    "x_test = pd.get_dummies(x_test, prefix='vehicle_age', columns = ['vehicle_age'])\n",
    "\n",
    "#annual_premium\n",
    "x_test.loc[:, 'annual_premium'] = ss.transform(x_test[['annual_premium']].values)\n",
    "\n",
    "#policy_sales_channel\n",
    "x_test.loc[:, 'policy_sales_channel'] = x_test['policy_sales_channel'].map(fe_policy_sales_channel)\n",
    "\n",
    "#vintage\n",
    "x_test.loc[:, 'vintage'] = mms_vintage.transform(x_test[['vintage']].values)\n",
    "\n",
    "#fillna\n",
    "x_test = x_test.fillna(0)\n",
    "\n",
    "cols_selected = ['previously_insured', 'annual_premium', 'vintage', 'vehicle_damage', 'age',\n",
    "                 'region_code','policy_sales_channel',]\n",
    "\n",
    "x_test = x_test[cols_selected]"
   ]
  },
  {
   "cell_type": "code",
   "execution_count": null,
   "metadata": {
    "ExecuteTime": {
     "start_time": "2021-10-16T21:57:20.113Z"
    }
   },
   "outputs": [],
   "source": [
    "model_lgbm = LGBMClassifier(num_leaves=79,\n",
    "                                  max_depth=6,\n",
    "                                  min_split_gain=0.002636424704863906,\n",
    "                                  min_child_weight=71,\n",
    "                                  subsample=0.015966252220214194,\n",
    "                                  colsample_bytree=0.24102546602601171).fit(x_train,y_train)\n",
    "\n",
    "yhat_lgbm_final = model_lgbm.predict_proba(x_test)"
   ]
  },
  {
   "cell_type": "code",
   "execution_count": null,
   "metadata": {
    "ExecuteTime": {
     "start_time": "2021-10-16T21:57:20.117Z"
    }
   },
   "outputs": [],
   "source": [
    "fig, axs = plt.subplots(ncols= 2, figsize = (12,6))\n",
    "skplt.metrics.plot_cumulative_gain(y_test, yhat_lgbm_final, ax=axs[0],title='Cumulative Gain lgbm');\n",
    "skplt.metrics.plot_lift_curve(y_test, yhat_lgbm_final,ax=axs[1],title='Lift Curve lgbm')"
   ]
  },
  {
   "cell_type": "code",
   "execution_count": null,
   "metadata": {
    "ExecuteTime": {
     "start_time": "2021-10-16T21:57:20.121Z"
    }
   },
   "outputs": [],
   "source": [
    "df_final_performance = pd.DataFrame()\n",
    "df_mp = x_test.copy()\n",
    "df_mp['id'] = idsTest\n",
    "df_mp['response'] = y_test\n",
    "\n",
    "df_final_performance = topK_performance(df_mp,probas,'response',perc) "
   ]
  },
  {
   "cell_type": "markdown",
   "metadata": {},
   "source": [
    "# 12.0. Model Deployment"
   ]
  },
  {
   "cell_type": "code",
   "execution_count": null,
   "metadata": {
    "ExecuteTime": {
     "start_time": "2021-10-16T21:57:20.125Z"
    },
    "code_folding": [
     16,
     29,
     55
    ]
   },
   "outputs": [],
   "source": [
    "import pickle\n",
    "\n",
    "import numpy  as np\n",
    "import pandas as pd\n",
    "\n",
    "class HealtInsurance(object):\n",
    "    def __init__(self):\n",
    "        self.home = 'C:/Users/Henrique/repos/Insurance All'\n",
    "        self.age_scaler                    = pickle.load(open(self.home_path + 'src/scaler/age_scaler.pkl', 'rb'))\n",
    "        self.annual_premium_scaler         = pickle.load(open(self.home_path + 'src/scaler/annual_premium_scaler.pkl', 'rb'))\n",
    "        self.gender_scaler                 = pickle.load(open(self.home_path + 'src/scaler/gender_scaler.pkl', 'rb'))\n",
    "        self.policies_sales_channel_scaler = pickle.load(open(self.home_path + 'src/scaler/policies_sales_channel_scaler.pkl', 'rb'))\n",
    "        self.region_code_scaler            = pickle.load(open(self.home_path + 'src/scaler/region_code_scaler.pkl', 'rb'))\n",
    "        self.vehicle_age_scaler            = pickle.load(open(self.home_path + 'src/scaler/vehicle_age_scaler.pkl', 'rb'))\n",
    "        self.vintage_scaler                = pickle.load(open(self.home_path + 'src/scaler/vintage_scaler.pkl', 'rb'))\n",
    "        \n",
    "    def feature_engineering (self, data):\n",
    "        #vehicle_damage\n",
    "        data['vehicle_damage'] = data['vehicle_damage'].apply(lambda x: 1 if x == 'Yes' else 0)\n",
    "\n",
    "        #vehicle_age\n",
    "        data['vehicle_age'] = data['vehicle_age'].apply(lambda x: 'under 1 yr'\n",
    "                                                      if x == '< 1 Year' else x)\n",
    "        data['vehicle_age'] = data['vehicle_age'].apply(lambda x: 'between 1 - 2yr'\n",
    "                                                      if x == '1-2 Year' else x)\n",
    "        data['vehicle_age'] = data['vehicle_age'].apply(lambda x: 'over 2 yr'\n",
    "                                                      if x == '> 2 Years' else x)\n",
    "        return data\n",
    "        \n",
    "    def data_preparation (self, data):\n",
    "        #annual_premium\n",
    "        data['annual_premium'] = self.annual_premium_scaler.transform(data[['annual_premium']].values)\n",
    "\n",
    "        #age\n",
    "        data['age'] = self.age_scaler.transform(data[['age']].values)\n",
    "\n",
    "        #vintage\n",
    "        data['vintage'] = self.vintage_scaler.transform(data[['vintage']].values)\n",
    "        \n",
    "        data.loc[:, 'gender'] = data['gender'].map(self.gender_scaler)\n",
    "\n",
    "        #region_code\n",
    "        data.loc[:, 'region_code'] = data['region_code'].map(self.region_code_scaler)\n",
    "\n",
    "        #vehicle_age\n",
    "        data = pd.get_dummies(data, prefix='vehicle_age', columns = ['vehicle_age'])\n",
    "\n",
    "        #policy_sales_channel\n",
    "        data.loc[:, 'policy_sales_channel'] = data['policy_sales_channel'].map(self.policy_sales_channel_scaler)\n",
    "        \n",
    "        cols_selected = ['previously_insured', 'annual_premium', 'vintage', 'vehicle_damage', 'age',\n",
    "                 'region_code','policy_sales_channel',]\n",
    "        \n",
    "        return cols_selected\n",
    "    \n",
    "    def get_prediction(self, model, original_data, test_data):\n",
    "        #model prediction\n",
    "        pred = model.predict_proba(test_data)\n",
    "        \n",
    "        #join prediction into original data\n",
    "        original_data['score'] = pred[:, 1].tolist()\n",
    "        \n",
    "        return original_data.to_json(orient='records', date_format='iso')"
   ]
  },
  {
   "cell_type": "code",
   "execution_count": null,
   "metadata": {
    "ExecuteTime": {
     "start_time": "2021-10-16T21:57:20.129Z"
    }
   },
   "outputs": [],
   "source": [
    "import pickle\n",
    "import pandas as pd\n",
    "\n",
    "from flask                           import Flask, request, Response\n",
    "from healthinsurance.HealthInsurance import HealthInsurance\n",
    "\n",
    "#load model\n",
    "path = 'C:/Users/Henrique/repos/Insurance All'\n",
    "model = pickle.load(open(path+'src/trained_model/model_adaboost.pkl', 'rb'))\n",
    "\n",
    "# initialize API\n",
    "app = Flask(__name__)\n",
    "\n",
    "@app.route('/predict', methods=['POST'])\n",
    "def health_insurance_predict():\n",
    "    test_json = request.get_json()\n",
    "    \n",
    "    if test_json: # there is data\n",
    "        if isinstance(test_json, dict): # unique example\n",
    "            test_raw = pd.DataFrame(test_json, index=[0])\n",
    "        \n",
    "        else: # multiple example\n",
    "            test_raw = pd.DataFrame(test_json, columns=test_json[0].keys())\n",
    "        \n",
    "        # Instantiate HealthInsurance class\n",
    "        pipeline = HealthInsurance()\n",
    "        \n",
    "        # feature engineering\n",
    "        df1 = pipeline.rename_columns(test_raw)\n",
    "        \n",
    "        df2 = pipeline.feature_engineering(df1)\n",
    "        \n",
    "        # data preparation\n",
    "        df3 = pipeline.data_preparation(df2)\n",
    "        \n",
    "        # prediction\n",
    "        df_response = pipeline.get_prediction(model, test_raw, df3)\n",
    "        \n",
    "        return df_response\n",
    "    \n",
    "    else:\n",
    "        return Response('{}', status=200, mimetype='applcation/json')\n",
    "    \n",
    "if __name__ == '__main__':\n",
    "    app.run('0.0.0.0', debug=True)"
   ]
  },
  {
   "cell_type": "markdown",
   "metadata": {},
   "source": [
    "## 12.1. API Tester"
   ]
  },
  {
   "cell_type": "code",
   "execution_count": null,
   "metadata": {
    "ExecuteTime": {
     "start_time": "2021-10-16T21:57:20.133Z"
    }
   },
   "outputs": [],
   "source": [
    "# loading test dataset\n",
    "df_test = pd.read_csv('Data/test.csv', sep=',')\n",
    "df_test = df_test.sample(30)\n",
    "\n"
   ]
  },
  {
   "cell_type": "code",
   "execution_count": null,
   "metadata": {
    "ExecuteTime": {
     "start_time": "2021-10-16T21:57:20.137Z"
    }
   },
   "outputs": [],
   "source": [
    "# convert dataframe to json\n",
    "data = json.dumps(df_test.to_dict(orient='records'))"
   ]
  },
  {
   "cell_type": "code",
   "execution_count": null,
   "metadata": {
    "ExecuteTime": {
     "start_time": "2021-10-16T21:57:20.140Z"
    }
   },
   "outputs": [],
   "source": [
    "# API Call\n",
    "#url = 'http://0.0.0.0:5000/predict'\n",
    "url = 'https://health-insurance-predict-score.herokuapp.com/predict'\n",
    "      \n",
    "header = {'Content-type': 'application/json'}\n",
    "\n",
    "r = requests.post(url, data=data, headers=header)\n",
    "print(f'Status code {r.status_code}')"
   ]
  }
 ],
 "metadata": {
  "kernelspec": {
   "display_name": "Python 3",
   "language": "python",
   "name": "python3"
  },
  "language_info": {
   "codemirror_mode": {
    "name": "ipython",
    "version": 3
   },
   "file_extension": ".py",
   "mimetype": "text/x-python",
   "name": "python",
   "nbconvert_exporter": "python",
   "pygments_lexer": "ipython3",
   "version": "3.8.5"
  }
 },
 "nbformat": 4,
 "nbformat_minor": 4
}
