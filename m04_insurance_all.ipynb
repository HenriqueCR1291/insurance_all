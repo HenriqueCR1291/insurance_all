{
 "cells": [
  {
   "cell_type": "code",
   "execution_count": 1,
   "metadata": {
    "ExecuteTime": {
     "end_time": "2021-10-05T21:57:47.434470Z",
     "start_time": "2021-10-05T21:57:47.429473Z"
    }
   },
   "outputs": [],
   "source": [
    "#!pip install apt-get\n",
    "#!pip install sqlite3\n",
    "#!pip install sqlalchemy\n",
    "#!pip install psycopg2"
   ]
  },
  {
   "cell_type": "markdown",
   "metadata": {
    "heading_collapsed": true
   },
   "source": [
    "# Business Problem"
   ]
  },
  {
   "cell_type": "markdown",
   "metadata": {
    "hidden": true
   },
   "source": [
    "A **Insurance All** é uma empresa que fornece seguro de saúde para seus clientes e o time de produtos está analisando a possibilidade de oferecer aos assegurados, um novo produto: Um seguro de automóveis.\n",
    "\n",
    "Assim como o seguro de saúde, os clientes desse novo plano de seguro de automóveis precisam pagar um valor anualmente à Insurance All para obter um valor assegurado pela empresa, destinado aos custos de um eventual acidente ou dano ao veículo.\n",
    "\n",
    "A Insurance All fez uma pesquisa com cerca de 380 mil clientes sobre o interesse em aderir a um novo produto de seguro de automóveis, no ano passado. Todos os clientes demonstraram interesse ou não em adquirir o seguro de automóvel e essas respostas ficaram salvas em um banco de dados junto com outros atributos dos clientes.\n",
    "\n",
    "O time de produtos selecionou 127 mil novos clientes que não responderam a pesquisa para participar de uma campanha, no qual receberão a oferta do novo produto de seguro de automóveis. A oferta será feita pelo time de vendas através de ligações telefônicas.\n",
    "\n",
    "Contudo, o time de vendas tem uma capacidade de realizar 20 mil ligações dentro do período da campanha."
   ]
  },
  {
   "cell_type": "markdown",
   "metadata": {
    "hidden": true
   },
   "source": [
    "Nesse contexto, você foi contratado como um consultor de Ciência de Dados para construir um modelo que prediz se o cliente estaria ou não interessado no seguro de automóvel. \n",
    "\n",
    "Com a sua solução, o time de vendas espera conseguir priorizar as pessoas com maior interesse no novo produto e assim, otimizar a campanha realizando apenas contatos aos clientes mais propensos a realizar a compra.\n",
    "\n",
    "Como resultado da sua consultoria, você precisará entregar um relatório contendo algumas análises e respostas às seguintes perguntas:\n",
    "\n",
    "1) Principais Insights sobre os atributos mais relevantes de clientes interessados em adquirir um seguro de automóvel.\n",
    "\n",
    "2) Qual a porcentagem de clientes interessados em adquirir um seguro de automóvel, o time de vendas conseguirá contatar fazendo 20.000 ligações?\n",
    "\n",
    "3) E se a capacidade do time de vendas aumentar para 40.000 ligações, qual a porcentagem de clientes interessados em adquirir um seguro de automóvel o time de vendas conseguirá contatar?\n",
    "\n",
    "4) Quantas ligações o time de vendas precisa fazer para contatar 80% dos clientes interessados em adquirir um seguro de automóvel?"
   ]
  },
  {
   "cell_type": "markdown",
   "metadata": {
    "hidden": true
   },
   "source": [
    "**Business Problem**\n",
    "\n",
    "    1) Principais Insights sobre os atributos mais relevantes de clientes interessados em adquirir um seguro de automóvel.\n",
    "\n",
    "\n",
    "**Final Product**\n",
    "1. Principais insights dos atributos dos clientes\n",
    "\n",
    "2. Formato da entrega\n",
    "    Gráficos/Tabela\n",
    "    \n",
    "3. Local da entrega\n",
    "    Telegram/PowerBI\n",
    "\n",
    "\n",
    "**Process**\n",
    "1. Passo a passo\n",
    "    - Realizar feature engineering na base de dados (1º bd - 380K) dos clientes interessados e levantar as hipóteses para cada atributo a ser validada; \n",
    "    - No EDA validar as hipóteses e identificar insights dos clientes interessados;\n",
    "\n",
    "\n",
    "2. Definir o formato da entrega (visualizaçao, tabela, frase)\n",
    "    - Gráficos que melhor demonstrem as informaçoes.\n",
    "    - Utilizar os seguintes parâmetros: Id | Gender | Age | Driving License | Region Code | Previously Insured | Vehicle Age | Vehicle Damage | Anual Premium | Policy sales channel | Vintage |\n",
    "    - Definiçao do schema: colunas e seu tipo\n",
    "    - Definição da infraestrutura de armazenamento (SQLITE3)\n",
    "    - Design do ETL (Scripts de Extração, Transformação e Carga)\n",
    "    - Planejamento de agendamento dos scripts (dependência entre os scripts)\n",
    "    - Fazer as visualizações\n",
    "    - Entrega do produto final\n",
    "\n",
    "\n",
    "3. Decidir o local de entrega (powerBi, telegram, email, streamlit, intranet)\n",
    "    - PowerBI, Telegram\n",
    "    \n",
    "    \n",
    "**Enter**\n",
    "1. Fonte de dados:\n",
    "    - Site da Kaggle\n",
    "    - BD na AWS\n",
    "\n",
    "2. Ferramentas:\n",
    "    - Pyhton 3.8.0\n",
    "    - AWS\n",
    "    - Pycharm\n",
    "    - Jupyter Notebook (análises e prototipagens)\n",
    "    - Crontjob, Airflow\n",
    "    - Streamlit\n",
    "    - PowerBI\n",
    "    - Telegram"
   ]
  },
  {
   "cell_type": "markdown",
   "metadata": {
    "ExecuteTime": {
     "end_time": "2021-09-25T11:53:28.785502Z",
     "start_time": "2021-09-25T11:53:28.747527Z"
    },
    "hidden": true
   },
   "source": [
    "**Business Problem**\n",
    "\n",
    "    2) Qual a porcentagem de clientes interessados em adquirir um seguro de automóvel, o time de vendas conseguirá contatar fazendo 20.000 ligações?\n",
    "    3) E se a capacidade do time de vendas aumentar para 40.000 ligações, qual a porcentagem de clientes interessados em adquirir um seguro de automóvel o time de vendas conseguirá contatar?\n",
    "    4) Quantas ligações o time de vendas precisa fazer para contatar 80% dos clientes interessados em adquirir um seguro de automóvel?\n",
    "\n",
    "\n",
    "**Final Product**\n",
    "1. Percentual de clientes interessados da base e se poderá atender o limite de 20K/40K ligaçoes\n",
    "\n",
    "2. Formato da entrega\n",
    "    Gráfico ou tabela\n",
    "    \n",
    "3. Local da entrega\n",
    "    Telegram\n",
    "\n",
    "\n",
    "**Process**\n",
    "1. Passo a passo\n",
    "    - Realizar análise da base de dados (2 bd 127 K) e aplicar modelos de ML para obter os atributos que definem\n",
    "        o cliente com maior probabilidade de adquirir o seguro. Com essas características definir a quantidade \n",
    "        de clientes potenciais e se e possível atender com 20/40K ligaçoes.\n",
    "\n",
    "2. Definir o formato da entrega (visualizaçao, tabela, frase)\n",
    "    - Gráfico ou tabela\n",
    "\n",
    "3. Decidir o local de entrega (powerBi, telegram, email, streamlit, intranet)\n",
    "    - PowerBI, Telegram\n",
    "    \n",
    "    \n",
    "**Enter**\n",
    "1. Fonte de dados:\n",
    "    - Site da Kaggle\n",
    "    - BD na AWS\n",
    "\n",
    "2. Ferramentas:\n",
    "    - Pyhton 3.8.0\n",
    "    - AWS\n",
    "    - Pycharm\n",
    "    - Jupyter Notebook (análises e prototipagens)\n",
    "    - Crontjob, Airflow\n",
    "    - Streamlit\n",
    "    - PowerBI\n",
    "    - Telegram"
   ]
  },
  {
   "cell_type": "markdown",
   "metadata": {},
   "source": [
    "# Imports and credentials"
   ]
  },
  {
   "cell_type": "code",
   "execution_count": 2,
   "metadata": {
    "ExecuteTime": {
     "end_time": "2021-10-05T21:58:36.936960Z",
     "start_time": "2021-10-05T21:57:47.439467Z"
    }
   },
   "outputs": [],
   "source": [
    "import csv\n",
    "\n",
    "import numpy             as np\n",
    "import pandas            as pd\n",
    "import seaborn           as sns\n",
    "import psycopg2          as pg \n",
    "import pandas.io.sql     as psql\n",
    "import matplotlib.pyplot as plt\n",
    "import statistics        as st\n",
    "\n",
    "from numpy               import cov\n",
    "from numpy               import percentile\n",
    "from scipy.stats         import pearsonr\n",
    "from prettytable         import PrettyTable\n",
    "from IPython.display     import Image"
   ]
  },
  {
   "cell_type": "code",
   "execution_count": 3,
   "metadata": {
    "ExecuteTime": {
     "end_time": "2021-10-05T21:58:36.968396Z",
     "start_time": "2021-10-05T21:58:36.938948Z"
    }
   },
   "outputs": [],
   "source": [
    "#calculate % people who had CVD\n",
    "def perc (x):\n",
    "    j = len(x)\n",
    "    for i in range(len(x)):\n",
    "        if i < j:\n",
    "            p = ((x['total'][i])/(x['total'][i+pow(-1,(i+2))]+x['total'][i]))*100\n",
    "            x['%_insur_1'][i] = p\n",
    "        else:\n",
    "            exit\n",
    "    return x"
   ]
  },
  {
   "cell_type": "code",
   "execution_count": 4,
   "metadata": {
    "ExecuteTime": {
     "end_time": "2021-10-05T21:58:37.187994Z",
     "start_time": "2021-10-05T21:58:36.971393Z"
    }
   },
   "outputs": [],
   "source": [
    "#credentials\n",
    "host = ''\n",
    "port  = 5432\n",
    "database = ''\n",
    "user = ''\n",
    "password = ''"
   ]
  },
  {
   "cell_type": "code",
   "execution_count": 5,
   "metadata": {
    "ExecuteTime": {
     "end_time": "2021-10-05T21:58:38.840389Z",
     "start_time": "2021-10-05T21:58:37.189982Z"
    }
   },
   "outputs": [],
   "source": [
    "#connect\n",
    "conn = pg.connect(host=host,\n",
    "                 port=port,\n",
    "                 database=database,\n",
    "                 user=user,\n",
    "                 password=password)"
   ]
  },
  {
   "cell_type": "markdown",
   "metadata": {
    "heading_collapsed": true
   },
   "source": [
    "# 1.0 Schema Query"
   ]
  },
  {
   "cell_type": "code",
   "execution_count": 6,
   "metadata": {
    "ExecuteTime": {
     "end_time": "2021-10-05T21:58:39.212670Z",
     "start_time": "2021-10-05T21:58:38.842839Z"
    },
    "hidden": true
   },
   "outputs": [],
   "source": [
    "cursor = conn.cursor()\n",
    "\n",
    "query_schema = \"\"\"\n",
    "    SELECT nspname\n",
    "    FROM pg_catalog.pg_namespace\n",
    "\n",
    "\"\"\"\n",
    "\n",
    "cursor.execute(query_schema)"
   ]
  },
  {
   "cell_type": "code",
   "execution_count": 7,
   "metadata": {
    "ExecuteTime": {
     "end_time": "2021-10-05T21:58:39.227937Z",
     "start_time": "2021-10-05T21:58:39.214946Z"
    },
    "hidden": true
   },
   "outputs": [
    {
     "name": "stdout",
     "output_type": "stream",
     "text": [
      "[('pg_toast',), ('pg_temp_1',), ('pg_toast_temp_1',), ('pg_catalog',), ('information_schema',), ('public',), ('pa004',), ('pg_temp_4',), ('pg_toast_temp_4',), ('pa005',), ('pg_temp_9',), ('pg_toast_temp_9',)]\n"
     ]
    }
   ],
   "source": [
    "records = cursor.fetchall()\n",
    "print(records)\n",
    "#cursor.close()\n",
    "#conn.close()"
   ]
  },
  {
   "cell_type": "markdown",
   "metadata": {
    "heading_collapsed": true
   },
   "source": [
    "# 2.0 Table Query"
   ]
  },
  {
   "cell_type": "code",
   "execution_count": 8,
   "metadata": {
    "ExecuteTime": {
     "end_time": "2021-10-05T21:58:39.589064Z",
     "start_time": "2021-10-05T21:58:39.230938Z"
    },
    "hidden": true
   },
   "outputs": [],
   "source": [
    "cursor = conn.cursor()\n",
    "\n",
    "query_tables = \"\"\"\n",
    "    SELECT tablename\n",
    "    FROM pg_tables\n",
    "    WHERE schemaname = 'pa004'\n",
    "\n",
    "\"\"\"\n",
    "\n",
    "cursor.execute(query_tables)"
   ]
  },
  {
   "cell_type": "code",
   "execution_count": 9,
   "metadata": {
    "ExecuteTime": {
     "end_time": "2021-10-05T21:58:39.713805Z",
     "start_time": "2021-10-05T21:58:39.593063Z"
    },
    "hidden": true
   },
   "outputs": [
    {
     "name": "stdout",
     "output_type": "stream",
     "text": [
      "[('users',), ('vehicle',), ('insurance',)]\n"
     ]
    }
   ],
   "source": [
    "records = cursor.fetchall()\n",
    "print(records)\n",
    "#cursor.close()\n",
    "#conn.close()"
   ]
  },
  {
   "cell_type": "markdown",
   "metadata": {
    "ExecuteTime": {
     "end_time": "2021-09-26T21:44:41.630281Z",
     "start_time": "2021-09-26T21:44:41.626283Z"
    },
    "heading_collapsed": true
   },
   "source": [
    "# 3.0 Collect Data using Psycopg2"
   ]
  },
  {
   "cell_type": "code",
   "execution_count": 10,
   "metadata": {
    "ExecuteTime": {
     "end_time": "2021-10-05T21:58:40.136937Z",
     "start_time": "2021-10-05T21:58:39.716801Z"
    },
    "hidden": true
   },
   "outputs": [],
   "source": [
    "cursor = conn.cursor()\n",
    "\n",
    "query_tables_users = \"\"\"\n",
    "    SELECT *\n",
    "    FROM pa004.users u\n",
    "    WHERE u.age >40\n",
    "    limit 10\n",
    "\n",
    "\"\"\"\n",
    "\n",
    "cursor.execute(query_tables_users)"
   ]
  },
  {
   "cell_type": "code",
   "execution_count": 11,
   "metadata": {
    "ExecuteTime": {
     "end_time": "2021-10-05T21:58:40.152921Z",
     "start_time": "2021-10-05T21:58:40.139928Z"
    },
    "hidden": true
   },
   "outputs": [
    {
     "name": "stdout",
     "output_type": "stream",
     "text": [
      "[(1, 'Male', 44, 28.0, 26.0), (2, 'Male', 76, 3.0, 26.0), (3, 'Male', 47, 28.0, 26.0), (8, 'Female', 56, 28.0, 26.0), (11, 'Female', 47, 35.0, 124.0), (13, 'Female', 41, 15.0, 14.0), (14, 'Male', 76, 28.0, 13.0), (15, 'Male', 71, 28.0, 30.0), (19, 'Male', 42, 28.0, 124.0), (20, 'Female', 60, 33.0, 124.0)]\n"
     ]
    }
   ],
   "source": [
    "records = cursor.fetchall()\n",
    "print(records)\n",
    "#cursor.close()\n",
    "#conn.close()"
   ]
  },
  {
   "cell_type": "code",
   "execution_count": 12,
   "metadata": {
    "ExecuteTime": {
     "end_time": "2021-10-05T21:58:41.038804Z",
     "start_time": "2021-10-05T21:58:40.154916Z"
    },
    "hidden": true
   },
   "outputs": [
    {
     "data": {
      "text/html": [
       "<div>\n",
       "<style scoped>\n",
       "    .dataframe tbody tr th:only-of-type {\n",
       "        vertical-align: middle;\n",
       "    }\n",
       "\n",
       "    .dataframe tbody tr th {\n",
       "        vertical-align: top;\n",
       "    }\n",
       "\n",
       "    .dataframe thead th {\n",
       "        text-align: right;\n",
       "    }\n",
       "</style>\n",
       "<table border=\"1\" class=\"dataframe\">\n",
       "  <thead>\n",
       "    <tr style=\"text-align: right;\">\n",
       "      <th></th>\n",
       "      <th>0</th>\n",
       "      <th>1</th>\n",
       "      <th>2</th>\n",
       "      <th>3</th>\n",
       "      <th>4</th>\n",
       "    </tr>\n",
       "  </thead>\n",
       "  <tbody>\n",
       "    <tr>\n",
       "      <th>0</th>\n",
       "      <td>1</td>\n",
       "      <td>Male</td>\n",
       "      <td>44</td>\n",
       "      <td>28.0</td>\n",
       "      <td>26.0</td>\n",
       "    </tr>\n",
       "    <tr>\n",
       "      <th>1</th>\n",
       "      <td>2</td>\n",
       "      <td>Male</td>\n",
       "      <td>76</td>\n",
       "      <td>3.0</td>\n",
       "      <td>26.0</td>\n",
       "    </tr>\n",
       "    <tr>\n",
       "      <th>2</th>\n",
       "      <td>3</td>\n",
       "      <td>Male</td>\n",
       "      <td>47</td>\n",
       "      <td>28.0</td>\n",
       "      <td>26.0</td>\n",
       "    </tr>\n",
       "    <tr>\n",
       "      <th>3</th>\n",
       "      <td>8</td>\n",
       "      <td>Female</td>\n",
       "      <td>56</td>\n",
       "      <td>28.0</td>\n",
       "      <td>26.0</td>\n",
       "    </tr>\n",
       "    <tr>\n",
       "      <th>4</th>\n",
       "      <td>11</td>\n",
       "      <td>Female</td>\n",
       "      <td>47</td>\n",
       "      <td>35.0</td>\n",
       "      <td>124.0</td>\n",
       "    </tr>\n",
       "  </tbody>\n",
       "</table>\n",
       "</div>"
      ],
      "text/plain": [
       "    0       1   2     3      4\n",
       "0   1    Male  44  28.0   26.0\n",
       "1   2    Male  76   3.0   26.0\n",
       "2   3    Male  47  28.0   26.0\n",
       "3   8  Female  56  28.0   26.0\n",
       "4  11  Female  47  35.0  124.0"
      ]
     },
     "execution_count": 12,
     "metadata": {},
     "output_type": "execute_result"
    }
   ],
   "source": [
    "data = pd.DataFrame(records)\n",
    "data.head()"
   ]
  },
  {
   "cell_type": "markdown",
   "metadata": {
    "heading_collapsed": true
   },
   "source": [
    "# 4.0 Collect using Pandas"
   ]
  },
  {
   "cell_type": "code",
   "execution_count": 13,
   "metadata": {
    "ExecuteTime": {
     "end_time": "2021-10-05T21:59:17.518508Z",
     "start_time": "2021-10-05T21:58:41.040803Z"
    },
    "hidden": true
   },
   "outputs": [
    {
     "data": {
      "text/html": [
       "<div>\n",
       "<style scoped>\n",
       "    .dataframe tbody tr th:only-of-type {\n",
       "        vertical-align: middle;\n",
       "    }\n",
       "\n",
       "    .dataframe tbody tr th {\n",
       "        vertical-align: top;\n",
       "    }\n",
       "\n",
       "    .dataframe thead th {\n",
       "        text-align: right;\n",
       "    }\n",
       "</style>\n",
       "<table border=\"1\" class=\"dataframe\">\n",
       "  <thead>\n",
       "    <tr style=\"text-align: right;\">\n",
       "      <th></th>\n",
       "      <th>id</th>\n",
       "      <th>gender</th>\n",
       "      <th>age</th>\n",
       "      <th>region_code</th>\n",
       "      <th>policy_sales_channel</th>\n",
       "    </tr>\n",
       "  </thead>\n",
       "  <tbody>\n",
       "    <tr>\n",
       "      <th>0</th>\n",
       "      <td>1</td>\n",
       "      <td>Male</td>\n",
       "      <td>44</td>\n",
       "      <td>28.0</td>\n",
       "      <td>26.0</td>\n",
       "    </tr>\n",
       "    <tr>\n",
       "      <th>1</th>\n",
       "      <td>2</td>\n",
       "      <td>Male</td>\n",
       "      <td>76</td>\n",
       "      <td>3.0</td>\n",
       "      <td>26.0</td>\n",
       "    </tr>\n",
       "    <tr>\n",
       "      <th>2</th>\n",
       "      <td>3</td>\n",
       "      <td>Male</td>\n",
       "      <td>47</td>\n",
       "      <td>28.0</td>\n",
       "      <td>26.0</td>\n",
       "    </tr>\n",
       "    <tr>\n",
       "      <th>3</th>\n",
       "      <td>4</td>\n",
       "      <td>Male</td>\n",
       "      <td>21</td>\n",
       "      <td>11.0</td>\n",
       "      <td>152.0</td>\n",
       "    </tr>\n",
       "    <tr>\n",
       "      <th>4</th>\n",
       "      <td>5</td>\n",
       "      <td>Female</td>\n",
       "      <td>29</td>\n",
       "      <td>41.0</td>\n",
       "      <td>152.0</td>\n",
       "    </tr>\n",
       "  </tbody>\n",
       "</table>\n",
       "</div>"
      ],
      "text/plain": [
       "   id  gender  age  region_code  policy_sales_channel\n",
       "0   1    Male   44         28.0                  26.0\n",
       "1   2    Male   76          3.0                  26.0\n",
       "2   3    Male   47         28.0                  26.0\n",
       "3   4    Male   21         11.0                 152.0\n",
       "4   5  Female   29         41.0                 152.0"
      ]
     },
     "execution_count": 13,
     "metadata": {},
     "output_type": "execute_result"
    }
   ],
   "source": [
    "query_tables_users = \"\"\"\n",
    "    SELECT *\n",
    "    FROM pa004.users u\n",
    "\"\"\"\n",
    "\n",
    "df_users = psql.read_sql(query_tables_users,conn)\n",
    "df_users.head()"
   ]
  },
  {
   "cell_type": "code",
   "execution_count": 14,
   "metadata": {
    "ExecuteTime": {
     "end_time": "2021-10-05T21:59:38.092826Z",
     "start_time": "2021-10-05T21:59:17.521505Z"
    },
    "hidden": true
   },
   "outputs": [
    {
     "data": {
      "text/html": [
       "<div>\n",
       "<style scoped>\n",
       "    .dataframe tbody tr th:only-of-type {\n",
       "        vertical-align: middle;\n",
       "    }\n",
       "\n",
       "    .dataframe tbody tr th {\n",
       "        vertical-align: top;\n",
       "    }\n",
       "\n",
       "    .dataframe thead th {\n",
       "        text-align: right;\n",
       "    }\n",
       "</style>\n",
       "<table border=\"1\" class=\"dataframe\">\n",
       "  <thead>\n",
       "    <tr style=\"text-align: right;\">\n",
       "      <th></th>\n",
       "      <th>id</th>\n",
       "      <th>driving_license</th>\n",
       "      <th>vehicle_age</th>\n",
       "      <th>vehicle_damage</th>\n",
       "    </tr>\n",
       "  </thead>\n",
       "  <tbody>\n",
       "    <tr>\n",
       "      <th>0</th>\n",
       "      <td>1</td>\n",
       "      <td>1</td>\n",
       "      <td>&gt; 2 Years</td>\n",
       "      <td>Yes</td>\n",
       "    </tr>\n",
       "    <tr>\n",
       "      <th>1</th>\n",
       "      <td>2</td>\n",
       "      <td>1</td>\n",
       "      <td>1-2 Year</td>\n",
       "      <td>No</td>\n",
       "    </tr>\n",
       "    <tr>\n",
       "      <th>2</th>\n",
       "      <td>3</td>\n",
       "      <td>1</td>\n",
       "      <td>&gt; 2 Years</td>\n",
       "      <td>Yes</td>\n",
       "    </tr>\n",
       "    <tr>\n",
       "      <th>3</th>\n",
       "      <td>4</td>\n",
       "      <td>1</td>\n",
       "      <td>&lt; 1 Year</td>\n",
       "      <td>No</td>\n",
       "    </tr>\n",
       "    <tr>\n",
       "      <th>4</th>\n",
       "      <td>5</td>\n",
       "      <td>1</td>\n",
       "      <td>&lt; 1 Year</td>\n",
       "      <td>No</td>\n",
       "    </tr>\n",
       "  </tbody>\n",
       "</table>\n",
       "</div>"
      ],
      "text/plain": [
       "   id  driving_license vehicle_age vehicle_damage\n",
       "0   1                1   > 2 Years            Yes\n",
       "1   2                1    1-2 Year             No\n",
       "2   3                1   > 2 Years            Yes\n",
       "3   4                1    < 1 Year             No\n",
       "4   5                1    < 1 Year             No"
      ]
     },
     "execution_count": 14,
     "metadata": {},
     "output_type": "execute_result"
    }
   ],
   "source": [
    "query_tables_vehicle = \"\"\"\n",
    "    SELECT *\n",
    "    FROM pa004.vehicle v\n",
    "\"\"\"\n",
    "\n",
    "df_vehicle = psql.read_sql(query_tables_vehicle,conn)\n",
    "df_vehicle.head()"
   ]
  },
  {
   "cell_type": "code",
   "execution_count": 15,
   "metadata": {
    "ExecuteTime": {
     "end_time": "2021-10-05T21:59:49.650087Z",
     "start_time": "2021-10-05T21:59:38.094826Z"
    },
    "hidden": true
   },
   "outputs": [
    {
     "data": {
      "text/html": [
       "<div>\n",
       "<style scoped>\n",
       "    .dataframe tbody tr th:only-of-type {\n",
       "        vertical-align: middle;\n",
       "    }\n",
       "\n",
       "    .dataframe tbody tr th {\n",
       "        vertical-align: top;\n",
       "    }\n",
       "\n",
       "    .dataframe thead th {\n",
       "        text-align: right;\n",
       "    }\n",
       "</style>\n",
       "<table border=\"1\" class=\"dataframe\">\n",
       "  <thead>\n",
       "    <tr style=\"text-align: right;\">\n",
       "      <th></th>\n",
       "      <th>id</th>\n",
       "      <th>previously_insured</th>\n",
       "      <th>annual_premium</th>\n",
       "      <th>vintage</th>\n",
       "      <th>response</th>\n",
       "    </tr>\n",
       "  </thead>\n",
       "  <tbody>\n",
       "    <tr>\n",
       "      <th>0</th>\n",
       "      <td>1</td>\n",
       "      <td>0</td>\n",
       "      <td>40454.0</td>\n",
       "      <td>217</td>\n",
       "      <td>1</td>\n",
       "    </tr>\n",
       "    <tr>\n",
       "      <th>1</th>\n",
       "      <td>2</td>\n",
       "      <td>0</td>\n",
       "      <td>33536.0</td>\n",
       "      <td>183</td>\n",
       "      <td>0</td>\n",
       "    </tr>\n",
       "    <tr>\n",
       "      <th>2</th>\n",
       "      <td>3</td>\n",
       "      <td>0</td>\n",
       "      <td>38294.0</td>\n",
       "      <td>27</td>\n",
       "      <td>1</td>\n",
       "    </tr>\n",
       "    <tr>\n",
       "      <th>3</th>\n",
       "      <td>4</td>\n",
       "      <td>1</td>\n",
       "      <td>28619.0</td>\n",
       "      <td>203</td>\n",
       "      <td>0</td>\n",
       "    </tr>\n",
       "    <tr>\n",
       "      <th>4</th>\n",
       "      <td>5</td>\n",
       "      <td>1</td>\n",
       "      <td>27496.0</td>\n",
       "      <td>39</td>\n",
       "      <td>0</td>\n",
       "    </tr>\n",
       "  </tbody>\n",
       "</table>\n",
       "</div>"
      ],
      "text/plain": [
       "   id  previously_insured  annual_premium  vintage  response\n",
       "0   1                   0         40454.0      217         1\n",
       "1   2                   0         33536.0      183         0\n",
       "2   3                   0         38294.0       27         1\n",
       "3   4                   1         28619.0      203         0\n",
       "4   5                   1         27496.0       39         0"
      ]
     },
     "execution_count": 15,
     "metadata": {},
     "output_type": "execute_result"
    }
   ],
   "source": [
    "query_tables_insurance = \"\"\"\n",
    "    SELECT *\n",
    "    FROM pa004.insurance i\n",
    "\"\"\"\n",
    "\n",
    "df_insurance = psql.read_sql(query_tables_insurance,conn)\n",
    "df_insurance.head()"
   ]
  },
  {
   "cell_type": "code",
   "execution_count": 16,
   "metadata": {
    "ExecuteTime": {
     "end_time": "2021-10-05T22:00:58.708712Z",
     "start_time": "2021-10-05T21:59:49.653085Z"
    },
    "hidden": true
   },
   "outputs": [],
   "source": [
    "query_tables_all = \"\"\"\n",
    "    SELECT *\n",
    "    FROM pa004.insurance i inner join pa004.vehicle v on (i.id = v.id)\n",
    "                           inner join pa004.users u on (i.id = u.id)\n",
    "\"\"\"\n",
    "\n",
    "df = psql.read_sql(query_tables_all,conn)\n"
   ]
  },
  {
   "cell_type": "code",
   "execution_count": 17,
   "metadata": {
    "ExecuteTime": {
     "end_time": "2021-10-05T22:01:02.152534Z",
     "start_time": "2021-10-05T22:00:58.710646Z"
    },
    "hidden": true
   },
   "outputs": [],
   "source": [
    "df.to_csv('data.csv')"
   ]
  },
  {
   "cell_type": "code",
   "execution_count": 18,
   "metadata": {
    "ExecuteTime": {
     "end_time": "2021-10-05T22:01:08.264735Z",
     "start_time": "2021-10-05T22:01:02.154535Z"
    },
    "hidden": true
   },
   "outputs": [],
   "source": [
    "df = pd.read_csv('data.csv')\n",
    "df = df.drop(['Unnamed: 0', 'id.1', 'id.2'], axis=1)"
   ]
  },
  {
   "cell_type": "markdown",
   "metadata": {},
   "source": [
    "# 1.0. Data Description"
   ]
  },
  {
   "cell_type": "code",
   "execution_count": 19,
   "metadata": {
    "ExecuteTime": {
     "end_time": "2021-10-05T22:01:08.295715Z",
     "start_time": "2021-10-05T22:01:08.266732Z"
    }
   },
   "outputs": [],
   "source": [
    "df1 = df.copy()"
   ]
  },
  {
   "cell_type": "markdown",
   "metadata": {
    "heading_collapsed": true
   },
   "source": [
    "## 1.1. Data Dimensions"
   ]
  },
  {
   "cell_type": "code",
   "execution_count": 20,
   "metadata": {
    "ExecuteTime": {
     "end_time": "2021-10-05T22:01:10.898385Z",
     "start_time": "2021-10-05T22:01:08.297714Z"
    },
    "hidden": true
   },
   "outputs": [
    {
     "name": "stdout",
     "output_type": "stream",
     "text": [
      "Number of columns:  12\n",
      "Number of rows:  381109\n"
     ]
    }
   ],
   "source": [
    "print('Number of columns: ', df1.shape[1])\n",
    "print('Number of rows: ', df1.shape[0])"
   ]
  },
  {
   "cell_type": "markdown",
   "metadata": {},
   "source": [
    "## 1.2. Data Types"
   ]
  },
  {
   "cell_type": "code",
   "execution_count": 21,
   "metadata": {
    "ExecuteTime": {
     "end_time": "2021-10-05T22:01:12.036090Z",
     "start_time": "2021-10-05T22:01:10.900371Z"
    }
   },
   "outputs": [
    {
     "data": {
      "text/plain": [
       "id                        int64\n",
       "previously_insured        int64\n",
       "annual_premium          float64\n",
       "vintage                   int64\n",
       "response                  int64\n",
       "driving_license           int64\n",
       "vehicle_age              object\n",
       "vehicle_damage           object\n",
       "gender                   object\n",
       "age                       int64\n",
       "region_code             float64\n",
       "policy_sales_channel    float64\n",
       "dtype: object"
      ]
     },
     "execution_count": 21,
     "metadata": {},
     "output_type": "execute_result"
    }
   ],
   "source": [
    "df1.dtypes"
   ]
  },
  {
   "cell_type": "markdown",
   "metadata": {
    "heading_collapsed": true
   },
   "source": [
    "## 1.3. Checking NA"
   ]
  },
  {
   "cell_type": "code",
   "execution_count": 22,
   "metadata": {
    "ExecuteTime": {
     "end_time": "2021-10-05T22:01:13.513546Z",
     "start_time": "2021-10-05T22:01:12.038083Z"
    },
    "hidden": true
   },
   "outputs": [
    {
     "data": {
      "text/plain": [
       "id                      0\n",
       "previously_insured      0\n",
       "annual_premium          0\n",
       "vintage                 0\n",
       "response                0\n",
       "driving_license         0\n",
       "vehicle_age             0\n",
       "vehicle_damage          0\n",
       "gender                  0\n",
       "age                     0\n",
       "region_code             0\n",
       "policy_sales_channel    0\n",
       "dtype: int64"
      ]
     },
     "execution_count": 22,
     "metadata": {},
     "output_type": "execute_result"
    }
   ],
   "source": [
    "df1.isna().sum()"
   ]
  },
  {
   "cell_type": "markdown",
   "metadata": {},
   "source": [
    "## 1.4. Unity Change"
   ]
  },
  {
   "cell_type": "code",
   "execution_count": 23,
   "metadata": {
    "ExecuteTime": {
     "end_time": "2021-10-05T22:01:13.652146Z",
     "start_time": "2021-10-05T22:01:13.515541Z"
    }
   },
   "outputs": [],
   "source": [
    "#annual_premium\n",
    "df1['annual_premium'] = df1['annual_premium'].astype(int)"
   ]
  },
  {
   "cell_type": "code",
   "execution_count": 24,
   "metadata": {
    "ExecuteTime": {
     "end_time": "2021-10-05T22:01:13.807496Z",
     "start_time": "2021-10-05T22:01:13.658147Z"
    }
   },
   "outputs": [],
   "source": [
    "#region_code\n",
    "df1['region_code'] = df1['region_code'].astype(int)"
   ]
  },
  {
   "cell_type": "code",
   "execution_count": 25,
   "metadata": {
    "ExecuteTime": {
     "end_time": "2021-10-05T22:01:14.139244Z",
     "start_time": "2021-10-05T22:01:13.810500Z"
    }
   },
   "outputs": [],
   "source": [
    "#policy_sales_channel\n",
    "df1['policy_sales_channel'] = df1['policy_sales_channel'].astype(int)"
   ]
  },
  {
   "cell_type": "code",
   "execution_count": 26,
   "metadata": {
    "ExecuteTime": {
     "end_time": "2021-10-05T22:01:14.882593Z",
     "start_time": "2021-10-05T22:01:14.141242Z"
    }
   },
   "outputs": [],
   "source": [
    "#vehicle_damage\n",
    "df1['vehicle_damage'] = df1['vehicle_damage'].apply(lambda x: 1 if x == 'Yes' else 0)"
   ]
  },
  {
   "cell_type": "code",
   "execution_count": 27,
   "metadata": {
    "ExecuteTime": {
     "end_time": "2021-10-05T22:01:15.530516Z",
     "start_time": "2021-10-05T22:01:14.884591Z"
    }
   },
   "outputs": [],
   "source": [
    "#gender\n",
    "df1['gender'] = df1['gender'].apply(lambda x: 1 if x == 'Female' else 2)"
   ]
  },
  {
   "cell_type": "code",
   "execution_count": 28,
   "metadata": {
    "ExecuteTime": {
     "end_time": "2021-10-05T22:01:15.862329Z",
     "start_time": "2021-10-05T22:01:15.533513Z"
    }
   },
   "outputs": [],
   "source": [
    "#vehicle_age\n",
    "df1['vehicle_age'] = df1['vehicle_age'].apply(lambda x: 1 if x == '< 1 Year' else x)\n",
    "df1['vehicle_age'] = df1['vehicle_age'].apply(lambda x: 1.5 if x == '1-2 Year' else x)\n",
    "df1['vehicle_age'] = df1['vehicle_age'].apply(lambda x: 2 if x == '> 2 Years' else x)\n",
    "\n",
    "#transform to (int)\n",
    "#df1['vehicle_age'] = pd.to_numeric(df1['vehicle_age'],errors = 'coerce')"
   ]
  },
  {
   "cell_type": "code",
   "execution_count": 29,
   "metadata": {
    "ExecuteTime": {
     "end_time": "2021-10-05T22:01:15.940273Z",
     "start_time": "2021-10-05T22:01:15.863323Z"
    }
   },
   "outputs": [
    {
     "data": {
      "text/html": [
       "<div>\n",
       "<style scoped>\n",
       "    .dataframe tbody tr th:only-of-type {\n",
       "        vertical-align: middle;\n",
       "    }\n",
       "\n",
       "    .dataframe tbody tr th {\n",
       "        vertical-align: top;\n",
       "    }\n",
       "\n",
       "    .dataframe thead th {\n",
       "        text-align: right;\n",
       "    }\n",
       "</style>\n",
       "<table border=\"1\" class=\"dataframe\">\n",
       "  <thead>\n",
       "    <tr style=\"text-align: right;\">\n",
       "      <th></th>\n",
       "      <th>id</th>\n",
       "      <th>previously_insured</th>\n",
       "      <th>annual_premium</th>\n",
       "      <th>vintage</th>\n",
       "      <th>response</th>\n",
       "      <th>driving_license</th>\n",
       "      <th>vehicle_age</th>\n",
       "      <th>vehicle_damage</th>\n",
       "      <th>gender</th>\n",
       "      <th>age</th>\n",
       "      <th>region_code</th>\n",
       "      <th>policy_sales_channel</th>\n",
       "    </tr>\n",
       "  </thead>\n",
       "  <tbody>\n",
       "    <tr>\n",
       "      <th>0</th>\n",
       "      <td>7</td>\n",
       "      <td>0</td>\n",
       "      <td>23367</td>\n",
       "      <td>249</td>\n",
       "      <td>0</td>\n",
       "      <td>1</td>\n",
       "      <td>1.0</td>\n",
       "      <td>1</td>\n",
       "      <td>2</td>\n",
       "      <td>23</td>\n",
       "      <td>11</td>\n",
       "      <td>152</td>\n",
       "    </tr>\n",
       "    <tr>\n",
       "      <th>1</th>\n",
       "      <td>13</td>\n",
       "      <td>1</td>\n",
       "      <td>31409</td>\n",
       "      <td>221</td>\n",
       "      <td>0</td>\n",
       "      <td>1</td>\n",
       "      <td>1.5</td>\n",
       "      <td>0</td>\n",
       "      <td>1</td>\n",
       "      <td>41</td>\n",
       "      <td>15</td>\n",
       "      <td>14</td>\n",
       "    </tr>\n",
       "    <tr>\n",
       "      <th>2</th>\n",
       "      <td>18</td>\n",
       "      <td>1</td>\n",
       "      <td>46622</td>\n",
       "      <td>299</td>\n",
       "      <td>0</td>\n",
       "      <td>1</td>\n",
       "      <td>1.0</td>\n",
       "      <td>0</td>\n",
       "      <td>1</td>\n",
       "      <td>25</td>\n",
       "      <td>35</td>\n",
       "      <td>152</td>\n",
       "    </tr>\n",
       "    <tr>\n",
       "      <th>3</th>\n",
       "      <td>31</td>\n",
       "      <td>0</td>\n",
       "      <td>2630</td>\n",
       "      <td>136</td>\n",
       "      <td>0</td>\n",
       "      <td>1</td>\n",
       "      <td>1.0</td>\n",
       "      <td>0</td>\n",
       "      <td>1</td>\n",
       "      <td>26</td>\n",
       "      <td>8</td>\n",
       "      <td>160</td>\n",
       "    </tr>\n",
       "    <tr>\n",
       "      <th>4</th>\n",
       "      <td>39</td>\n",
       "      <td>0</td>\n",
       "      <td>42297</td>\n",
       "      <td>264</td>\n",
       "      <td>0</td>\n",
       "      <td>1</td>\n",
       "      <td>1.5</td>\n",
       "      <td>1</td>\n",
       "      <td>2</td>\n",
       "      <td>45</td>\n",
       "      <td>8</td>\n",
       "      <td>124</td>\n",
       "    </tr>\n",
       "    <tr>\n",
       "      <th>...</th>\n",
       "      <td>...</td>\n",
       "      <td>...</td>\n",
       "      <td>...</td>\n",
       "      <td>...</td>\n",
       "      <td>...</td>\n",
       "      <td>...</td>\n",
       "      <td>...</td>\n",
       "      <td>...</td>\n",
       "      <td>...</td>\n",
       "      <td>...</td>\n",
       "      <td>...</td>\n",
       "      <td>...</td>\n",
       "    </tr>\n",
       "    <tr>\n",
       "      <th>381104</th>\n",
       "      <td>381070</td>\n",
       "      <td>1</td>\n",
       "      <td>38254</td>\n",
       "      <td>127</td>\n",
       "      <td>0</td>\n",
       "      <td>1</td>\n",
       "      <td>1.0</td>\n",
       "      <td>0</td>\n",
       "      <td>2</td>\n",
       "      <td>24</td>\n",
       "      <td>8</td>\n",
       "      <td>152</td>\n",
       "    </tr>\n",
       "    <tr>\n",
       "      <th>381105</th>\n",
       "      <td>381079</td>\n",
       "      <td>0</td>\n",
       "      <td>39740</td>\n",
       "      <td>170</td>\n",
       "      <td>0</td>\n",
       "      <td>1</td>\n",
       "      <td>1.5</td>\n",
       "      <td>1</td>\n",
       "      <td>1</td>\n",
       "      <td>58</td>\n",
       "      <td>28</td>\n",
       "      <td>26</td>\n",
       "    </tr>\n",
       "    <tr>\n",
       "      <th>381106</th>\n",
       "      <td>381082</td>\n",
       "      <td>1</td>\n",
       "      <td>51619</td>\n",
       "      <td>80</td>\n",
       "      <td>0</td>\n",
       "      <td>1</td>\n",
       "      <td>1.5</td>\n",
       "      <td>0</td>\n",
       "      <td>1</td>\n",
       "      <td>75</td>\n",
       "      <td>28</td>\n",
       "      <td>26</td>\n",
       "    </tr>\n",
       "    <tr>\n",
       "      <th>381107</th>\n",
       "      <td>381097</td>\n",
       "      <td>0</td>\n",
       "      <td>34541</td>\n",
       "      <td>44</td>\n",
       "      <td>0</td>\n",
       "      <td>1</td>\n",
       "      <td>1.5</td>\n",
       "      <td>1</td>\n",
       "      <td>1</td>\n",
       "      <td>49</td>\n",
       "      <td>10</td>\n",
       "      <td>26</td>\n",
       "    </tr>\n",
       "    <tr>\n",
       "      <th>381108</th>\n",
       "      <td>381100</td>\n",
       "      <td>0</td>\n",
       "      <td>44504</td>\n",
       "      <td>71</td>\n",
       "      <td>0</td>\n",
       "      <td>1</td>\n",
       "      <td>1.5</td>\n",
       "      <td>1</td>\n",
       "      <td>1</td>\n",
       "      <td>51</td>\n",
       "      <td>28</td>\n",
       "      <td>26</td>\n",
       "    </tr>\n",
       "  </tbody>\n",
       "</table>\n",
       "<p>381109 rows × 12 columns</p>\n",
       "</div>"
      ],
      "text/plain": [
       "            id  previously_insured  annual_premium  vintage  response  \\\n",
       "0            7                   0           23367      249         0   \n",
       "1           13                   1           31409      221         0   \n",
       "2           18                   1           46622      299         0   \n",
       "3           31                   0            2630      136         0   \n",
       "4           39                   0           42297      264         0   \n",
       "...        ...                 ...             ...      ...       ...   \n",
       "381104  381070                   1           38254      127         0   \n",
       "381105  381079                   0           39740      170         0   \n",
       "381106  381082                   1           51619       80         0   \n",
       "381107  381097                   0           34541       44         0   \n",
       "381108  381100                   0           44504       71         0   \n",
       "\n",
       "        driving_license  vehicle_age  vehicle_damage  gender  age  \\\n",
       "0                     1          1.0               1       2   23   \n",
       "1                     1          1.5               0       1   41   \n",
       "2                     1          1.0               0       1   25   \n",
       "3                     1          1.0               0       1   26   \n",
       "4                     1          1.5               1       2   45   \n",
       "...                 ...          ...             ...     ...  ...   \n",
       "381104                1          1.0               0       2   24   \n",
       "381105                1          1.5               1       1   58   \n",
       "381106                1          1.5               0       1   75   \n",
       "381107                1          1.5               1       1   49   \n",
       "381108                1          1.5               1       1   51   \n",
       "\n",
       "        region_code  policy_sales_channel  \n",
       "0                11                   152  \n",
       "1                15                    14  \n",
       "2                35                   152  \n",
       "3                 8                   160  \n",
       "4                 8                   124  \n",
       "...             ...                   ...  \n",
       "381104            8                   152  \n",
       "381105           28                    26  \n",
       "381106           28                    26  \n",
       "381107           10                    26  \n",
       "381108           28                    26  \n",
       "\n",
       "[381109 rows x 12 columns]"
      ]
     },
     "execution_count": 29,
     "metadata": {},
     "output_type": "execute_result"
    }
   ],
   "source": [
    "df1"
   ]
  },
  {
   "cell_type": "code",
   "execution_count": 30,
   "metadata": {
    "ExecuteTime": {
     "end_time": "2021-10-05T22:01:16.271069Z",
     "start_time": "2021-10-05T22:01:15.943273Z"
    }
   },
   "outputs": [
    {
     "data": {
      "text/plain": [
       "id                        int64\n",
       "previously_insured        int64\n",
       "annual_premium            int32\n",
       "vintage                   int64\n",
       "response                  int64\n",
       "driving_license           int64\n",
       "vehicle_age             float64\n",
       "vehicle_damage            int64\n",
       "gender                    int64\n",
       "age                       int64\n",
       "region_code               int32\n",
       "policy_sales_channel      int32\n",
       "dtype: object"
      ]
     },
     "execution_count": 30,
     "metadata": {},
     "output_type": "execute_result"
    }
   ],
   "source": [
    "df1.dtypes"
   ]
  },
  {
   "cell_type": "markdown",
   "metadata": {},
   "source": [
    "## 1.5. Descriptive Statiscal"
   ]
  },
  {
   "cell_type": "code",
   "execution_count": 31,
   "metadata": {
    "ExecuteTime": {
     "end_time": "2021-10-05T22:01:18.852386Z",
     "start_time": "2021-10-05T22:01:16.273069Z"
    }
   },
   "outputs": [
    {
     "data": {
      "text/html": [
       "<div>\n",
       "<style scoped>\n",
       "    .dataframe tbody tr th:only-of-type {\n",
       "        vertical-align: middle;\n",
       "    }\n",
       "\n",
       "    .dataframe tbody tr th {\n",
       "        vertical-align: top;\n",
       "    }\n",
       "\n",
       "    .dataframe thead th {\n",
       "        text-align: right;\n",
       "    }\n",
       "</style>\n",
       "<table border=\"1\" class=\"dataframe\">\n",
       "  <thead>\n",
       "    <tr style=\"text-align: right;\">\n",
       "      <th></th>\n",
       "      <th>attributes</th>\n",
       "      <th>min</th>\n",
       "      <th>max</th>\n",
       "      <th>range</th>\n",
       "      <th>mean</th>\n",
       "      <th>median</th>\n",
       "      <th>mode</th>\n",
       "      <th>std</th>\n",
       "      <th>skew</th>\n",
       "      <th>kurtosis</th>\n",
       "    </tr>\n",
       "  </thead>\n",
       "  <tbody>\n",
       "    <tr>\n",
       "      <th>0</th>\n",
       "      <td>id</td>\n",
       "      <td>1.0</td>\n",
       "      <td>381109.0</td>\n",
       "      <td>381108.0</td>\n",
       "      <td>190555.000000</td>\n",
       "      <td>190555.0</td>\n",
       "      <td>7.0</td>\n",
       "      <td>110016.691870</td>\n",
       "      <td>-8.071174e-18</td>\n",
       "      <td>-1.200000</td>\n",
       "    </tr>\n",
       "    <tr>\n",
       "      <th>1</th>\n",
       "      <td>previously_insured</td>\n",
       "      <td>0.0</td>\n",
       "      <td>1.0</td>\n",
       "      <td>1.0</td>\n",
       "      <td>0.458210</td>\n",
       "      <td>0.0</td>\n",
       "      <td>0.0</td>\n",
       "      <td>0.498251</td>\n",
       "      <td>1.677471e-01</td>\n",
       "      <td>-1.971871</td>\n",
       "    </tr>\n",
       "    <tr>\n",
       "      <th>2</th>\n",
       "      <td>annual_premium</td>\n",
       "      <td>2630.0</td>\n",
       "      <td>540165.0</td>\n",
       "      <td>537535.0</td>\n",
       "      <td>30564.389581</td>\n",
       "      <td>31669.0</td>\n",
       "      <td>2630.0</td>\n",
       "      <td>17213.132474</td>\n",
       "      <td>1.766087e+00</td>\n",
       "      <td>34.004569</td>\n",
       "    </tr>\n",
       "    <tr>\n",
       "      <th>3</th>\n",
       "      <td>vintage</td>\n",
       "      <td>10.0</td>\n",
       "      <td>299.0</td>\n",
       "      <td>289.0</td>\n",
       "      <td>154.347397</td>\n",
       "      <td>154.0</td>\n",
       "      <td>256.0</td>\n",
       "      <td>83.671194</td>\n",
       "      <td>3.029517e-03</td>\n",
       "      <td>-1.200688</td>\n",
       "    </tr>\n",
       "    <tr>\n",
       "      <th>4</th>\n",
       "      <td>response</td>\n",
       "      <td>0.0</td>\n",
       "      <td>1.0</td>\n",
       "      <td>1.0</td>\n",
       "      <td>0.122563</td>\n",
       "      <td>0.0</td>\n",
       "      <td>0.0</td>\n",
       "      <td>0.327935</td>\n",
       "      <td>2.301906e+00</td>\n",
       "      <td>3.298788</td>\n",
       "    </tr>\n",
       "    <tr>\n",
       "      <th>5</th>\n",
       "      <td>driving_license</td>\n",
       "      <td>0.0</td>\n",
       "      <td>1.0</td>\n",
       "      <td>1.0</td>\n",
       "      <td>0.997869</td>\n",
       "      <td>1.0</td>\n",
       "      <td>1.0</td>\n",
       "      <td>0.046109</td>\n",
       "      <td>-2.159518e+01</td>\n",
       "      <td>464.354302</td>\n",
       "    </tr>\n",
       "    <tr>\n",
       "      <th>6</th>\n",
       "      <td>vehicle_age</td>\n",
       "      <td>1.0</td>\n",
       "      <td>2.0</td>\n",
       "      <td>1.0</td>\n",
       "      <td>1.304808</td>\n",
       "      <td>1.5</td>\n",
       "      <td>1.5</td>\n",
       "      <td>0.283719</td>\n",
       "      <td>2.528959e-01</td>\n",
       "      <td>-0.792253</td>\n",
       "    </tr>\n",
       "    <tr>\n",
       "      <th>7</th>\n",
       "      <td>vehicle_damage</td>\n",
       "      <td>0.0</td>\n",
       "      <td>1.0</td>\n",
       "      <td>1.0</td>\n",
       "      <td>0.504877</td>\n",
       "      <td>1.0</td>\n",
       "      <td>1.0</td>\n",
       "      <td>0.499976</td>\n",
       "      <td>-1.950724e-02</td>\n",
       "      <td>-1.999630</td>\n",
       "    </tr>\n",
       "    <tr>\n",
       "      <th>8</th>\n",
       "      <td>gender</td>\n",
       "      <td>1.0</td>\n",
       "      <td>2.0</td>\n",
       "      <td>1.0</td>\n",
       "      <td>1.540761</td>\n",
       "      <td>2.0</td>\n",
       "      <td>2.0</td>\n",
       "      <td>0.498336</td>\n",
       "      <td>-1.635904e-01</td>\n",
       "      <td>-1.973249</td>\n",
       "    </tr>\n",
       "    <tr>\n",
       "      <th>9</th>\n",
       "      <td>age</td>\n",
       "      <td>20.0</td>\n",
       "      <td>85.0</td>\n",
       "      <td>65.0</td>\n",
       "      <td>38.822584</td>\n",
       "      <td>36.0</td>\n",
       "      <td>24.0</td>\n",
       "      <td>15.511591</td>\n",
       "      <td>6.725390e-01</td>\n",
       "      <td>-0.565655</td>\n",
       "    </tr>\n",
       "    <tr>\n",
       "      <th>10</th>\n",
       "      <td>region_code</td>\n",
       "      <td>0.0</td>\n",
       "      <td>52.0</td>\n",
       "      <td>52.0</td>\n",
       "      <td>26.388807</td>\n",
       "      <td>28.0</td>\n",
       "      <td>28.0</td>\n",
       "      <td>13.229871</td>\n",
       "      <td>-1.152664e-01</td>\n",
       "      <td>-0.867857</td>\n",
       "    </tr>\n",
       "    <tr>\n",
       "      <th>11</th>\n",
       "      <td>policy_sales_channel</td>\n",
       "      <td>1.0</td>\n",
       "      <td>163.0</td>\n",
       "      <td>162.0</td>\n",
       "      <td>112.034295</td>\n",
       "      <td>133.0</td>\n",
       "      <td>152.0</td>\n",
       "      <td>54.203924</td>\n",
       "      <td>-9.000081e-01</td>\n",
       "      <td>-0.970810</td>\n",
       "    </tr>\n",
       "  </tbody>\n",
       "</table>\n",
       "</div>"
      ],
      "text/plain": [
       "              attributes     min       max     range           mean    median  \\\n",
       "0                     id     1.0  381109.0  381108.0  190555.000000  190555.0   \n",
       "1     previously_insured     0.0       1.0       1.0       0.458210       0.0   \n",
       "2         annual_premium  2630.0  540165.0  537535.0   30564.389581   31669.0   \n",
       "3                vintage    10.0     299.0     289.0     154.347397     154.0   \n",
       "4               response     0.0       1.0       1.0       0.122563       0.0   \n",
       "5        driving_license     0.0       1.0       1.0       0.997869       1.0   \n",
       "6            vehicle_age     1.0       2.0       1.0       1.304808       1.5   \n",
       "7         vehicle_damage     0.0       1.0       1.0       0.504877       1.0   \n",
       "8                 gender     1.0       2.0       1.0       1.540761       2.0   \n",
       "9                    age    20.0      85.0      65.0      38.822584      36.0   \n",
       "10           region_code     0.0      52.0      52.0      26.388807      28.0   \n",
       "11  policy_sales_channel     1.0     163.0     162.0     112.034295     133.0   \n",
       "\n",
       "      mode            std          skew    kurtosis  \n",
       "0      7.0  110016.691870 -8.071174e-18   -1.200000  \n",
       "1      0.0       0.498251  1.677471e-01   -1.971871  \n",
       "2   2630.0   17213.132474  1.766087e+00   34.004569  \n",
       "3    256.0      83.671194  3.029517e-03   -1.200688  \n",
       "4      0.0       0.327935  2.301906e+00    3.298788  \n",
       "5      1.0       0.046109 -2.159518e+01  464.354302  \n",
       "6      1.5       0.283719  2.528959e-01   -0.792253  \n",
       "7      1.0       0.499976 -1.950724e-02   -1.999630  \n",
       "8      2.0       0.498336 -1.635904e-01   -1.973249  \n",
       "9     24.0      15.511591  6.725390e-01   -0.565655  \n",
       "10    28.0      13.229871 -1.152664e-01   -0.867857  \n",
       "11   152.0      54.203924 -9.000081e-01   -0.970810  "
      ]
     },
     "execution_count": 31,
     "metadata": {},
     "output_type": "execute_result"
    }
   ],
   "source": [
    "#central tendency - mean, median, mode\n",
    "ct1 = pd.DataFrame(df1.apply(np.mean)).T\n",
    "ct2 = pd.DataFrame(df1.apply(np.median)).T\n",
    "ct3 = pd.DataFrame(df1.apply(st.mode)).T\n",
    "\n",
    "#Dispersion - std, min, max, range, skew, kurtosis\n",
    "d1 = pd.DataFrame(df1.apply(min)).T\n",
    "d2 = pd.DataFrame(df1.apply(max)).T\n",
    "d3 = pd.DataFrame(df1.apply(lambda x: x.max() - x.min())).T\n",
    "d4 = pd.DataFrame(df1.apply(np.std)).T\n",
    "d5 = pd.DataFrame(df1.apply(lambda x: x.skew())).T\n",
    "d6 = pd.DataFrame(df1.apply(lambda x: x.kurtosis())).T\n",
    "\n",
    "#concatenate\n",
    "m = pd.concat([d1,d2,d3,ct1,ct2,ct3,d4,d5,d6]).T.reset_index()\n",
    "m.columns = ['attributes','min','max','range','mean','median','mode','std','skew','kurtosis']\n",
    "m"
   ]
  },
  {
   "cell_type": "markdown",
   "metadata": {},
   "source": [
    "# 2.0. Feature Engineering"
   ]
  },
  {
   "cell_type": "code",
   "execution_count": 32,
   "metadata": {
    "ExecuteTime": {
     "end_time": "2021-10-05T22:01:18.883368Z",
     "start_time": "2021-10-05T22:01:18.854388Z"
    }
   },
   "outputs": [],
   "source": [
    "df2 = df1.copy()"
   ]
  },
  {
   "cell_type": "markdown",
   "metadata": {},
   "source": [
    "## 2.1 Mind Map"
   ]
  },
  {
   "cell_type": "code",
   "execution_count": 33,
   "metadata": {
    "ExecuteTime": {
     "end_time": "2021-10-05T22:01:18.994298Z",
     "start_time": "2021-10-05T22:01:18.885366Z"
    }
   },
   "outputs": [
    {
     "data": {
      "image/png": "[encoded data removed]",
      "text/plain": [
       "<IPython.core.display.Image object>"
      ]
     },
     "execution_count": 33,
     "metadata": {},
     "output_type": "execute_result"
    }
   ],
   "source": [
    "Image('C:/Users/Henrique/repos/Insurance All/mindmap.png')"
   ]
  },
  {
   "cell_type": "code",
   "execution_count": 34,
   "metadata": {
    "ExecuteTime": {
     "end_time": "2021-10-05T22:01:19.121223Z",
     "start_time": "2021-10-05T22:01:18.996297Z"
    }
   },
   "outputs": [
    {
     "name": "stdout",
     "output_type": "stream",
     "text": [
      "+-----------+----------------------+----------------------+-------------------------+\n",
      "|  Category | Name                 |         Code         |          Unity          |\n",
      "+-----------+----------------------+----------------------+-------------------------+\n",
      "|    User   | Age                  |         age          |        int (days)       |\n",
      "|    User   | Gender               |        gender        | int - 1 (women) 2 (men) |\n",
      "|    User   | Region code          |     region_code      |           int           |\n",
      "|    User   | Policy sales channel | policy_sales_channel |           int           |\n",
      "|           |                      |                      |                         |\n",
      "|  Vehicle  | Vehicle age          |     vehicle_age      |          float          |\n",
      "|  Vehicle  | Drive license        |    drive_license     |   int - 0 (no) 1 (yes)  |\n",
      "|  Vehicle  | Vehicle damage       |    vehicle_damage    |   int - 0 (no) 1 (yes)  |\n",
      "|           |                      |                      |                         |\n",
      "| Insurance | Previously insured   |  previously_insured  |   int - 0 (no) 1 (yes)  |\n",
      "| Insurance | Annual premium       |    annual_premium    |           int           |\n",
      "| Insurance | Vintage              |       vintage        |           int           |\n",
      "+-----------+----------------------+----------------------+-------------------------+\n"
     ]
    }
   ],
   "source": [
    "# Specify the Column Names while initializing the Table \n",
    "myTable = PrettyTable(['Category','Name', 'Code', 'Unity']) \n",
    "\n",
    "myTable.align[\"Name\"] = \"l\"\n",
    "\n",
    "# Add rows \n",
    "myTable.add_row(['User', 'Age', 'age', 'int (days)']) \n",
    "myTable.add_row(['User', 'Gender', 'gender', 'int - 1 (women) 2 (men)']) \n",
    "myTable.add_row(['User', 'Region code', 'region_code', 'int'])\n",
    "myTable.add_row(['User', 'Policy sales channel', 'policy_sales_channel', 'int'])\n",
    "myTable.add_row(['', '', '', ''])\n",
    "myTable.add_row(['Vehicle','Vehicle age','vehicle_age', 'float'])\n",
    "myTable.add_row(['Vehicle','Drive license','driving_license', 'int - 0 (no) 1 (yes)'])\n",
    "myTable.add_row(['Vehicle','Vehicle damage','vehicle_damage', 'int - 0 (no) 1 (yes)'])\n",
    "myTable.add_row(['', '', '', ''])\n",
    "myTable.add_row(['Insurance','Previously insured','previously_insured', 'int - 0 (no) 1 (yes)'])\n",
    "myTable.add_row(['Insurance','Annual premium','annual_premium', 'int'])\n",
    "myTable.add_row(['Insurance','Vintage','vintage', 'int'])\n",
    "\n",
    "print(myTable)"
   ]
  },
  {
   "cell_type": "markdown",
   "metadata": {},
   "source": [
    "## 2.2 Hypothesis Creation"
   ]
  },
  {
   "cell_type": "markdown",
   "metadata": {},
   "source": [
    "### 2.2.1 User Hypothesis"
   ]
  },
  {
   "cell_type": "markdown",
   "metadata": {},
   "source": [
    "**1.** People between 30 years old are more susceptible to have an insurance\n",
    "\n",
    "**2.** Women hire more insurances"
   ]
  },
  {
   "cell_type": "markdown",
   "metadata": {},
   "source": [
    "### 2.2.2 Vehicle Hypothesis"
   ]
  },
  {
   "cell_type": "markdown",
   "metadata": {},
   "source": [
    "**3.** Owners with new cars (< 1 yr) hire more insurances\n",
    "\n",
    "**4.** People with drive license hire more insurances\n",
    "\n",
    "**5.** Owners with vehicle damaged dont hire insurances"
   ]
  },
  {
   "cell_type": "markdown",
   "metadata": {},
   "source": [
    "### 2.2.3 Insurance Hypothesis"
   ]
  },
  {
   "cell_type": "markdown",
   "metadata": {},
   "source": [
    "**6.** People previously insured hire another insurance\n",
    "\n",
    "**7.** Higher than 50K annual premium there are more insurances\n",
    "\n",
    "**8.** More days with company more insurances get"
   ]
  },
  {
   "cell_type": "markdown",
   "metadata": {
    "heading_collapsed": true
   },
   "source": [
    "# 3.0 Data Selecting"
   ]
  },
  {
   "cell_type": "code",
   "execution_count": 35,
   "metadata": {
    "ExecuteTime": {
     "end_time": "2021-10-05T22:01:19.278311Z",
     "start_time": "2021-10-05T22:01:19.125218Z"
    },
    "hidden": true
   },
   "outputs": [],
   "source": [
    "df3 = df2.copy()"
   ]
  },
  {
   "cell_type": "code",
   "execution_count": 36,
   "metadata": {
    "ExecuteTime": {
     "end_time": "2021-10-05T22:01:21.376188Z",
     "start_time": "2021-10-05T22:01:19.281309Z"
    },
    "hidden": true
   },
   "outputs": [
    {
     "data": {
      "image/png": "[encoded data removed]",
      "text/plain": [
       "<Figure size 432x288 with 2 Axes>"
      ]
     },
     "metadata": {
      "needs_background": "light"
     },
     "output_type": "display_data"
    }
   ],
   "source": [
    "corr = df3.corr()\n",
    "ax = sns.heatmap(\n",
    "    corr, \n",
    "    vmin=-1, vmax=1, center=0,\n",
    "    cmap=sns.diverging_palette(20, 220, n=200),\n",
    "    square=True\n",
    ")\n",
    "ax.set_xticklabels(\n",
    "    ax.get_xticklabels(),\n",
    "    rotation=45,\n",
    "    horizontalalignment='right'\n",
    ");"
   ]
  },
  {
   "cell_type": "code",
   "execution_count": 37,
   "metadata": {
    "ExecuteTime": {
     "end_time": "2021-10-05T22:01:22.533831Z",
     "start_time": "2021-10-05T22:01:21.378187Z"
    },
    "hidden": true
   },
   "outputs": [
    {
     "name": "stdout",
     "output_type": "stream",
     "text": [
      "[[ 0.24997688 -0.20530554]\n",
      " [-0.20530554  0.24825426]]\n"
     ]
    }
   ],
   "source": [
    "covariance = cov(df3['vehicle_damage'], df3['previously_insured'])\n",
    "print(covariance)"
   ]
  },
  {
   "cell_type": "code",
   "execution_count": 38,
   "metadata": {
    "ExecuteTime": {
     "end_time": "2021-10-05T22:01:22.564812Z",
     "start_time": "2021-10-05T22:01:22.535829Z"
    },
    "hidden": true
   },
   "outputs": [
    {
     "name": "stdout",
     "output_type": "stream",
     "text": [
      "[[2.40610076e+02 3.37020367e+00]\n",
      " [3.37020367e+00 8.04968687e-02]]\n"
     ]
    }
   ],
   "source": [
    "covariance = cov(df3['age'], df3['vehicle_age'])\n",
    "print(covariance)"
   ]
  },
  {
   "cell_type": "code",
   "execution_count": 39,
   "metadata": {
    "ExecuteTime": {
     "end_time": "2021-10-05T22:01:23.064653Z",
     "start_time": "2021-10-05T22:01:22.568807Z"
    },
    "hidden": true
   },
   "outputs": [
    {
     "name": "stdout",
     "output_type": "stream",
     "text": [
      "Pearsons correlation: -0.824\n"
     ]
    }
   ],
   "source": [
    "corr, _ = pearsonr(df3['vehicle_damage'], df3['previously_insured'])\n",
    "print('Pearsons correlation: %.3f' % corr)"
   ]
  },
  {
   "cell_type": "code",
   "execution_count": 40,
   "metadata": {
    "ExecuteTime": {
     "end_time": "2021-10-05T22:01:23.096633Z",
     "start_time": "2021-10-05T22:01:23.068649Z"
    },
    "hidden": true
   },
   "outputs": [
    {
     "name": "stdout",
     "output_type": "stream",
     "text": [
      "Pearsons correlation: 0.766\n"
     ]
    }
   ],
   "source": [
    "corr, _ = pearsonr(df3['age'], df3['vehicle_age'])\n",
    "print('Pearsons correlation: %.3f' % corr)"
   ]
  },
  {
   "cell_type": "markdown",
   "metadata": {
    "heading_collapsed": true,
    "hidden": true
   },
   "source": [
    "## 3.1. Identifying Outliers"
   ]
  },
  {
   "cell_type": "code",
   "execution_count": 41,
   "metadata": {
    "ExecuteTime": {
     "end_time": "2021-10-05T22:01:29.430909Z",
     "start_time": "2021-10-05T22:01:23.100631Z"
    },
    "hidden": true
   },
   "outputs": [
    {
     "data": {
      "image/png": "[encoded data removed]",
      "text/plain": [
       "<Figure size 1728x864 with 12 Axes>"
      ]
     },
     "metadata": {
      "needs_background": "light"
     },
     "output_type": "display_data"
    }
   ],
   "source": [
    "df32 = df3.drop('id', axis=1)\n",
    "df32.hist(figsize=(24,12), bins=50);"
   ]
  },
  {
   "cell_type": "code",
   "execution_count": 42,
   "metadata": {
    "ExecuteTime": {
     "end_time": "2021-10-05T22:01:34.682092Z",
     "start_time": "2021-10-05T22:01:29.432909Z"
    },
    "hidden": true
   },
   "outputs": [
    {
     "name": "stderr",
     "output_type": "stream",
     "text": [
      "C:\\Users\\Henrique\\anaconda3\\lib\\site-packages\\seaborn\\distributions.py:2551: FutureWarning: `distplot` is a deprecated function and will be removed in a future version. Please adapt your code to use either `displot` (a figure-level function with similar flexibility) or `histplot` (an axes-level function for histograms).\n",
      "  warnings.warn(msg, FutureWarning)\n"
     ]
    },
    {
     "data": {
      "image/png": "[encoded data removed]",
      "text/plain": [
       "<Figure size 1152x360 with 1 Axes>"
      ]
     },
     "metadata": {
      "needs_background": "light"
     },
     "output_type": "display_data"
    }
   ],
   "source": [
    "# histogram\n",
    "plt.figure(figsize=(16,5))\n",
    "plt.subplot(1,1,1)\n",
    "sns.distplot(df3['annual_premium'])\n",
    "#plt.subplot(1,2,2)\n",
    "#sns.distplot(df['placement_exam_marks'])\n",
    "plt.show()"
   ]
  },
  {
   "cell_type": "code",
   "execution_count": 98,
   "metadata": {
    "ExecuteTime": {
     "end_time": "2021-10-05T23:08:10.463941Z",
     "start_time": "2021-10-05T23:08:10.443953Z"
    },
    "hidden": true
   },
   "outputs": [
    {
     "data": {
      "text/plain": [
       "41667"
      ]
     },
     "execution_count": 98,
     "metadata": {},
     "output_type": "execute_result"
    }
   ],
   "source": [
    "df3['annual_premium'].unique().size"
   ]
  },
  {
   "cell_type": "markdown",
   "metadata": {
    "heading_collapsed": true,
    "hidden": true
   },
   "source": [
    "### 3.1.1 IQR - Annual Premium"
   ]
  },
  {
   "cell_type": "code",
   "execution_count": 43,
   "metadata": {
    "ExecuteTime": {
     "end_time": "2021-10-05T22:01:34.714075Z",
     "start_time": "2021-10-05T22:01:34.684091Z"
    },
    "hidden": true
   },
   "outputs": [
    {
     "name": "stdout",
     "output_type": "stream",
     "text": [
      "Percentiles: 25th =  24405.0 75th =  39400.0 IQR=  14995.0\n"
     ]
    }
   ],
   "source": [
    "# calculate interquartile range\n",
    "q25, q75 = percentile(df3['annual_premium'], 25), percentile(df3['annual_premium'], 75)\n",
    "iqr = q75 - q25\n",
    "print('Percentiles: 25th = ', q25 , '75th = ', q75, 'IQR= ', iqr)"
   ]
  },
  {
   "cell_type": "code",
   "execution_count": 44,
   "metadata": {
    "ExecuteTime": {
     "end_time": "2021-10-05T22:01:34.793035Z",
     "start_time": "2021-10-05T22:01:34.717071Z"
    },
    "hidden": true
   },
   "outputs": [
    {
     "name": "stdout",
     "output_type": "stream",
     "text": [
      "1912.5 61892.5\n"
     ]
    }
   ],
   "source": [
    "# calculate the outlier cutoff\n",
    "cut_off = iqr * 1.5\n",
    "lower, upper = q25 - cut_off, q75 + cut_off\n",
    "print(lower, upper)"
   ]
  },
  {
   "cell_type": "code",
   "execution_count": 45,
   "metadata": {
    "ExecuteTime": {
     "end_time": "2021-10-05T22:01:44.359234Z",
     "start_time": "2021-10-05T22:01:34.796028Z"
    },
    "hidden": true
   },
   "outputs": [],
   "source": [
    "#identify outliers\n",
    "df3['outliers'] = df3.apply(lambda x: 1 if (x['annual_premium'] < lower or x['annual_premium'] > upper) else 0, axis=1)\n",
    "\n",
    "#remove outliers\n",
    "df3 = df3[(df3['outliers'] == 0)]"
   ]
  },
  {
   "cell_type": "code",
   "execution_count": 46,
   "metadata": {
    "ExecuteTime": {
     "end_time": "2021-10-05T22:01:46.860935Z",
     "start_time": "2021-10-05T22:01:44.361233Z"
    },
    "hidden": true
   },
   "outputs": [
    {
     "data": {
      "text/html": [
       "<div>\n",
       "<style scoped>\n",
       "    .dataframe tbody tr th:only-of-type {\n",
       "        vertical-align: middle;\n",
       "    }\n",
       "\n",
       "    .dataframe tbody tr th {\n",
       "        vertical-align: top;\n",
       "    }\n",
       "\n",
       "    .dataframe thead th {\n",
       "        text-align: right;\n",
       "    }\n",
       "</style>\n",
       "<table border=\"1\" class=\"dataframe\">\n",
       "  <thead>\n",
       "    <tr style=\"text-align: right;\">\n",
       "      <th></th>\n",
       "      <th>attributes</th>\n",
       "      <th>min</th>\n",
       "      <th>max</th>\n",
       "      <th>range</th>\n",
       "      <th>mean</th>\n",
       "      <th>median</th>\n",
       "      <th>mode</th>\n",
       "      <th>std</th>\n",
       "      <th>skew</th>\n",
       "      <th>kurtosis</th>\n",
       "    </tr>\n",
       "  </thead>\n",
       "  <tbody>\n",
       "    <tr>\n",
       "      <th>0</th>\n",
       "      <td>id</td>\n",
       "      <td>1.0</td>\n",
       "      <td>381109.0</td>\n",
       "      <td>381108.0</td>\n",
       "      <td>190534.855484</td>\n",
       "      <td>190529.0</td>\n",
       "      <td>7.0</td>\n",
       "      <td>110036.654209</td>\n",
       "      <td>0.000468</td>\n",
       "      <td>-1.200468</td>\n",
       "    </tr>\n",
       "    <tr>\n",
       "      <th>1</th>\n",
       "      <td>previously_insured</td>\n",
       "      <td>0.0</td>\n",
       "      <td>1.0</td>\n",
       "      <td>1.0</td>\n",
       "      <td>0.459666</td>\n",
       "      <td>0.0</td>\n",
       "      <td>0.0</td>\n",
       "      <td>0.498370</td>\n",
       "      <td>0.161865</td>\n",
       "      <td>-1.973810</td>\n",
       "    </tr>\n",
       "    <tr>\n",
       "      <th>2</th>\n",
       "      <td>annual_premium</td>\n",
       "      <td>2630.0</td>\n",
       "      <td>61892.0</td>\n",
       "      <td>59262.0</td>\n",
       "      <td>29264.643973</td>\n",
       "      <td>31319.0</td>\n",
       "      <td>2630.0</td>\n",
       "      <td>14743.036776</td>\n",
       "      <td>-0.519684</td>\n",
       "      <td>-0.333414</td>\n",
       "    </tr>\n",
       "    <tr>\n",
       "      <th>3</th>\n",
       "      <td>vintage</td>\n",
       "      <td>10.0</td>\n",
       "      <td>299.0</td>\n",
       "      <td>289.0</td>\n",
       "      <td>154.345442</td>\n",
       "      <td>154.0</td>\n",
       "      <td>256.0</td>\n",
       "      <td>83.670366</td>\n",
       "      <td>0.002652</td>\n",
       "      <td>-1.200591</td>\n",
       "    </tr>\n",
       "    <tr>\n",
       "      <th>4</th>\n",
       "      <td>response</td>\n",
       "      <td>0.0</td>\n",
       "      <td>1.0</td>\n",
       "      <td>1.0</td>\n",
       "      <td>0.121781</td>\n",
       "      <td>0.0</td>\n",
       "      <td>0.0</td>\n",
       "      <td>0.327033</td>\n",
       "      <td>2.313046</td>\n",
       "      <td>3.350201</td>\n",
       "    </tr>\n",
       "    <tr>\n",
       "      <th>5</th>\n",
       "      <td>driving_license</td>\n",
       "      <td>0.0</td>\n",
       "      <td>1.0</td>\n",
       "      <td>1.0</td>\n",
       "      <td>0.997942</td>\n",
       "      <td>1.0</td>\n",
       "      <td>1.0</td>\n",
       "      <td>0.045316</td>\n",
       "      <td>-21.976532</td>\n",
       "      <td>480.970556</td>\n",
       "    </tr>\n",
       "    <tr>\n",
       "      <th>6</th>\n",
       "      <td>vehicle_age</td>\n",
       "      <td>1.0</td>\n",
       "      <td>2.0</td>\n",
       "      <td>1.0</td>\n",
       "      <td>1.302425</td>\n",
       "      <td>1.5</td>\n",
       "      <td>1.5</td>\n",
       "      <td>0.282877</td>\n",
       "      <td>0.253942</td>\n",
       "      <td>-0.807139</td>\n",
       "    </tr>\n",
       "    <tr>\n",
       "      <th>7</th>\n",
       "      <td>vehicle_damage</td>\n",
       "      <td>0.0</td>\n",
       "      <td>1.0</td>\n",
       "      <td>1.0</td>\n",
       "      <td>0.503146</td>\n",
       "      <td>1.0</td>\n",
       "      <td>1.0</td>\n",
       "      <td>0.499990</td>\n",
       "      <td>-0.012584</td>\n",
       "      <td>-1.999852</td>\n",
       "    </tr>\n",
       "    <tr>\n",
       "      <th>8</th>\n",
       "      <td>gender</td>\n",
       "      <td>1.0</td>\n",
       "      <td>2.0</td>\n",
       "      <td>1.0</td>\n",
       "      <td>1.540251</td>\n",
       "      <td>2.0</td>\n",
       "      <td>2.0</td>\n",
       "      <td>0.498377</td>\n",
       "      <td>-0.161528</td>\n",
       "      <td>-1.973920</td>\n",
       "    </tr>\n",
       "    <tr>\n",
       "      <th>9</th>\n",
       "      <td>age</td>\n",
       "      <td>20.0</td>\n",
       "      <td>85.0</td>\n",
       "      <td>65.0</td>\n",
       "      <td>38.670344</td>\n",
       "      <td>36.0</td>\n",
       "      <td>24.0</td>\n",
       "      <td>15.440145</td>\n",
       "      <td>0.683788</td>\n",
       "      <td>-0.542516</td>\n",
       "    </tr>\n",
       "    <tr>\n",
       "      <th>10</th>\n",
       "      <td>region_code</td>\n",
       "      <td>0.0</td>\n",
       "      <td>52.0</td>\n",
       "      <td>52.0</td>\n",
       "      <td>26.437281</td>\n",
       "      <td>28.0</td>\n",
       "      <td>28.0</td>\n",
       "      <td>13.310373</td>\n",
       "      <td>-0.115514</td>\n",
       "      <td>-0.888121</td>\n",
       "    </tr>\n",
       "    <tr>\n",
       "      <th>11</th>\n",
       "      <td>policy_sales_channel</td>\n",
       "      <td>1.0</td>\n",
       "      <td>163.0</td>\n",
       "      <td>162.0</td>\n",
       "      <td>112.542923</td>\n",
       "      <td>151.0</td>\n",
       "      <td>152.0</td>\n",
       "      <td>54.039543</td>\n",
       "      <td>-0.919888</td>\n",
       "      <td>-0.932364</td>\n",
       "    </tr>\n",
       "    <tr>\n",
       "      <th>12</th>\n",
       "      <td>outliers</td>\n",
       "      <td>0.0</td>\n",
       "      <td>0.0</td>\n",
       "      <td>0.0</td>\n",
       "      <td>0.000000</td>\n",
       "      <td>0.0</td>\n",
       "      <td>0.0</td>\n",
       "      <td>0.000000</td>\n",
       "      <td>0.000000</td>\n",
       "      <td>0.000000</td>\n",
       "    </tr>\n",
       "  </tbody>\n",
       "</table>\n",
       "</div>"
      ],
      "text/plain": [
       "              attributes     min       max     range           mean    median  \\\n",
       "0                     id     1.0  381109.0  381108.0  190534.855484  190529.0   \n",
       "1     previously_insured     0.0       1.0       1.0       0.459666       0.0   \n",
       "2         annual_premium  2630.0   61892.0   59262.0   29264.643973   31319.0   \n",
       "3                vintage    10.0     299.0     289.0     154.345442     154.0   \n",
       "4               response     0.0       1.0       1.0       0.121781       0.0   \n",
       "5        driving_license     0.0       1.0       1.0       0.997942       1.0   \n",
       "6            vehicle_age     1.0       2.0       1.0       1.302425       1.5   \n",
       "7         vehicle_damage     0.0       1.0       1.0       0.503146       1.0   \n",
       "8                 gender     1.0       2.0       1.0       1.540251       2.0   \n",
       "9                    age    20.0      85.0      65.0      38.670344      36.0   \n",
       "10           region_code     0.0      52.0      52.0      26.437281      28.0   \n",
       "11  policy_sales_channel     1.0     163.0     162.0     112.542923     151.0   \n",
       "12              outliers     0.0       0.0       0.0       0.000000       0.0   \n",
       "\n",
       "      mode            std       skew    kurtosis  \n",
       "0      7.0  110036.654209   0.000468   -1.200468  \n",
       "1      0.0       0.498370   0.161865   -1.973810  \n",
       "2   2630.0   14743.036776  -0.519684   -0.333414  \n",
       "3    256.0      83.670366   0.002652   -1.200591  \n",
       "4      0.0       0.327033   2.313046    3.350201  \n",
       "5      1.0       0.045316 -21.976532  480.970556  \n",
       "6      1.5       0.282877   0.253942   -0.807139  \n",
       "7      1.0       0.499990  -0.012584   -1.999852  \n",
       "8      2.0       0.498377  -0.161528   -1.973920  \n",
       "9     24.0      15.440145   0.683788   -0.542516  \n",
       "10    28.0      13.310373  -0.115514   -0.888121  \n",
       "11   152.0      54.039543  -0.919888   -0.932364  \n",
       "12     0.0       0.000000   0.000000    0.000000  "
      ]
     },
     "execution_count": 46,
     "metadata": {},
     "output_type": "execute_result"
    }
   ],
   "source": [
    "#central tendency - mean, median, mode\n",
    "ct1 = pd.DataFrame(df3.apply(np.mean)).T\n",
    "ct2 = pd.DataFrame(df3.apply(np.median)).T\n",
    "ct3 = pd.DataFrame(df3.apply(st.mode)).T\n",
    "\n",
    "#Dispersion - std, min, max, range, skew, kurtosis\n",
    "d1 = pd.DataFrame(df3.apply(min)).T\n",
    "d2 = pd.DataFrame(df3.apply(max)).T\n",
    "d3 = pd.DataFrame(df3.apply(lambda x: x.max() - x.min())).T\n",
    "d4 = pd.DataFrame(df3.apply(np.std)).T\n",
    "d5 = pd.DataFrame(df3.apply(lambda x: x.skew())).T\n",
    "d6 = pd.DataFrame(df3.apply(lambda x: x.kurtosis())).T\n",
    "\n",
    "#concatenate\n",
    "m = pd.concat([d1,d2,d3,ct1,ct2,ct3,d4,d5,d6]).T.reset_index()\n",
    "m.columns = ['attributes','min','max','range','mean','median','mode','std','skew','kurtosis']\n",
    "m"
   ]
  },
  {
   "cell_type": "markdown",
   "metadata": {},
   "source": [
    "# 4.0 Exploratory Data Analysis"
   ]
  },
  {
   "cell_type": "code",
   "execution_count": 47,
   "metadata": {
    "ExecuteTime": {
     "end_time": "2021-10-05T22:01:46.890923Z",
     "start_time": "2021-10-05T22:01:46.862935Z"
    }
   },
   "outputs": [],
   "source": [
    "df4 = df3.copy()"
   ]
  },
  {
   "cell_type": "markdown",
   "metadata": {},
   "source": [
    "## 4.1 Bivariate Analysis"
   ]
  },
  {
   "cell_type": "markdown",
   "metadata": {},
   "source": [
    "People between 30 years old are more susceptible to have an insurance"
   ]
  },
  {
   "cell_type": "code",
   "execution_count": 48,
   "metadata": {
    "ExecuteTime": {
     "end_time": "2021-10-05T22:01:50.186983Z",
     "start_time": "2021-10-05T22:01:46.892915Z"
    }
   },
   "outputs": [
    {
     "data": {
      "image/png": "[encoded data removed]",
      "text/plain": [
       "<Figure size 1080x504 with 1 Axes>"
      ]
     },
     "metadata": {
      "needs_background": "light"
     },
     "output_type": "display_data"
    }
   ],
   "source": [
    "#insurance per age\n",
    "aux1 = df4[['age', 'response']].groupby('age').sum().reset_index().rename(columns={0:'total'})\n",
    "\n",
    "#histogram\n",
    "fig_dims = (15, 7)\n",
    "fig, ax = plt.subplots(figsize=fig_dims)\n",
    "sns.barplot(x='age', y='response', ax=ax, data=aux1)\n",
    "plt.title('Insurance per age')\n",
    "plt.show()"
   ]
  },
  {
   "cell_type": "code",
   "execution_count": 49,
   "metadata": {
    "ExecuteTime": {
     "end_time": "2021-10-05T22:01:50.421701Z",
     "start_time": "2021-10-05T22:01:50.188976Z"
    }
   },
   "outputs": [
    {
     "name": "stderr",
     "output_type": "stream",
     "text": [
      "<ipython-input-3-8a614af07ed1>:7: SettingWithCopyWarning: \n",
      "A value is trying to be set on a copy of a slice from a DataFrame\n",
      "\n",
      "See the caveats in the documentation: https://pandas.pydata.org/pandas-docs/stable/user_guide/indexing.html#returning-a-view-versus-a-copy\n",
      "  x['%_insur_1'][i] = p\n"
     ]
    }
   ],
   "source": [
    "#% insurance per age - %\n",
    "aux1 = df4[(df4['age'] <= 80)]\n",
    "aux1 = aux1[['age', 'response']].groupby(['age','response']).size().reset_index().rename(columns={0:'total'})\n",
    "aux1['%_insur_1'] = \"\"\n",
    "aux1 = perc(aux1)"
   ]
  },
  {
   "cell_type": "code",
   "execution_count": 50,
   "metadata": {
    "ExecuteTime": {
     "end_time": "2021-10-05T22:01:50.453210Z",
     "start_time": "2021-10-05T22:01:50.423698Z"
    }
   },
   "outputs": [
    {
     "data": {
      "text/html": [
       "<div>\n",
       "<style scoped>\n",
       "    .dataframe tbody tr th:only-of-type {\n",
       "        vertical-align: middle;\n",
       "    }\n",
       "\n",
       "    .dataframe tbody tr th {\n",
       "        vertical-align: top;\n",
       "    }\n",
       "\n",
       "    .dataframe thead th {\n",
       "        text-align: right;\n",
       "    }\n",
       "</style>\n",
       "<table border=\"1\" class=\"dataframe\">\n",
       "  <thead>\n",
       "    <tr style=\"text-align: right;\">\n",
       "      <th></th>\n",
       "      <th>index</th>\n",
       "      <th>between 30</th>\n",
       "      <th>outside 30</th>\n",
       "    </tr>\n",
       "  </thead>\n",
       "  <tbody>\n",
       "    <tr>\n",
       "      <th>0</th>\n",
       "      <td>mean age</td>\n",
       "      <td>34.500000</td>\n",
       "      <td>53.039216</td>\n",
       "    </tr>\n",
       "    <tr>\n",
       "      <th>1</th>\n",
       "      <td>response</td>\n",
       "      <td>1.000000</td>\n",
       "      <td>1.000000</td>\n",
       "    </tr>\n",
       "    <tr>\n",
       "      <th>2</th>\n",
       "      <td>mean quant</td>\n",
       "      <td>1064.100000</td>\n",
       "      <td>676.627451</td>\n",
       "    </tr>\n",
       "    <tr>\n",
       "      <th>3</th>\n",
       "      <td>average % insur</td>\n",
       "      <td>20.174872</td>\n",
       "      <td>12.148570</td>\n",
       "    </tr>\n",
       "  </tbody>\n",
       "</table>\n",
       "</div>"
      ],
      "text/plain": [
       "             index   between 30  outside 30\n",
       "0         mean age    34.500000   53.039216\n",
       "1         response     1.000000    1.000000\n",
       "2       mean quant  1064.100000  676.627451\n",
       "3  average % insur    20.174872   12.148570"
      ]
     },
     "execution_count": 50,
     "metadata": {},
     "output_type": "execute_result"
    }
   ],
   "source": [
    "#divide bewtween two groups between and outside 30\n",
    "aux1 = aux1[(aux1['response'] == 1)]\n",
    "aux_30 = aux1.loc[(aux1['age'] >= 30) & (aux1['age'] <= 39)]\n",
    "aux_30 = pd.DataFrame(aux_30.apply(np.mean)).T\n",
    "\n",
    "aux_29 = aux1.loc[(aux1['age'] < 30) | (aux1['age'] > 39)]\n",
    "aux_29 = pd.DataFrame(aux_29.apply(np.mean)).T\n",
    "\n",
    "#result of average\n",
    "m = pd.concat([aux_30, aux_29]).T.reset_index()\n",
    "m.columns = ['index','between 30','outside 30']\n",
    "#m.drop(['response'], axis=1)\n",
    "m['index'] = {'mean age': 0, 'response': 1, 'mean quant': 2, 'average % insur': 3}\n",
    "m"
   ]
  },
  {
   "cell_type": "code",
   "execution_count": 51,
   "metadata": {
    "ExecuteTime": {
     "end_time": "2021-10-05T22:01:52.751403Z",
     "start_time": "2021-10-05T22:01:50.456210Z"
    }
   },
   "outputs": [
    {
     "data": {
      "image/png": "[encoded data removed]",
      "text/plain": [
       "<Figure size 1296x720 with 1 Axes>"
      ]
     },
     "metadata": {
      "needs_background": "light"
     },
     "output_type": "display_data"
    }
   ],
   "source": [
    "#histogram insurance per age %\n",
    "fig_dims = (18, 10)\n",
    "fig, ax = plt.subplots(figsize=fig_dims)\n",
    "\n",
    "graph = sns.barplot(x='age', y='%_insur_1', ax=ax, data=aux1)\n",
    "graph.axvline(9.5, ymin=0.0, ymax=1.0, linestyle =\"--\", color='blue')\n",
    "graph.axvline(19.5, ymin=0.0, ymax=1.0, linestyle =\"--\", color='blue')\n",
    "graph.axhline(20, xmin=0.0, xmax=1.0, linestyle =\"--\", color='red')\n",
    "plt.title('% Insurance per age')\n",
    "plt.show()"
   ]
  },
  {
   "cell_type": "code",
   "execution_count": 52,
   "metadata": {
    "ExecuteTime": {
     "end_time": "2021-10-05T22:01:55.397800Z",
     "start_time": "2021-10-05T22:01:52.753401Z"
    }
   },
   "outputs": [
    {
     "data": {
      "image/png": "[encoded data removed]",
      "text/plain": [
       "<Figure size 1080x720 with 1 Axes>"
      ]
     },
     "metadata": {
      "needs_background": "light"
     },
     "output_type": "display_data"
    }
   ],
   "source": [
    "#cvd per height\n",
    "aux1 = df4[(df4['response'] >= 1)]\n",
    "aux1 = aux1[['age', 'response']].groupby('age').size().reset_index().rename(columns={0:'total_1'})\n",
    "\n",
    "aux2 = df4[(df4['response'] <= 0)]\n",
    "aux2 = aux2[['age', 'response']].groupby('age').size().reset_index().rename(columns={0:'total_0'})\n",
    "\n",
    "#histogram\n",
    "fig = plt.figure(figsize=(15,10))\n",
    "\n",
    "ax = fig.add_subplot(111)\n",
    "\n",
    "width = 0.2\n",
    "\n",
    "aux1.plot(x='age', y='total_1', kind='bar', color='red', ax=ax, width=width, position=0)\n",
    "aux2.plot(x='age', y='total_0', kind='bar', color='blue', ax=ax, width=width, position=1)\n",
    "plt.show()"
   ]
  },
  {
   "cell_type": "markdown",
   "metadata": {},
   "source": [
    "Women hire more insurances"
   ]
  },
  {
   "cell_type": "code",
   "execution_count": 57,
   "metadata": {
    "ExecuteTime": {
     "end_time": "2021-10-05T22:31:46.986423Z",
     "start_time": "2021-10-05T22:31:46.936452Z"
    }
   },
   "outputs": [],
   "source": [
    "#transform to categorical\n",
    "df42 = df4.copy()\n",
    "df42['gender'] = df42['gender'].apply({1:'women', 2:'men'}.get)"
   ]
  },
  {
   "cell_type": "code",
   "execution_count": 60,
   "metadata": {
    "ExecuteTime": {
     "end_time": "2021-10-05T22:32:16.323064Z",
     "start_time": "2021-10-05T22:32:16.081123Z"
    }
   },
   "outputs": [
    {
     "data": {
      "image/png": "[encoded data removed]",
      "text/plain": [
       "<Figure size 1080x504 with 1 Axes>"
      ]
     },
     "metadata": {
      "needs_background": "light"
     },
     "output_type": "display_data"
    }
   ],
   "source": [
    "#insurance per gender\n",
    "aux1 = df42[['gender', 'response']].groupby('gender').sum().reset_index().rename(columns={0:'total'})\n",
    "\n",
    "#histogram\n",
    "fig_dims = (15, 7)\n",
    "fig, ax = plt.subplots(figsize=fig_dims)\n",
    "sns.barplot(x='gender', y='response', ax=ax, data=aux1)\n",
    "plt.title('Insurance per gender')\n",
    "plt.show()"
   ]
  },
  {
   "cell_type": "code",
   "execution_count": 62,
   "metadata": {
    "ExecuteTime": {
     "end_time": "2021-10-05T22:33:33.783129Z",
     "start_time": "2021-10-05T22:33:33.685189Z"
    }
   },
   "outputs": [
    {
     "name": "stderr",
     "output_type": "stream",
     "text": [
      "<ipython-input-3-8a614af07ed1>:7: SettingWithCopyWarning: \n",
      "A value is trying to be set on a copy of a slice from a DataFrame\n",
      "\n",
      "See the caveats in the documentation: https://pandas.pydata.org/pandas-docs/stable/user_guide/indexing.html#returning-a-view-versus-a-copy\n",
      "  x['%_insur_1'][i] = p\n"
     ]
    },
    {
     "data": {
      "text/html": [
       "<div>\n",
       "<style scoped>\n",
       "    .dataframe tbody tr th:only-of-type {\n",
       "        vertical-align: middle;\n",
       "    }\n",
       "\n",
       "    .dataframe tbody tr th {\n",
       "        vertical-align: top;\n",
       "    }\n",
       "\n",
       "    .dataframe thead th {\n",
       "        text-align: right;\n",
       "    }\n",
       "</style>\n",
       "<table border=\"1\" class=\"dataframe\">\n",
       "  <thead>\n",
       "    <tr style=\"text-align: right;\">\n",
       "      <th></th>\n",
       "      <th>gender</th>\n",
       "      <th>response</th>\n",
       "      <th>total</th>\n",
       "      <th>%_insur_1</th>\n",
       "    </tr>\n",
       "  </thead>\n",
       "  <tbody>\n",
       "    <tr>\n",
       "      <th>1</th>\n",
       "      <td>men</td>\n",
       "      <td>1</td>\n",
       "      <td>27556</td>\n",
       "      <td>13.756059</td>\n",
       "    </tr>\n",
       "    <tr>\n",
       "      <th>3</th>\n",
       "      <td>women</td>\n",
       "      <td>1</td>\n",
       "      <td>17599</td>\n",
       "      <td>10.323811</td>\n",
       "    </tr>\n",
       "  </tbody>\n",
       "</table>\n",
       "</div>"
      ],
      "text/plain": [
       "  gender  response  total  %_insur_1\n",
       "1    men         1  27556  13.756059\n",
       "3  women         1  17599  10.323811"
      ]
     },
     "execution_count": 62,
     "metadata": {},
     "output_type": "execute_result"
    }
   ],
   "source": [
    "#calculate % insurance per gender\n",
    "aux1 = df42[['gender', 'response']].groupby(['gender','response']).size().reset_index().rename(columns={0:'total'})\n",
    "aux1['%_insur_1'] = \"\"\n",
    "aux1 = perc(aux1)\n",
    "\n",
    "#result of %\n",
    "aux1 = aux1[(aux1['response'] >= 1)]\n",
    "aux1"
   ]
  },
  {
   "cell_type": "code",
   "execution_count": 64,
   "metadata": {
    "ExecuteTime": {
     "end_time": "2021-10-05T22:34:30.197514Z",
     "start_time": "2021-10-05T22:34:30.001127Z"
    }
   },
   "outputs": [
    {
     "data": {
      "image/png": "[encoded data removed]",
      "text/plain": [
       "<Figure size 432x576 with 1 Axes>"
      ]
     },
     "metadata": {
      "needs_background": "light"
     },
     "output_type": "display_data"
    }
   ],
   "source": [
    "#histogram insurance per gender (average)\n",
    "fig_dims = (6, 8)\n",
    "fig, ax = plt.subplots(figsize=fig_dims)\n",
    "\n",
    "graph = sns.barplot(x='gender', y='%_insur_1', ax=ax, data=aux1)\n",
    "graph.axhline(10, xmin=0.0, xmax=1.0, linestyle =\"--\", color='red')\n",
    "plt.title('% Insurance per gender')\n",
    "plt.show()"
   ]
  },
  {
   "cell_type": "code",
   "execution_count": 61,
   "metadata": {
    "ExecuteTime": {
     "end_time": "2021-10-05T22:32:30.288431Z",
     "start_time": "2021-10-05T22:32:29.944644Z"
    }
   },
   "outputs": [
    {
     "data": {
      "image/png": "[encoded data removed]",
      "text/plain": [
       "<Figure size 720x720 with 1 Axes>"
      ]
     },
     "metadata": {
      "needs_background": "light"
     },
     "output_type": "display_data"
    }
   ],
   "source": [
    "#insurance per gender\n",
    "aux1 = df42[(df42['response'] >= 1)]\n",
    "aux1 = aux1[['gender', 'response']].groupby('gender').size().reset_index().rename(columns={0:'total_1'})\n",
    "\n",
    "aux2 = df42[(df42['response'] <= 0)]\n",
    "aux2 = aux2[['gender', 'response']].groupby('gender').size().reset_index().rename(columns={0:'total_0'})\n",
    "\n",
    "#histogram\n",
    "fig = plt.figure(figsize=(10,10))\n",
    "\n",
    "ax = fig.add_subplot(111)\n",
    "\n",
    "width = 0.2\n",
    "\n",
    "aux1.plot(x='gender', y='total_1', kind='bar', color='red', ax=ax, width=width, position=0)\n",
    "aux2.plot(x='gender', y='total_0', kind='bar', color='blue', ax=ax, width=width, position=1)\n",
    "plt.show()"
   ]
  },
  {
   "cell_type": "markdown",
   "metadata": {},
   "source": [
    "Owners with new cars (< 1 yr) hire more insurances"
   ]
  },
  {
   "cell_type": "code",
   "execution_count": 66,
   "metadata": {
    "ExecuteTime": {
     "end_time": "2021-10-05T22:39:51.331527Z",
     "start_time": "2021-10-05T22:39:51.234923Z"
    }
   },
   "outputs": [],
   "source": [
    "#transform to categorical\n",
    "df42 = df4.copy()\n",
    "df42['vehicle_age'] = df42['vehicle_age'].apply({1:'less 1yr', 1.5:'between 1 - 2 yr', 2:'more 2 yr'}.get)"
   ]
  },
  {
   "cell_type": "code",
   "execution_count": 67,
   "metadata": {
    "ExecuteTime": {
     "end_time": "2021-10-05T22:40:22.947102Z",
     "start_time": "2021-10-05T22:40:22.648964Z"
    }
   },
   "outputs": [
    {
     "data": {
      "image/png": "[encoded data removed]",
      "text/plain": [
       "<Figure size 1080x504 with 1 Axes>"
      ]
     },
     "metadata": {
      "needs_background": "light"
     },
     "output_type": "display_data"
    }
   ],
   "source": [
    "#insurance per vehicle_age\n",
    "aux1 = df42[['vehicle_age', 'response']].groupby('vehicle_age').sum().reset_index().rename(columns={0:'total'})\n",
    "\n",
    "#histogram\n",
    "fig_dims = (15, 7)\n",
    "fig, ax = plt.subplots(figsize=fig_dims)\n",
    "sns.barplot(x='vehicle_age', y='response', ax=ax, data=aux1)\n",
    "plt.title('Insurance per vehicle age')\n",
    "plt.show()"
   ]
  },
  {
   "cell_type": "code",
   "execution_count": 68,
   "metadata": {
    "ExecuteTime": {
     "end_time": "2021-10-05T22:41:15.887797Z",
     "start_time": "2021-10-05T22:41:15.793856Z"
    }
   },
   "outputs": [
    {
     "name": "stderr",
     "output_type": "stream",
     "text": [
      "<ipython-input-3-8a614af07ed1>:7: SettingWithCopyWarning: \n",
      "A value is trying to be set on a copy of a slice from a DataFrame\n",
      "\n",
      "See the caveats in the documentation: https://pandas.pydata.org/pandas-docs/stable/user_guide/indexing.html#returning-a-view-versus-a-copy\n",
      "  x['%_insur_1'][i] = p\n"
     ]
    },
    {
     "data": {
      "text/html": [
       "<div>\n",
       "<style scoped>\n",
       "    .dataframe tbody tr th:only-of-type {\n",
       "        vertical-align: middle;\n",
       "    }\n",
       "\n",
       "    .dataframe tbody tr th {\n",
       "        vertical-align: top;\n",
       "    }\n",
       "\n",
       "    .dataframe thead th {\n",
       "        text-align: right;\n",
       "    }\n",
       "</style>\n",
       "<table border=\"1\" class=\"dataframe\">\n",
       "  <thead>\n",
       "    <tr style=\"text-align: right;\">\n",
       "      <th></th>\n",
       "      <th>vehicle_age</th>\n",
       "      <th>response</th>\n",
       "      <th>total</th>\n",
       "      <th>%_insur_1</th>\n",
       "    </tr>\n",
       "  </thead>\n",
       "  <tbody>\n",
       "    <tr>\n",
       "      <th>1</th>\n",
       "      <td>between 1 - 2 yr</td>\n",
       "      <td>1</td>\n",
       "      <td>33745</td>\n",
       "      <td>17.375342</td>\n",
       "    </tr>\n",
       "    <tr>\n",
       "      <th>3</th>\n",
       "      <td>less 1yr</td>\n",
       "      <td>1</td>\n",
       "      <td>7060</td>\n",
       "      <td>4.370245</td>\n",
       "    </tr>\n",
       "    <tr>\n",
       "      <th>5</th>\n",
       "      <td>more 2 yr</td>\n",
       "      <td>1</td>\n",
       "      <td>4350</td>\n",
       "      <td>28.942116</td>\n",
       "    </tr>\n",
       "  </tbody>\n",
       "</table>\n",
       "</div>"
      ],
      "text/plain": [
       "        vehicle_age  response  total  %_insur_1\n",
       "1  between 1 - 2 yr         1  33745  17.375342\n",
       "3          less 1yr         1   7060   4.370245\n",
       "5         more 2 yr         1   4350  28.942116"
      ]
     },
     "execution_count": 68,
     "metadata": {},
     "output_type": "execute_result"
    }
   ],
   "source": [
    "#calculate % insurance per vehicle_age\n",
    "aux1 = df42[['vehicle_age', 'response']].groupby(['vehicle_age','response']).size().reset_index().rename(columns={0:'total'})\n",
    "aux1['%_insur_1'] = \"\"\n",
    "aux1 = perc(aux1)\n",
    "\n",
    "#result of %\n",
    "aux1 = aux1[(aux1['response'] >= 1)]\n",
    "aux1"
   ]
  },
  {
   "cell_type": "code",
   "execution_count": 70,
   "metadata": {
    "ExecuteTime": {
     "end_time": "2021-10-05T22:42:17.482449Z",
     "start_time": "2021-10-05T22:42:17.178639Z"
    }
   },
   "outputs": [
    {
     "data": {
      "image/png": "[encoded data removed]",
      "text/plain": [
       "<Figure size 432x576 with 1 Axes>"
      ]
     },
     "metadata": {
      "needs_background": "light"
     },
     "output_type": "display_data"
    }
   ],
   "source": [
    "#histogram insurance per vehicle_age (average)\n",
    "fig_dims = (6, 8)\n",
    "fig, ax = plt.subplots(figsize=fig_dims)\n",
    "\n",
    "graph = sns.barplot(x='vehicle_age', y='%_insur_1', ax=ax, data=aux1)\n",
    "graph.axhline(15, xmin=0.0, xmax=1.0, linestyle =\"--\", color='red')\n",
    "plt.title('% Insurance per vehicle age')\n",
    "plt.show()"
   ]
  },
  {
   "cell_type": "code",
   "execution_count": 65,
   "metadata": {
    "ExecuteTime": {
     "end_time": "2021-10-05T22:37:18.677494Z",
     "start_time": "2021-10-05T22:37:18.254722Z"
    }
   },
   "outputs": [
    {
     "data": {
      "image/png": "[encoded data removed]",
      "text/plain": [
       "<Figure size 1080x720 with 1 Axes>"
      ]
     },
     "metadata": {
      "needs_background": "light"
     },
     "output_type": "display_data"
    }
   ],
   "source": [
    "#cvd per height\n",
    "aux1 = df4[(df4['response'] >= 1)]\n",
    "aux1 = aux1[['vehicle_age', 'response']].groupby('vehicle_age').size().reset_index().rename(columns={0:'total_1'})\n",
    "\n",
    "aux2 = df4[(df4['response'] <= 0)]\n",
    "aux2 = aux2[['vehicle_age', 'response']].groupby('vehicle_age').size().reset_index().rename(columns={0:'total_0'})\n",
    "\n",
    "#histogram\n",
    "fig = plt.figure(figsize=(15,10))\n",
    "\n",
    "ax = fig.add_subplot(111)\n",
    "\n",
    "width = 0.2\n",
    "\n",
    "aux1.plot(x='vehicle_age', y='total_1', kind='bar', color='red', ax=ax, width=width, position=0)\n",
    "aux2.plot(x='vehicle_age', y='total_0', kind='bar', color='blue', ax=ax, width=width, position=1)\n",
    "plt.show()"
   ]
  },
  {
   "cell_type": "code",
   "execution_count": null,
   "metadata": {},
   "outputs": [],
   "source": [
    "driving_license"
   ]
  },
  {
   "cell_type": "code",
   "execution_count": 74,
   "metadata": {
    "ExecuteTime": {
     "end_time": "2021-10-05T22:49:01.358624Z",
     "start_time": "2021-10-05T22:49:01.302659Z"
    }
   },
   "outputs": [],
   "source": [
    "#transform to categorical\n",
    "df42 = df4.copy()\n",
    "df42['driving_license'] = df42['driving_license'].apply({0:'no', 1:'yes'}.get)"
   ]
  },
  {
   "cell_type": "code",
   "execution_count": 75,
   "metadata": {
    "ExecuteTime": {
     "end_time": "2021-10-05T22:49:02.078483Z",
     "start_time": "2021-10-05T22:49:01.858619Z"
    }
   },
   "outputs": [
    {
     "data": {
      "image/png": "[encoded data removed]",
      "text/plain": [
       "<Figure size 1080x504 with 1 Axes>"
      ]
     },
     "metadata": {
      "needs_background": "light"
     },
     "output_type": "display_data"
    }
   ],
   "source": [
    "#insurance per driving_license\n",
    "aux1 = df42[['driving_license', 'response']].groupby('driving_license').sum().reset_index().rename(columns={0:'total'})\n",
    "\n",
    "#histogram\n",
    "fig_dims = (15, 7)\n",
    "fig, ax = plt.subplots(figsize=fig_dims)\n",
    "sns.barplot(x='driving_license', y='response', ax=ax, data=aux1)\n",
    "plt.title('Insurance per driving license')\n",
    "plt.show()"
   ]
  },
  {
   "cell_type": "code",
   "execution_count": 76,
   "metadata": {
    "ExecuteTime": {
     "end_time": "2021-10-05T22:49:38.514055Z",
     "start_time": "2021-10-05T22:49:38.420114Z"
    }
   },
   "outputs": [
    {
     "name": "stderr",
     "output_type": "stream",
     "text": [
      "<ipython-input-3-8a614af07ed1>:7: SettingWithCopyWarning: \n",
      "A value is trying to be set on a copy of a slice from a DataFrame\n",
      "\n",
      "See the caveats in the documentation: https://pandas.pydata.org/pandas-docs/stable/user_guide/indexing.html#returning-a-view-versus-a-copy\n",
      "  x['%_insur_1'][i] = p\n"
     ]
    },
    {
     "data": {
      "text/html": [
       "<div>\n",
       "<style scoped>\n",
       "    .dataframe tbody tr th:only-of-type {\n",
       "        vertical-align: middle;\n",
       "    }\n",
       "\n",
       "    .dataframe tbody tr th {\n",
       "        vertical-align: top;\n",
       "    }\n",
       "\n",
       "    .dataframe thead th {\n",
       "        text-align: right;\n",
       "    }\n",
       "</style>\n",
       "<table border=\"1\" class=\"dataframe\">\n",
       "  <thead>\n",
       "    <tr style=\"text-align: right;\">\n",
       "      <th></th>\n",
       "      <th>driving_license</th>\n",
       "      <th>response</th>\n",
       "      <th>total</th>\n",
       "      <th>%_insur_1</th>\n",
       "    </tr>\n",
       "  </thead>\n",
       "  <tbody>\n",
       "    <tr>\n",
       "      <th>1</th>\n",
       "      <td>no</td>\n",
       "      <td>1</td>\n",
       "      <td>40</td>\n",
       "      <td>5.242464</td>\n",
       "    </tr>\n",
       "    <tr>\n",
       "      <th>3</th>\n",
       "      <td>yes</td>\n",
       "      <td>1</td>\n",
       "      <td>45115</td>\n",
       "      <td>12.192386</td>\n",
       "    </tr>\n",
       "  </tbody>\n",
       "</table>\n",
       "</div>"
      ],
      "text/plain": [
       "  driving_license  response  total  %_insur_1\n",
       "1              no         1     40   5.242464\n",
       "3             yes         1  45115  12.192386"
      ]
     },
     "execution_count": 76,
     "metadata": {},
     "output_type": "execute_result"
    }
   ],
   "source": [
    "#calculate % insurance per driving_license\n",
    "aux1 = df42[['driving_license', 'response']].groupby(['driving_license','response']).size().reset_index().rename(columns={0:'total'})\n",
    "aux1['%_insur_1'] = \"\"\n",
    "aux1 = perc(aux1)\n",
    "\n",
    "#result of %\n",
    "aux1 = aux1[(aux1['response'] >= 1)]\n",
    "aux1"
   ]
  },
  {
   "cell_type": "code",
   "execution_count": 78,
   "metadata": {
    "ExecuteTime": {
     "end_time": "2021-10-05T22:50:13.158725Z",
     "start_time": "2021-10-05T22:50:12.977836Z"
    }
   },
   "outputs": [
    {
     "data": {
      "image/png": "[encoded data removed]",
      "text/plain": [
       "<Figure size 432x576 with 1 Axes>"
      ]
     },
     "metadata": {
      "needs_background": "light"
     },
     "output_type": "display_data"
    }
   ],
   "source": [
    "#histogram insurance per driving_license (average)\n",
    "fig_dims = (6, 8)\n",
    "fig, ax = plt.subplots(figsize=fig_dims)\n",
    "\n",
    "graph = sns.barplot(x='driving_license', y='%_insur_1', ax=ax, data=aux1)\n",
    "graph.axhline(12, xmin=0.0, xmax=1.0, linestyle =\"--\", color='red')\n",
    "plt.title('% Insurance per driving license')\n",
    "plt.show()"
   ]
  },
  {
   "cell_type": "markdown",
   "metadata": {},
   "source": [
    "Owners with vehicle damaged dont hire insurances"
   ]
  },
  {
   "cell_type": "code",
   "execution_count": 89,
   "metadata": {
    "ExecuteTime": {
     "end_time": "2021-10-05T22:58:03.198436Z",
     "start_time": "2021-10-05T22:58:03.117484Z"
    }
   },
   "outputs": [],
   "source": [
    "#transform to categorical\n",
    "df42 = df4.copy()\n",
    "df42['vehicle_damage'] = df42['vehicle_damage'].apply({0:'no', 1:'yes'}.get)"
   ]
  },
  {
   "cell_type": "code",
   "execution_count": 90,
   "metadata": {
    "ExecuteTime": {
     "end_time": "2021-10-05T22:58:22.807126Z",
     "start_time": "2021-10-05T22:58:22.584264Z"
    }
   },
   "outputs": [
    {
     "data": {
      "image/png": "[encoded data removed]",
      "text/plain": [
       "<Figure size 1080x504 with 1 Axes>"
      ]
     },
     "metadata": {
      "needs_background": "light"
     },
     "output_type": "display_data"
    }
   ],
   "source": [
    "#insurance per vehicle_damage\n",
    "aux1 = df42[['vehicle_damage', 'response']].groupby('vehicle_damage').sum().reset_index().rename(columns={0:'total'})\n",
    "\n",
    "#histogram\n",
    "fig_dims = (15, 7)\n",
    "fig, ax = plt.subplots(figsize=fig_dims)\n",
    "sns.barplot(x='vehicle_damage', y='response', ax=ax, data=aux1)\n",
    "plt.title('Insurance per vehicle damage')\n",
    "plt.show()"
   ]
  },
  {
   "cell_type": "code",
   "execution_count": 91,
   "metadata": {
    "ExecuteTime": {
     "end_time": "2021-10-05T22:59:14.286329Z",
     "start_time": "2021-10-05T22:59:14.185394Z"
    }
   },
   "outputs": [
    {
     "name": "stderr",
     "output_type": "stream",
     "text": [
      "<ipython-input-3-8a614af07ed1>:7: SettingWithCopyWarning: \n",
      "A value is trying to be set on a copy of a slice from a DataFrame\n",
      "\n",
      "See the caveats in the documentation: https://pandas.pydata.org/pandas-docs/stable/user_guide/indexing.html#returning-a-view-versus-a-copy\n",
      "  x['%_insur_1'][i] = p\n"
     ]
    },
    {
     "data": {
      "text/html": [
       "<div>\n",
       "<style scoped>\n",
       "    .dataframe tbody tr th:only-of-type {\n",
       "        vertical-align: middle;\n",
       "    }\n",
       "\n",
       "    .dataframe tbody tr th {\n",
       "        vertical-align: top;\n",
       "    }\n",
       "\n",
       "    .dataframe thead th {\n",
       "        text-align: right;\n",
       "    }\n",
       "</style>\n",
       "<table border=\"1\" class=\"dataframe\">\n",
       "  <thead>\n",
       "    <tr style=\"text-align: right;\">\n",
       "      <th></th>\n",
       "      <th>vehicle_damage</th>\n",
       "      <th>response</th>\n",
       "      <th>total</th>\n",
       "      <th>%_insur_1</th>\n",
       "    </tr>\n",
       "  </thead>\n",
       "  <tbody>\n",
       "    <tr>\n",
       "      <th>1</th>\n",
       "      <td>no</td>\n",
       "      <td>1</td>\n",
       "      <td>967</td>\n",
       "      <td>0.524893</td>\n",
       "    </tr>\n",
       "    <tr>\n",
       "      <th>3</th>\n",
       "      <td>yes</td>\n",
       "      <td>1</td>\n",
       "      <td>44188</td>\n",
       "      <td>23.685551</td>\n",
       "    </tr>\n",
       "  </tbody>\n",
       "</table>\n",
       "</div>"
      ],
      "text/plain": [
       "  vehicle_damage  response  total  %_insur_1\n",
       "1             no         1    967   0.524893\n",
       "3            yes         1  44188  23.685551"
      ]
     },
     "execution_count": 91,
     "metadata": {},
     "output_type": "execute_result"
    }
   ],
   "source": [
    "#calculate % insurance per vehicle_damage\n",
    "aux1 = df42[['vehicle_damage', 'response']].groupby(['vehicle_damage','response']).size().reset_index().rename(columns={0:'total'})\n",
    "aux1['%_insur_1'] = \"\"\n",
    "aux1 = perc(aux1)\n",
    "\n",
    "#result of %\n",
    "aux1 = aux1[(aux1['response'] >= 1)]\n",
    "aux1"
   ]
  },
  {
   "cell_type": "code",
   "execution_count": 92,
   "metadata": {
    "ExecuteTime": {
     "end_time": "2021-10-05T22:59:20.166019Z",
     "start_time": "2021-10-05T22:59:19.989608Z"
    }
   },
   "outputs": [
    {
     "data": {
      "image/png": "[encoded data removed]",
      "text/plain": [
       "<Figure size 432x576 with 1 Axes>"
      ]
     },
     "metadata": {
      "needs_background": "light"
     },
     "output_type": "display_data"
    }
   ],
   "source": [
    "#histogram insurance per vehicle_damage (average)\n",
    "fig_dims = (6, 8)\n",
    "fig, ax = plt.subplots(figsize=fig_dims)\n",
    "\n",
    "graph = sns.barplot(x='vehicle_damage', y='%_insur_1', ax=ax, data=aux1)\n",
    "graph.axhline(20, xmin=0.0, xmax=1.0, linestyle =\"--\", color='red')\n",
    "plt.title('% Insurance per vehicle damage')\n",
    "plt.show()"
   ]
  },
  {
   "cell_type": "markdown",
   "metadata": {},
   "source": [
    "People previously insured hire another insurance"
   ]
  },
  {
   "cell_type": "code",
   "execution_count": 81,
   "metadata": {
    "ExecuteTime": {
     "end_time": "2021-10-05T22:54:33.076536Z",
     "start_time": "2021-10-05T22:54:33.000583Z"
    }
   },
   "outputs": [],
   "source": [
    "#transform to categorical\n",
    "df42 = df4.copy()\n",
    "df42['previously_insured'] = df42['previously_insured'].apply({0:'no', 1:'yes'}.get)"
   ]
  },
  {
   "cell_type": "code",
   "execution_count": 82,
   "metadata": {
    "ExecuteTime": {
     "end_time": "2021-10-05T22:54:33.909726Z",
     "start_time": "2021-10-05T22:54:33.684866Z"
    }
   },
   "outputs": [
    {
     "data": {
      "image/png": "[encoded data removed]",
      "text/plain": [
       "<Figure size 1080x504 with 1 Axes>"
      ]
     },
     "metadata": {
      "needs_background": "light"
     },
     "output_type": "display_data"
    }
   ],
   "source": [
    "#insurance per previously_insured\n",
    "aux1 = df42[['previously_insured', 'response']].groupby('previously_insured').sum().reset_index().rename(columns={0:'total'})\n",
    "\n",
    "#histogram\n",
    "fig_dims = (15, 7)\n",
    "fig, ax = plt.subplots(figsize=fig_dims)\n",
    "sns.barplot(x='previously_insured', y='response', ax=ax, data=aux1)\n",
    "plt.title('Insurance per previously insured')\n",
    "plt.show()"
   ]
  },
  {
   "cell_type": "code",
   "execution_count": 83,
   "metadata": {
    "ExecuteTime": {
     "end_time": "2021-10-05T22:54:34.660802Z",
     "start_time": "2021-10-05T22:54:34.567862Z"
    }
   },
   "outputs": [
    {
     "name": "stderr",
     "output_type": "stream",
     "text": [
      "<ipython-input-3-8a614af07ed1>:7: SettingWithCopyWarning: \n",
      "A value is trying to be set on a copy of a slice from a DataFrame\n",
      "\n",
      "See the caveats in the documentation: https://pandas.pydata.org/pandas-docs/stable/user_guide/indexing.html#returning-a-view-versus-a-copy\n",
      "  x['%_insur_1'][i] = p\n"
     ]
    },
    {
     "data": {
      "text/html": [
       "<div>\n",
       "<style scoped>\n",
       "    .dataframe tbody tr th:only-of-type {\n",
       "        vertical-align: middle;\n",
       "    }\n",
       "\n",
       "    .dataframe tbody tr th {\n",
       "        vertical-align: top;\n",
       "    }\n",
       "\n",
       "    .dataframe thead th {\n",
       "        text-align: right;\n",
       "    }\n",
       "</style>\n",
       "<table border=\"1\" class=\"dataframe\">\n",
       "  <thead>\n",
       "    <tr style=\"text-align: right;\">\n",
       "      <th></th>\n",
       "      <th>previously_insured</th>\n",
       "      <th>response</th>\n",
       "      <th>total</th>\n",
       "      <th>%_insur_1</th>\n",
       "    </tr>\n",
       "  </thead>\n",
       "  <tbody>\n",
       "    <tr>\n",
       "      <th>1</th>\n",
       "      <td>no</td>\n",
       "      <td>1</td>\n",
       "      <td>45001</td>\n",
       "      <td>22.461193</td>\n",
       "    </tr>\n",
       "    <tr>\n",
       "      <th>3</th>\n",
       "      <td>yes</td>\n",
       "      <td>1</td>\n",
       "      <td>154</td>\n",
       "      <td>0.090355</td>\n",
       "    </tr>\n",
       "  </tbody>\n",
       "</table>\n",
       "</div>"
      ],
      "text/plain": [
       "  previously_insured  response  total  %_insur_1\n",
       "1                 no         1  45001  22.461193\n",
       "3                yes         1    154   0.090355"
      ]
     },
     "execution_count": 83,
     "metadata": {},
     "output_type": "execute_result"
    }
   ],
   "source": [
    "#calculate % insurance per driving_license\n",
    "aux1 = df42[['previously_insured', 'response']].groupby(['previously_insured','response']).size().reset_index().rename(columns={0:'total'})\n",
    "aux1['%_insur_1'] = \"\"\n",
    "aux1 = perc(aux1)\n",
    "\n",
    "#result of %\n",
    "aux1 = aux1[(aux1['response'] >= 1)]\n",
    "aux1"
   ]
  },
  {
   "cell_type": "code",
   "execution_count": 86,
   "metadata": {
    "ExecuteTime": {
     "end_time": "2021-10-05T22:55:45.754521Z",
     "start_time": "2021-10-05T22:55:45.573053Z"
    }
   },
   "outputs": [
    {
     "data": {
      "image/png": "[encoded data removed]",
      "text/plain": [
       "<Figure size 432x576 with 1 Axes>"
      ]
     },
     "metadata": {
      "needs_background": "light"
     },
     "output_type": "display_data"
    }
   ],
   "source": [
    "#histogram insurance per previously_insured (average)\n",
    "fig_dims = (6, 8)\n",
    "fig, ax = plt.subplots(figsize=fig_dims)\n",
    "\n",
    "graph = sns.barplot(x='previously_insured', y='%_insur_1', ax=ax, data=aux1)\n",
    "graph.axhline(20, xmin=0.0, xmax=1.0, linestyle =\"--\", color='red')\n",
    "plt.title('% Insurance per previously insured')\n",
    "plt.show()"
   ]
  },
  {
   "cell_type": "markdown",
   "metadata": {},
   "source": [
    "Higher than 50K annual premium there are more insurances"
   ]
  },
  {
   "cell_type": "code",
   "execution_count": 127,
   "metadata": {
    "ExecuteTime": {
     "end_time": "2021-10-05T23:49:52.220026Z",
     "start_time": "2021-10-05T23:49:52.189045Z"
    }
   },
   "outputs": [],
   "source": [
    "df4 = df3.copy()"
   ]
  },
  {
   "cell_type": "code",
   "execution_count": 118,
   "metadata": {
    "ExecuteTime": {
     "end_time": "2021-10-05T23:42:36.456586Z",
     "start_time": "2021-10-05T23:42:35.705021Z"
    }
   },
   "outputs": [],
   "source": [
    "df42['annual_premium_2'] = df4['annual_premium'].apply(lambda x: '10' if x <= 10000 else x)\n",
    "df42['annual_premium_2'] = df4['annual_premium'].apply(lambda x: '15' if (x > 10000 and x <= 20000) else x)\n",
    "df42['annual_premium_2'] = df4['annual_premium'].apply(lambda x: '20' if (x > 20000 and x <= 30000) else x)\n",
    "df42['annual_premium_2'] = df4['annual_premium'].apply(lambda x: '30' if (x > 30000 and x <= 40000) else x)\n",
    "df42['annual_premium_2'] = df4['annual_premium'].apply(lambda x: '40' if (x > 40000 and x <= 50000) else x)\n",
    "df42['annual_premium_2'] = df4['annual_premium'].apply(lambda x: '50' if (x > 50000 and x <= 60000) else x)\n",
    "df42['annual_premium_2'] = df4['annual_premium'].apply(lambda x: '60' if x > 60000 else x)"
   ]
  },
  {
   "cell_type": "code",
   "execution_count": 128,
   "metadata": {
    "ExecuteTime": {
     "end_time": "2021-10-05T23:50:11.980096Z",
     "start_time": "2021-10-05T23:49:54.189024Z"
    }
   },
   "outputs": [],
   "source": [
    "df42['annual_premium_2'] = df4.apply(lambda x: '10' if x['annual_premium'] <= 10000 else ''\n",
    "                                                      '15' if (x['annual_premium'] > 10000 and x['annual_premium'] <= 20000) else '' \n",
    "                                                      '20' if (x['annual_premium'] > 20000 and x['annual_premium'] <= 30000) else '' \n",
    "                                                      '30' if (x['annual_premium'] > 30000 and x['annual_premium'] <= 40000) else '' \n",
    "                                                      '40' if (x['annual_premium'] > 40000 and x['annual_premium'] <= 50000) else ''    \n",
    "                                                      '50' if (x['annual_premium'] > 50000 and x['annual_premium'] <= 60000) else ''   \n",
    "                                                      '60' if x['annual_premium'] > 60000 else '', axis = 1)\n"
   ]
  },
  {
   "cell_type": "code",
   "execution_count": 129,
   "metadata": {
    "ExecuteTime": {
     "end_time": "2021-10-05T23:50:12.218848Z",
     "start_time": "2021-10-05T23:50:11.982093Z"
    }
   },
   "outputs": [],
   "source": [
    "df43['annual_premium_2'] = pd.to_numeric(df42['annual_premium_2'],errors = 'coerce')"
   ]
  },
  {
   "cell_type": "code",
   "execution_count": 131,
   "metadata": {
    "ExecuteTime": {
     "end_time": "2021-10-05T23:50:44.548433Z",
     "start_time": "2021-10-05T23:50:44.514454Z"
    }
   },
   "outputs": [],
   "source": [
    "#transform to categorical\n",
    "#df43 = df42.copy()\n",
    "df42['annual_premium_2'] = df43['annual_premium_2'].apply({10:'< 10K', 15:'10 - 20K', 20: '20 - 30K', 30: '30 - 40K', 40: '40 - 50K', 50: '50 - 60K', 60: '> 60K'}.get)"
   ]
  },
  {
   "cell_type": "code",
   "execution_count": 132,
   "metadata": {
    "ExecuteTime": {
     "end_time": "2021-10-05T23:50:46.592223Z",
     "start_time": "2021-10-05T23:50:46.259430Z"
    }
   },
   "outputs": [
    {
     "data": {
      "image/png": "[encoded data removed]",
      "text/plain": [
       "<Figure size 1080x504 with 1 Axes>"
      ]
     },
     "metadata": {
      "needs_background": "light"
     },
     "output_type": "display_data"
    }
   ],
   "source": [
    "#insurance per annual_premium\n",
    "aux1 = df42[['annual_premium_2', 'response']].groupby('annual_premium_2').sum().reset_index().rename(columns={0:'total'})\n",
    "\n",
    "#histogram\n",
    "fig_dims = (15, 7)\n",
    "fig, ax = plt.subplots(figsize=fig_dims)\n",
    "sns.barplot(x='annual_premium_2', y='response', ax=ax, data=aux1)\n",
    "plt.title('Insurance annual premium')\n",
    "plt.show()"
   ]
  },
  {
   "cell_type": "code",
   "execution_count": 133,
   "metadata": {
    "ExecuteTime": {
     "end_time": "2021-10-05T23:50:50.167329Z",
     "start_time": "2021-10-05T23:50:50.076388Z"
    }
   },
   "outputs": [
    {
     "name": "stderr",
     "output_type": "stream",
     "text": [
      "<ipython-input-3-8a614af07ed1>:7: SettingWithCopyWarning: \n",
      "A value is trying to be set on a copy of a slice from a DataFrame\n",
      "\n",
      "See the caveats in the documentation: https://pandas.pydata.org/pandas-docs/stable/user_guide/indexing.html#returning-a-view-versus-a-copy\n",
      "  x['%_insur_1'][i] = p\n"
     ]
    }
   ],
   "source": [
    "#% insurance per age - %\n",
    "aux1 = df43[['annual_premium_2', 'response']].groupby(['annual_premium_2','response']).size().reset_index().rename(columns={0:'total'})\n",
    "aux1['%_insur_1'] = \"\"\n",
    "aux1 = perc(aux1)"
   ]
  },
  {
   "cell_type": "code",
   "execution_count": 134,
   "metadata": {
    "ExecuteTime": {
     "end_time": "2021-10-05T23:51:37.861825Z",
     "start_time": "2021-10-05T23:51:37.830846Z"
    }
   },
   "outputs": [
    {
     "data": {
      "text/html": [
       "<div>\n",
       "<style scoped>\n",
       "    .dataframe tbody tr th:only-of-type {\n",
       "        vertical-align: middle;\n",
       "    }\n",
       "\n",
       "    .dataframe tbody tr th {\n",
       "        vertical-align: top;\n",
       "    }\n",
       "\n",
       "    .dataframe thead th {\n",
       "        text-align: right;\n",
       "    }\n",
       "</style>\n",
       "<table border=\"1\" class=\"dataframe\">\n",
       "  <thead>\n",
       "    <tr style=\"text-align: right;\">\n",
       "      <th></th>\n",
       "      <th>index</th>\n",
       "      <th>above 50</th>\n",
       "      <th>less 50</th>\n",
       "    </tr>\n",
       "  </thead>\n",
       "  <tbody>\n",
       "    <tr>\n",
       "      <th>0</th>\n",
       "      <td>mean age</td>\n",
       "      <td>55.000000</td>\n",
       "      <td>23.000000</td>\n",
       "    </tr>\n",
       "    <tr>\n",
       "      <th>1</th>\n",
       "      <td>response</td>\n",
       "      <td>1.000000</td>\n",
       "      <td>1.000000</td>\n",
       "    </tr>\n",
       "    <tr>\n",
       "      <th>2</th>\n",
       "      <td>mean quant</td>\n",
       "      <td>1672.000000</td>\n",
       "      <td>8362.200000</td>\n",
       "    </tr>\n",
       "    <tr>\n",
       "      <th>3</th>\n",
       "      <td>average % insur</td>\n",
       "      <td>15.354414</td>\n",
       "      <td>11.465135</td>\n",
       "    </tr>\n",
       "  </tbody>\n",
       "</table>\n",
       "</div>"
      ],
      "text/plain": [
       "             index     above 50      less 50\n",
       "0         mean age    55.000000    23.000000\n",
       "1         response     1.000000     1.000000\n",
       "2       mean quant  1672.000000  8362.200000\n",
       "3  average % insur    15.354414    11.465135"
      ]
     },
     "execution_count": 134,
     "metadata": {},
     "output_type": "execute_result"
    }
   ],
   "source": [
    "#divide bewtween two groups between and outside 30\n",
    "aux1 = aux1[(aux1['response'] == 1)]\n",
    "aux_50 = aux1[(aux1['annual_premium_2'] >= 50)]\n",
    "aux_50 = pd.DataFrame(aux_50.apply(np.mean)).T\n",
    "\n",
    "aux_49 = aux1.loc[(aux1['annual_premium_2'] < 50)]\n",
    "aux_49 = pd.DataFrame(aux_49.apply(np.mean)).T\n",
    "\n",
    "#result of average\n",
    "m = pd.concat([aux_50, aux_49]).T.reset_index()\n",
    "m.columns = ['index','above 50','less 50']\n",
    "#m.drop(['response'], axis=1)\n",
    "m['index'] = {'mean age': 0, 'response': 1, 'mean quant': 2, 'average % insur': 3}\n",
    "m"
   ]
  },
  {
   "cell_type": "code",
   "execution_count": null,
   "metadata": {},
   "outputs": [],
   "source": []
  }
 ],
 "metadata": {
  "kernelspec": {
   "display_name": "Python 3",
   "language": "python",
   "name": "python3"
  },
  "language_info": {
   "codemirror_mode": {
    "name": "ipython",
    "version": 3
   },
   "file_extension": ".py",
   "mimetype": "text/x-python",
   "name": "python",
   "nbconvert_exporter": "python",
   "pygments_lexer": "ipython3",
   "version": "3.8.5"
  }
 },
 "nbformat": 4,
 "nbformat_minor": 4
}
