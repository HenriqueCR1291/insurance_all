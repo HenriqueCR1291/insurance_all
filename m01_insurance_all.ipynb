{
 "cells": [
  {
   "cell_type": "code",
   "execution_count": null,
   "metadata": {},
   "outputs": [],
   "source": []
  },
  {
   "cell_type": "markdown",
   "metadata": {},
   "source": [
    "A **Insurance All** é uma empresa que fornece seguro de saúde para seus clientes e o time de produtos está analisando a possibilidade de oferecer aos assegurados, um novo produto: Um seguro de automóveis.\n",
    "\n",
    "Assim como o seguro de saúde, os clientes desse novo plano de seguro de automóveis precisam pagar um valor anualmente à Insurance All para obter um valor assegurado pela empresa, destinado aos custos de um eventual acidente ou dano ao veículo.\n",
    "\n",
    "A Insurance All fez uma pesquisa com cerca de 380 mil clientes sobre o interesse em aderir a um novo produto de seguro de automóveis, no ano passado. Todos os clientes demonstraram interesse ou não em adquirir o seguro de automóvel e essas respostas ficaram salvas em um banco de dados junto com outros atributos dos clientes.\n",
    "\n",
    "O time de produtos selecionou 127 mil novos clientes que não responderam a pesquisa para participar de uma campanha, no qual receberão a oferta do novo produto de seguro de automóveis. A oferta será feita pelo time de vendas através de ligações telefônicas.\n",
    "\n",
    "Contudo, o time de vendas tem uma capacidade de realizar 20 mil ligações dentro do período da campanha."
   ]
  },
  {
   "cell_type": "markdown",
   "metadata": {},
   "source": [
    "Nesse contexto, você foi contratado como um consultor de Ciência de Dados para construir um modelo que prediz se o cliente estaria ou não interessado no seguro de automóvel. \n",
    "\n",
    "Com a sua solução, o time de vendas espera conseguir priorizar as pessoas com maior interesse no novo produto e assim, otimizar a campanha realizando apenas contatos aos clientes mais propensos a realizar a compra.\n",
    "\n",
    "Como resultado da sua consultoria, você precisará entregar um relatório contendo algumas análises e respostas às seguintes perguntas:\n",
    "\n",
    "1) Principais Insights sobre os atributos mais relevantes de clientes interessados em adquirir um seguro de automóvel.\n",
    "\n",
    "2) Qual a porcentagem de clientes interessados em adquirir um seguro de automóvel, o time de vendas conseguirá contatar fazendo 20.000 ligações?\n",
    "\n",
    "3) E se a capacidade do time de vendas aumentar para 40.000 ligações, qual a porcentagem de clientes interessados em adquirir um seguro de automóvel o time de vendas conseguirá contatar?\n",
    "\n",
    "4) Quantas ligações o time de vendas precisa fazer para contatar 80% dos clientes interessados em adquirir um seguro de automóvel?"
   ]
  },
  {
   "cell_type": "markdown",
   "metadata": {},
   "source": [
    "**Business Problem**\n",
    "\n",
    "Principais Insights sobre os atributos mais relevantes de clientes interessados em adquirir um seguro de automóvel.\n",
    "\n",
    "\n",
    "**Final Product**\n",
    "1. Lista com os principais insights dos atributos dos clientes\n",
    "\n",
    "2. Formato da entrega\n",
    "    Tabela\n",
    "    \n",
    "3. Local da entrega\n",
    "    Telegram\n",
    "\n",
    "\n",
    "**Process**\n",
    "1. Passo a passo\n",
    "    - Realizar feature engineering nos dados dos clientes interessados e levantar as hipóteses para cada atributo a ser validada; \n",
    "    - No EDA validar as hipóteses e identificar insights dos clientes interessados;\n",
    "\n",
    "2. Definir o formato da entrega (visualizaçao, tabela, frase)\n",
    "    - Gráficos de barras com a mediana dos preços dos produtos, por tipo e cor dos últimos 30 dias.\n",
    "    - Utilizar os seguintes parâmetros: Id | Gender | Age | Driving License | Region Code | Previously Insured | Vehicle Age | Vehicle Damage | Anual Premium | Policy sales channel | Vintage |\n",
    "    - Definiçao do schema: colunas e seu tipo\n",
    "    - Definição da infraestrutura de armazenamento (SQLITE3)\n",
    "    - Design do ETL (Scripts de Extração, Transformação e Carga)\n",
    "    - Planejamento de agendamento dos scripts (dependência entre os scripts)\n",
    "    - Fazer as visualizações\n",
    "    - Entrega do produto final\n",
    "\n",
    "3. Decidir o local de entrega (powerBi, telegram, email, streamlit, intranet)\n",
    "    - PowerBI, Telegram\n",
    "    \n",
    "    \n",
    "**Enter**\n",
    "1. Fonte de dados:\n",
    "    - Site da Kaggle\n",
    "    - BD na AWS\n",
    "\n",
    "2. Ferramentas:\n",
    "    - Pyhton 3.8.0\n",
    "    - AWS\n",
    "    - Pycharm\n",
    "    - Jupyter Notebook (análises e prototipagens)\n",
    "    - Crontjob, Airflow\n",
    "    - Streamlit\n",
    "    - PowerBI\n",
    "    - Telegram"
   ]
  },
  {
   "cell_type": "code",
   "execution_count": null,
   "metadata": {},
   "outputs": [],
   "source": []
  }
 ],
 "metadata": {
  "kernelspec": {
   "display_name": "Python 3",
   "language": "python",
   "name": "python3"
  },
  "language_info": {
   "codemirror_mode": {
    "name": "ipython",
    "version": 3
   },
   "file_extension": ".py",
   "mimetype": "text/x-python",
   "name": "python",
   "nbconvert_exporter": "python",
   "pygments_lexer": "ipython3",
   "version": "3.8.5"
  }
 },
 "nbformat": 4,
 "nbformat_minor": 4
}
